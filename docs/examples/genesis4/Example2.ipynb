{
 "cells": [
  {
   "cell_type": "markdown",
   "id": "2d232d11-a8b7-4d3b-85d6-0c373752b24f",
   "metadata": {},
   "source": [
    "# Example 2\n",
    "\n",
    "**This is adapted from https://github.com/svenreiche/Genesis-1.3-Version4/tree/master/examples/Example2-Dumps**\n",
    "\n",
    "The internal data of genesis is represented by wavefronts for the fields and the 6D particle distribution for electrons. They contain more information than the output of the main output file.\n",
    "\n",
    "Genesis supports to export the information to external files, also called dumps.\n",
    "\n",
    "This example will show the three methods to utilize dumps."
   ]
  },
  {
   "cell_type": "code",
   "execution_count": null,
   "id": "6535316e-adb6-424f-9d90-f897980eec6e",
   "metadata": {},
   "outputs": [],
   "source": [
    "import matplotlib.animation as animation\n",
    "import matplotlib.pyplot as plt\n",
    "import numpy as np\n",
    "\n",
    "from genesis.version4 import Genesis4\n",
    "\n",
    "%config InlineBackend.figure_format = 'retina'  # Nicer plots"
   ]
  },
  {
   "cell_type": "markdown",
   "id": "37e0cf40-2cb1-48c3-befd-6973b342dab3",
   "metadata": {},
   "source": [
    "## Markers\n",
    "Markers in the lattice file can trigger the output of either field or particle distribution. To enable outputting the \n",
    "lattice file from `Example1.lat` is modified with these lines (replacing the previous definition of the FODO cell of example 1):\n",
    "\n",
    "```\n",
    "M: MARKER = {dumpfield = 1};\n",
    "FODO: LINE={UND,D1,QF,D2,UND,D1,QD,D2,M};\n",
    "```\n",
    "\n",
    "Markers are zero length element and do not add to the total length of the lattice. In this case the Marker is added to the end of the FODO cell.\n",
    "With 6 cells in the full lattice there will be 6 field dumps. They are prefixed with the `rootname` (as in the `setup` namelist) and have the extension \n",
    "```.fld.h5```. To differentiate the different outputs the name has also the integration step number in between the `rootname` and the extension. For example, integration step 184 would have the filename ```Example2.184.fld.h5```."
   ]
  },
  {
   "cell_type": "markdown",
   "id": "102ceec1-e89c-4239-a405-b89fb8164975",
   "metadata": {},
   "source": [
    "## Dumps Outside of Tracking\n",
    "\n",
    "The namelist `write` in the main input file can write the field or particle distribution at any point outside of the tracking.\n",
    "In this example, the input file has the `write` namelist:\n",
    "```\n",
    "&write\n",
    "field = dump\n",
    "&end\n",
    "```\n",
    "This will write the field distribution with the name ```dump.fld.h5```. The extension is included automatically, so you do not specify it in the namelist.\n",
    "\n",
    "Since Genesis has executed the tracking before, the field distribution represents the state at the end of the tracked beamline. In our case this is the end of the undulator."
   ]
  },
  {
   "cell_type": "markdown",
   "id": "5869de2c-8571-4142-a9e3-89ec1ec8937a",
   "metadata": {},
   "source": [
    "## Periodic Output While Tracking\n",
    "\n",
    "The last method for dumping data is to define in the `track` namelist the number of integration steps after which a dump is issued.\n",
    "For this example, we modify it to output after every second integration step:\n",
    "\n",
    "```\n",
    "&track\n",
    "beam_dump_step = 2\n",
    "&end\n",
    "```\n",
    "In total about 600 files will be generated with this method, with the filename suffixes including the integration step number.\n",
    "\n",
    "Note that generating dumps at each step can cause to a large number of files. In particular for time-dependent runs,\n",
    "the size per dump can be large (on the order of gigabytes) and generating hundreds of them may fill up your disk faster than you expect.\n"
   ]
  },
  {
   "cell_type": "markdown",
   "id": "413c1544-f5c0-41ee-954c-b109dbab060f",
   "metadata": {},
   "source": [
    "## Running the example\n",
    "\n",
    "Running ```Example2.in``` causes the additional output when ever a dump file is generated. Also for a better illustraiton of the output, the\n",
    "energy spread of the beam has been reduced to \n",
    "```\n",
    "delgam=0.100000\n",
    "```\n",
    "for a better display of the FEL process."
   ]
  },
  {
   "cell_type": "code",
   "execution_count": null,
   "id": "c19f3d93-4d99-495c-be3a-876df5a877c8",
   "metadata": {},
   "outputs": [],
   "source": [
    "G = Genesis4(\"data/example2-dumps/Example2.in\")"
   ]
  },
  {
   "cell_type": "code",
   "execution_count": null,
   "id": "5e9a8ed7-4df1-42df-9d06-60f8b3f0615f",
   "metadata": {},
   "outputs": [],
   "source": [
    "G.verbose = True\n",
    "output = G.run()"
   ]
  },
  {
   "cell_type": "code",
   "execution_count": null,
   "id": "8fc9e38a-ad06-4c83-9be0-1c6ddb166f49",
   "metadata": {},
   "outputs": [],
   "source": [
    "G.plot([\"beam_xsize\", \"beam_ysize\", \"field_xsize\", \"field_ysize\"], figsize=(8, 8))"
   ]
  },
  {
   "cell_type": "code",
   "execution_count": null,
   "id": "94428ce0-f517-493e-93f1-7d94989c449e",
   "metadata": {},
   "outputs": [],
   "source": [
    "print(\"Loaded fields:\", output.load_fields())\n",
    "print(\"Total loaded particles files=\", len(output.load_particles()))"
   ]
  },
  {
   "cell_type": "markdown",
   "id": "2e1c5b3c-6737-4c11-b03f-ed59855a9456",
   "metadata": {},
   "source": [
    "# Wavefront\n",
    "\n",
    "Wavefront distribution after the first 4 FODO cells. Note that the output seems noisy, which comes from the limited number of macro particles in the simulation and  the reduced diffraction in the Angstrom wavelength regime."
   ]
  },
  {
   "cell_type": "code",
   "execution_count": null,
   "id": "0c9404a2-1397-47e1-b03c-a69112944d4a",
   "metadata": {},
   "outputs": [],
   "source": [
    "def get_slice(field, slc: int) -> np.ndarray:\n",
    "    return field.dfl[:, :, slc]\n",
    "\n",
    "\n",
    "def get_wavefront(field, slice=0):\n",
    "    # inten = np.reshape(fre * fre + fim * fim, (ng, ng))\n",
    "    inten = np.abs(get_slice(field, slice) ** 2)\n",
    "    return inten, field.param.gridsize * (field.param.gridpoints - 1) * 0.5 * 1e3\n",
    "\n",
    "\n",
    "# plot wavefront\n",
    "istep = 184\n",
    "_, axs = plt.subplots(2, 2, figsize=(8, 8))\n",
    "color = \"yellow\"\n",
    "for i1 in range(2):\n",
    "    for i2 in range(2):\n",
    "        i = (i2 * 2 + i1 + 1) * istep\n",
    "        inten, dg = get_wavefront(output.field3d[i], slice=0)\n",
    "        axs[i2, i1].imshow(inten, extent=(-dg, dg, -dg, dg))\n",
    "        txt = r\"$z$ = %3.1f m\" % (9.5 * (i2 * 2 + i1 + 1))\n",
    "        axs[i2, i1].text(-0.15, 0.15, txt, color=color)\n",
    "\n",
    "axs[1, 0].set_xlabel(r\"$x$ (mm)\")\n",
    "axs[1, 1].set_xlabel(r\"$x$ (mm)\")\n",
    "axs[0, 0].set_ylabel(r\"$y$ (mm)\")\n",
    "axs[1, 0].set_ylabel(r\"$y$ (mm)\")\n",
    "plt.show()"
   ]
  },
  {
   "cell_type": "markdown",
   "id": "3aa4795e-f431-4b45-99ce-b6b66091eae0",
   "metadata": {},
   "source": [
    "## Longitudinal Phasespace Distribution\n",
    "\n",
    "This is snapshot of the longitudinal phase space of the electron beam towards the end of the undulator beamline. The x-axis coordinate is the ponderomotive phase, which is given by the longidutinal position multiplied with the wavenumber of the resonant wavelength. In this case, it corresponds to a slice thickness of 1 Angstrom."
   ]
  },
  {
   "cell_type": "code",
   "execution_count": null,
   "id": "616ad51a-41ab-4242-bfe4-55e9e7ed3917",
   "metadata": {},
   "outputs": [],
   "source": [
    "def get_phase_space(particles, lambda0):\n",
    "    theta = np.mod(particles.z / lambda0, 1) * 2 * np.pi\n",
    "    return theta, particles.energy\n",
    "\n",
    "\n",
    "# get range for phase space plots\n",
    "emin = np.min(output.beam.emin)\n",
    "emax = np.max(output.beam.emax)\n",
    "xmin = np.min(output.beam.xmin)\n",
    "xmax = np.max(output.beam.xmax)\n",
    "\n",
    "# plot final phase space\n",
    "theta, energy = get_phase_space(\n",
    "    output.particles[700], lambda0=G.input.main.setup.lambda0\n",
    ")\n",
    "plt.scatter(theta, energy / 1e9, s=0.2)\n",
    "plt.xlabel(r\"$\\theta$ (rad)\")\n",
    "plt.ylabel(r\"$E$ (GeV)\")\n",
    "plt.ylim(xmin, xmax)\n",
    "plt.ylim(emin / 1e9, emax / 1e9)\n",
    "plt.show()"
   ]
  },
  {
   "cell_type": "markdown",
   "id": "0a001969-ff29-479a-966b-5621b5481d59",
   "metadata": {},
   "source": [
    "# Animate phase space"
   ]
  },
  {
   "cell_type": "markdown",
   "id": "82f47542-6a9e-4d9b-8587-f1b0de18f0d1",
   "metadata": {},
   "source": [
    "## Animation 1\n",
    "\n",
    "With the dump of the electron phase space after every second integration step, the python script generates two animation. One for the longitudinal phase space, similar to the plot above.  The other is the distribution in the horizontal plane.\n",
    "\n",
    "Here the formation of the micro bunching can be seen with its initial modulation in energy to roughly a quarter rotation in phase space. A significant part of electrons are not modulated. These corresponds for electrons with large betatron amplitude, which cannot stay in resonance with the radiation field."
   ]
  },
  {
   "cell_type": "code",
   "execution_count": null,
   "id": "2b40eb4e-d80d-4680-80a3-6f99a8f686d7",
   "metadata": {},
   "outputs": [],
   "source": [
    "from IPython.display import Video\n",
    "\n",
    "fig = plt.figure()\n",
    "ax = plt.axes(xlim=(0, 2 * np.pi), ylim=(emin / 1e9, emax / 1e9))\n",
    "ax.set_xlabel(r\"$\\theta$ (rad)\")\n",
    "ax.set_ylabel(r\"$E$ (GeV)\")\n",
    "scat = ax.scatter([], [], s=0.2)\n",
    "\n",
    "\n",
    "def init():\n",
    "    scat.set_offsets(np.empty((0, 2)))\n",
    "    return (scat,)\n",
    "\n",
    "\n",
    "def animate(i):\n",
    "    theta, energy = get_phase_space(\n",
    "        output.particles[2 * i], lambda0=G.input.main.setup.lambda0\n",
    "    )\n",
    "    scat.set_offsets(np.hstack((theta[:, np.newaxis], energy[:, np.newaxis] / 1e9)))\n",
    "    return (scat,)\n",
    "\n",
    "\n",
    "# We could also get individual frames by doing the following:\n",
    "# animate(1)\n",
    "\n",
    "anim = animation.FuncAnimation(\n",
    "    fig,\n",
    "    animate,\n",
    "    init_func=init,\n",
    "    blit=False,\n",
    "    interval=20,\n",
    "    frames=500,\n",
    ")\n",
    "anim.save(\"Animation1.mp4\")\n",
    "\n",
    "# Hide our plot and then show the final animation:\n",
    "plt.close()\n",
    "Video(\"Animation1.mp4\")"
   ]
  },
  {
   "cell_type": "markdown",
   "id": "2f2743a3-185d-4a01-a8e8-a692312ac817",
   "metadata": {},
   "source": [
    "## Animation 2\n",
    "\n",
    "The breathing in the transverse size comes from the focusing of the FODO lattice. Note that electrons with large amplitude have the tendency to fall backwards quickly. They cannot stay in resonance and thus do not get modulated in energy.\n",
    "\n",
    "The small jerks in the animation corresponds to the phase shifter, since in the drift there is a phase velocity mismatch between field and beam. To correct that a phase shifter adjust the phase. In Genesis this is done automatically via `autophase`."
   ]
  },
  {
   "cell_type": "code",
   "execution_count": null,
   "id": "e8d0cf7d-9a92-4158-8e39-03516a472487",
   "metadata": {},
   "outputs": [],
   "source": [
    "fig = plt.figure()\n",
    "ax = plt.axes(xlim=(0, 2 * np.pi), ylim=(xmin * 1e6, xmax * 1e6))\n",
    "ax.set_xlabel(r\"$\\theta$ (rad)\")\n",
    "ax.set_ylabel(r\"$x$ ($\\mu$m)\")\n",
    "scat = ax.scatter([], [])\n",
    "\n",
    "\n",
    "def animate2(i):\n",
    "    particles = output.particles[2 * i]\n",
    "    theta, _ = get_phase_space(particles, lambda0=G.input.main.setup.lambda0)\n",
    "    scat.set_offsets(\n",
    "        np.hstack((theta[:, np.newaxis], particles.x[:, np.newaxis] * 1e6))\n",
    "    )\n",
    "    return (scat,)\n",
    "\n",
    "\n",
    "# We could also get individual frames by doing the following:\n",
    "# animate2(1)\n",
    "\n",
    "anim = animation.FuncAnimation(\n",
    "    fig,\n",
    "    animate2,\n",
    "    init_func=init,\n",
    "    blit=False,\n",
    "    interval=20,\n",
    "    frames=500,\n",
    ")\n",
    "anim.save(\"Animation2.mp4\")\n",
    "\n",
    "# Hide our plot and then show the final animation:\n",
    "plt.close()\n",
    "Video(\"Animation2.mp4\")"
   ]
  }
 ],
 "metadata": {
  "kernelspec": {
   "display_name": "Python 3 (ipykernel)",
   "language": "python",
   "name": "python3"
  },
  "language_info": {
   "codemirror_mode": {
    "name": "ipython",
    "version": 3
   },
   "file_extension": ".py",
   "mimetype": "text/x-python",
   "name": "python",
   "nbconvert_exporter": "python",
   "pygments_lexer": "ipython3",
   "version": "3.12.3"
  }
 },
 "nbformat": 4,
 "nbformat_minor": 5
}
