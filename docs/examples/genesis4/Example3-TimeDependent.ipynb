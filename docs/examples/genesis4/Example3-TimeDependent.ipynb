{
 "cells": [
  {
   "cell_type": "markdown",
   "id": "d677c18e-bbc8-4082-8dd5-3008723cb3fc",
   "metadata": {},
   "source": [
    "## Example 3: Time-dependent Simulation\n",
    "\n",
    "**This is adapted from https://github.com/svenreiche/Genesis-1.3-Version4/tree/master/examples/Example3-TimeDependent**\n",
    "\n",
    "Example 3, as a time-dependent simulation, differs from steady-state simulation by tracking multiple slices of the electron bunch through the undulator. This\n",
    "allows to resolve a band of frequencies, depending on the sample rate of the electron slices.\n",
    "\n",
    "**Warning** this example requires a lot of memory and processor cores in order to be run in a reasonable amount of time. Your laptop may not be sufficient.\n",
    "\n",
    "By convention, a set of slices is defined in the bunch-frame, which moves with the speed of the electrons. Therefore mostly the electrons stay at the same location while the radiation slips forward, namely by one wavelength per undulator period. In Genesis4 the coordinate \n",
    "in the bunch frame is given by `s`. This shouldn't be confused with `z` which is the position in the undulator where the bunch frame is evaluated. \n",
    "In the underlying model the variable `z` acts as the independent variable of a proposed Hamiltonian.\n",
    "\n",
    "This example is based on the steady-state input deck of Example 1. To run time-dependent simulations, the lattice file does not need to be changed. \n",
    "\n",
    "#### Input File\n",
    "\n",
    "The definition of the beam-frame is done with the `&time` namelist:\n",
    "\n",
    "```\n",
    "&time\n",
    "slen = 20e-6\n",
    "sample = 3\n",
    "&end\n",
    "```\n",
    "\n",
    "Here the total length is 20 µm, with a sample rate of 3 times the reference wavelength (defined as `gammaref` in the main `setup` namelist).\n",
    "\n",
    "The sample rate cannot be smaller than 1 but can be increased as long as the sample rate is still smaller than the cooperation length. The choice of the sample rate also defines the spectral bandwidth according to Nyquist theorem. For the maximum sample rate the frequency is +/-50% around the central frequency. \n",
    "\n",
    "With a larger sample rate, the bandwidth is restricted to `+/- 50/sample` percent.  Due to the underlying solver, the FEL must be well within the given bandwidth of the simulation. Genesis does not verify that this is the case, so it is up to you.  An example of such a scenario would be a simulation with a very large energy chirp in the electron beam or seed signal that is very different from the central frequency. On the other hand, the resonant frequency of the FEL does not need to be exactly the same as the central frequency.\n",
    "\n",
    "There is also one possible pitfall that the desired integration step size is not in conflict with the sample rate. This example configures an integration step size of 45 mm, which corresponds to three undulator periods. This means that after one single integration step, the field is pushed three wavelength.\n",
    "\n",
    "If the sample rate is smaller (e.g., `sample = 1`), then after one integration step the field jumps over electron slices without interaction.\n",
    "As an example for `sample = 1` the field in slice is copied from slice `i` to slice `i+3`.  There is no interaction with slice `i+1` and `i+2`. As a consequence, the simulation acts as three independent simulations with a sample rate of `3`.  For this reason the example uses a sample rate of `3`.\n",
    "\n",
    "To illustrate a time-varying input parameter, we set up the simulation for a Gaussian current profile and a linear chirp.\n",
    "\n",
    "For that some profiles are defined with \n",
    "```asm\n",
    "&profile_gauss\n",
    "label=current\n",
    "c0 = 2500\n",
    "s0 = 10e-6\n",
    "sig = 6e-6\n",
    "&end\n",
    "\n",
    "&profile_polynom\n",
    "label=energy\n",
    "c0=11347.\n",
    "c1=1e7.\n",
    "&end\n",
    "```\n",
    "The upper is the current profile with an rms length of 6 microns. Since the beam frame is defined for 20 microns, starting at s=0 micron. The peak of the Gaussian is placed at s=10 microns with the `s0` parameter.\n",
    "\n",
    "The lower namelist is the energy chirp of the electron bunch. That namelist supports higher polynomial order but the corresponding coefficent are defaulting to zero.\n",
    "Here only the constant and linear term is defined.\n",
    "\n",
    "To assign these profiles to the beam parameters they are referred to by their name:\n",
    "\n",
    "```asm\n",
    "&beam\n",
    "current=@current\n",
    "gamma = @energy\n",
    "...\n",
    "&end\n",
    "```\n",
    "\n",
    "Time-simulation using much more resources than steady-state simulation and sufficient memory much be provided for storing the entire beam and field in memory.\n",
    "Also the output files can be very large. Therefore it is better to reduced them.\n",
    "One method is to only generate output after a given count of integration step. This is done in the track namelist with:\n",
    "\n",
    "```asm\n",
    "&track\n",
    "output_step=3\n",
    "&end\n",
    "```\n",
    "In this case after each 3rd integration step there will be an output\n",
    "\n",
    "The other method is to exclude certain fields in the output in combination for a collective output of all slices, such as the mean energy in the electron beam.\n",
    "\n",
    "This is configured in the setup namelist:\n",
    "\n",
    "```asm\n",
    "&setup\n",
    "...\n",
    "field_global_stat = true\n",
    "beam_global_stat = true\n",
    "exclude_spatial_output = true\n",
    "exclude_fft_output = true\n",
    "&end\n",
    "```\n",
    "\n",
    "`exclude_spatial_output` supresses any spatial information (cente rposition and rms sizes) while `exclude_fft_output` affects the field divergence. The simulation runs a little bit faster with this configured since the 2D FFT of the field wave-fronts can be CPU intensive.\n",
    "\n",
    "Global stats parameters can be found in the HDF5 group `/Global` in the corresponding field or beam group.\n",
    "\n",
    "The last step to run a SASE simulation to set the radiation power to zero and set the `shotnoise` parameter in the `setup` namelist to `1`."
   ]
  },
  {
   "cell_type": "code",
   "execution_count": 1,
   "id": "97fbdcff-4cfe-4791-a8c0-3cef5e0e485e",
   "metadata": {},
   "outputs": [],
   "source": [
    "import matplotlib.pyplot as plt\n",
    "import numpy as np\n",
    "\n",
    "from genesis.version4 import Genesis4\n",
    "\n",
    "%config InlineBackend.figure_format = 'retina'  # Nicer plots"
   ]
  },
  {
   "cell_type": "markdown",
   "id": "cbb86085-126c-4297-8ba2-be0494ca1869",
   "metadata": {},
   "source": [
    "## Running the simulation\n",
    "\n",
    "Since the simulation is tracking thousands of slice instead of a single slice for steady-state simulation, Genesis should be started with the `mpirun` command and run on multiple cores.\n",
    "\n",
    "Here, we tell Genesis4 to automatically detect our core count and use MPI if available.\n",
    "\n",
    "The number of cores chosen by MPI will be shown in the output:\n",
    "```\n",
    "MPI-Comm Size: 12 nodes\n",
    "```\n",
    "This indicates it will be parallelized across 12 cores."
   ]
  },
  {
   "cell_type": "code",
   "execution_count": 6,
   "id": "6f090e32-4187-4e93-812d-d7aa739ad73c",
   "metadata": {},
   "outputs": [],
   "source": [
    "G = Genesis4(\"data/example3-timedependent/Example3.in\")\n",
    "G.nproc = 0\n",
    "G.verbose = True"
   ]
  },
  {
   "cell_type": "code",
   "execution_count": 7,
   "id": "d7274f51-1976-4603-a49c-7f489e32bf78",
   "metadata": {},
   "outputs": [
    {
     "name": "stdout",
     "output_type": "stream",
     "text": [
      "Configured to run in: /var/folders/vy/s8_hc3m10fddm6n_43cf_m8r0000gn/T/tmpgta32fj6\n",
      "Setting use_mpi = True because nproc = 0\n",
      "Running Genesis4 in /var/folders/vy/s8_hc3m10fddm6n_43cf_m8r0000gn/T/tmpgta32fj6\n",
      "/Users/klauer/miniforge3/envs/lume-genesis/bin/mpirun -n 0 /Users/klauer/miniforge3/envs/lume-genesis/bin/genesis4 -l Example3.lat genesis4.in\n",
      "---------------------------------------------\n",
      "GENESIS - Version 4.6.6 has started...\n",
      "Compile info: Compiled by runner at 2024-01-11 18:10:26 [UTC] from Git Commit ID: \n",
      "Starting Time: Tue May 21 15:21:58 2024\n",
      "\n",
      "MPI-Comm Size: 12 nodes\n",
      "\n",
      "Opened input file genesis4.in\n",
      "Parsing lattice file Example3.lat ...\n",
      "Matching for periodic solution between z = 0 and z = 9.5 :\n",
      "   betax (m) : 8.53711\n",
      "   alphax    : -0.703306\n",
      "   phix (deg): 45.818\n",
      "   betay (m) : 17.3899\n",
      "   alphay    : 1.40348\n",
      "   phiy (deg): 45.818\n",
      "Setting up time window of 20.0016 microns with 66672 sample points...\n",
      "Adding profile with label: current\n",
      "Adding profile with label: energy\n",
      "Generating input radiation field for HARM = 1 ...\n",
      "Generating input particle distribution...\n",
      "\n",
      "Running Core Simulation...\n",
      "Time-dependent run with 66672 slices for a time window of 20.0016 microns\n",
      "Initial analysis of electron beam and radiation field...\n",
      "  Calculation: 0% done\n"
     ]
    },
    {
     "ename": "KeyboardInterrupt",
     "evalue": "",
     "output_type": "error",
     "traceback": [
      "\u001b[0;31m---------------------------------------------------------------------------\u001b[0m",
      "\u001b[0;31mKeyboardInterrupt\u001b[0m                         Traceback (most recent call last)",
      "Cell \u001b[0;32mIn[7], line 1\u001b[0m\n\u001b[0;32m----> 1\u001b[0m output \u001b[38;5;241m=\u001b[39m \u001b[43mG\u001b[49m\u001b[38;5;241;43m.\u001b[39;49m\u001b[43mrun\u001b[49m\u001b[43m(\u001b[49m\u001b[43m)\u001b[49m\n",
      "File \u001b[0;32m~/Repos/lume-genesis/genesis/version4/run.py:306\u001b[0m, in \u001b[0;36mGenesis4.run\u001b[0;34m(self, load_fields, load_particles, smear, raise_on_error)\u001b[0m\n\u001b[1;32m    304\u001b[0m log \u001b[38;5;241m=\u001b[39m []\n\u001b[1;32m    305\u001b[0m \u001b[38;5;28;01mtry\u001b[39;00m:\n\u001b[0;32m--> 306\u001b[0m \u001b[43m    \u001b[49m\u001b[38;5;28;43;01mfor\u001b[39;49;00m\u001b[43m \u001b[49m\u001b[43mline\u001b[49m\u001b[43m \u001b[49m\u001b[38;5;129;43;01min\u001b[39;49;00m\u001b[43m \u001b[49m\u001b[43mtools\u001b[49m\u001b[38;5;241;43m.\u001b[39;49m\u001b[43mexecute\u001b[49m\u001b[43m(\u001b[49m\u001b[43mshlex\u001b[49m\u001b[38;5;241;43m.\u001b[39;49m\u001b[43msplit\u001b[49m\u001b[43m(\u001b[49m\u001b[43mrunscript\u001b[49m\u001b[43m)\u001b[49m\u001b[43m,\u001b[49m\u001b[43m \u001b[49m\u001b[43mcwd\u001b[49m\u001b[38;5;241;43m=\u001b[39;49m\u001b[38;5;28;43mself\u001b[39;49m\u001b[38;5;241;43m.\u001b[39;49m\u001b[43mpath\u001b[49m\u001b[43m)\u001b[49m\u001b[43m:\u001b[49m\n\u001b[1;32m    307\u001b[0m \u001b[43m        \u001b[49m\u001b[38;5;28;43mself\u001b[39;49m\u001b[38;5;241;43m.\u001b[39;49m\u001b[43mvprint\u001b[49m\u001b[43m(\u001b[49m\u001b[43mline\u001b[49m\u001b[43m,\u001b[49m\u001b[43m \u001b[49m\u001b[43mend\u001b[49m\u001b[38;5;241;43m=\u001b[39;49m\u001b[38;5;124;43m\"\u001b[39;49m\u001b[38;5;124;43m\"\u001b[39;49m\u001b[43m)\u001b[49m\n\u001b[1;32m    308\u001b[0m \u001b[43m        \u001b[49m\u001b[43mlog\u001b[49m\u001b[38;5;241;43m.\u001b[39;49m\u001b[43mappend\u001b[49m\u001b[43m(\u001b[49m\u001b[43mline\u001b[49m\u001b[43m)\u001b[49m\n",
      "File \u001b[0;32m~/Repos/lume-genesis/genesis/tools.py:68\u001b[0m, in \u001b[0;36mexecute\u001b[0;34m(cmd, cwd)\u001b[0m\n\u001b[1;32m     54\u001b[0m \u001b[38;5;250m\u001b[39m\u001b[38;5;124;03m\"\"\"\u001b[39;00m\n\u001b[1;32m     55\u001b[0m \u001b[38;5;124;03mConstantly print Subprocess output while process is running\u001b[39;00m\n\u001b[1;32m     56\u001b[0m \u001b[38;5;124;03mfrom: https://stackoverflow.com/questions/4417546/constantly-print-subprocess-output-while-process-is-running\u001b[39;00m\n\u001b[0;32m   (...)\u001b[0m\n\u001b[1;32m     63\u001b[0m \n\u001b[1;32m     64\u001b[0m \u001b[38;5;124;03m\"\"\"\u001b[39;00m\n\u001b[1;32m     65\u001b[0m popen \u001b[38;5;241m=\u001b[39m subprocess\u001b[38;5;241m.\u001b[39mPopen(\n\u001b[1;32m     66\u001b[0m     cmd, stdout\u001b[38;5;241m=\u001b[39msubprocess\u001b[38;5;241m.\u001b[39mPIPE, universal_newlines\u001b[38;5;241m=\u001b[39m\u001b[38;5;28;01mTrue\u001b[39;00m, cwd\u001b[38;5;241m=\u001b[39mcwd\n\u001b[1;32m     67\u001b[0m )\n\u001b[0;32m---> 68\u001b[0m \u001b[43m\u001b[49m\u001b[38;5;28;43;01mfor\u001b[39;49;00m\u001b[43m \u001b[49m\u001b[43mstdout_line\u001b[49m\u001b[43m \u001b[49m\u001b[38;5;129;43;01min\u001b[39;49;00m\u001b[43m \u001b[49m\u001b[38;5;28;43miter\u001b[39;49m\u001b[43m(\u001b[49m\u001b[43mpopen\u001b[49m\u001b[38;5;241;43m.\u001b[39;49m\u001b[43mstdout\u001b[49m\u001b[38;5;241;43m.\u001b[39;49m\u001b[43mreadline\u001b[49m\u001b[43m,\u001b[49m\u001b[43m \u001b[49m\u001b[38;5;124;43m\"\u001b[39;49m\u001b[38;5;124;43m\"\u001b[39;49m\u001b[43m)\u001b[49m\u001b[43m:\u001b[49m\n\u001b[1;32m     69\u001b[0m \u001b[43m    \u001b[49m\u001b[38;5;28;43;01myield\u001b[39;49;00m\u001b[43m \u001b[49m\u001b[43mstdout_line\u001b[49m\n\u001b[1;32m     70\u001b[0m popen\u001b[38;5;241m.\u001b[39mstdout\u001b[38;5;241m.\u001b[39mclose()\n",
      "\u001b[0;31mKeyboardInterrupt\u001b[0m: "
     ]
    }
   ],
   "source": [
    "output = G.run()"
   ]
  },
  {
   "cell_type": "code",
   "execution_count": null,
   "id": "6a74101e-0ca7-4a3c-a8ae-309af5e1f036",
   "metadata": {},
   "outputs": [],
   "source": [
    "G.plot([\"beam_xsize\", \"beam_ysize\", \"field_xsize\", \"field_ysize\"])"
   ]
  },
  {
   "cell_type": "markdown",
   "id": "c2a5b1c7-1e52-4d3e-97a9-35dcb313d4cf",
   "metadata": {},
   "source": [
    "## Output\n",
    "\n",
    "The output is similar to the steady-state simulation except some informations are added on the number of slices and the resulting beam-frame size.\n",
    "\n",
    "Since the MPI execution of Genesis requires a symmetric number of slices per node it might not be able to resolve the requested size of the beam-frame.\n",
    "To solve this Genesis will add that many slices to the last node that it holds the same amount as the others. This causes an extension of the time-window. This depends on the number of modes chosen.\n",
    "\n",
    "In addition the shotnoise depends on the number of modes, where 1000 slices are resolved by 20 or 50 nodes. This will be fixed in a future release for better reproducibility of the simulation results.\n"
   ]
  },
  {
   "cell_type": "markdown",
   "id": "578d3597-cee4-4bc2-b929-009f8fc54fad",
   "metadata": {},
   "source": [
    "\n",
    "### Time-dependent beam parameters\n",
    "\n",
    "To verify the requested shape the beam current and the energy at the simulation start is plotted.\n"
   ]
  },
  {
   "cell_type": "code",
   "execution_count": null,
   "id": "db2df3e5-6685-411e-92c9-eb4ee75b566a",
   "metadata": {},
   "outputs": [],
   "source": [
    "# plot beam parameters - current profile and energy\n",
    "s = hid[\"Global\"][\"s\"][()] / 3e8 * 1e15\n",
    "current = hid[\"Beam\"][\"current\"][()][0, :] * 1e-3\n",
    "energy = hid[\"Beam\"][\"energy\"][()][0, :] * 0.511 * 1e-3\n",
    "\n",
    "fig, ax1 = plt.subplots()\n",
    "color = \"tab:red\"\n",
    "ax1.set_xlabel(r\"$s$ (fs)\")\n",
    "ax1.set_ylabel(r\"$I$ (kA)\", color=color)\n",
    "ax1.tick_params(axis=\"y\", labelcolor=color)\n",
    "ax1.plot(s, current, color=color)\n",
    "\n",
    "ax2 = ax1.twinx()\n",
    "color = \"tab:blue\"\n",
    "ax2.set_ylabel(r\"$E$ (GeV)\", color=color)\n",
    "ax2.tick_params(axis=\"y\", labelcolor=color)\n",
    "ax2.plot(s, energy, color=color)\n",
    "plt.show()"
   ]
  },
  {
   "cell_type": "markdown",
   "id": "c5bbcbb2-ea28-4be8-b511-a1fce24b6798",
   "metadata": {},
   "source": [
    "\n",
    "### Pulse Energy and Far Field Intensity\n",
    "\n",
    "The ``Field/Global`` group holds the evolution of the pulse energy and the on-axis far field intensity.\n",
    "Since Genesis allows for a lot of higher transverse modes to be emitted they are included in the calculation of the pulse energy for SASE simulation. This generates the bump in the semi-log plot. Often it is hard to see if there is an exponential gain.\n",
    "\n",
    "It is then convenient to plot the on-axis far-field intensity. Since it has no contribution from higher transverse modes it is a \"cleaner\" signal for the FEL process."
   ]
  },
  {
   "cell_type": "code",
   "execution_count": null,
   "id": "2ac20592-c120-4c2d-a729-c3a2100f0164",
   "metadata": {},
   "outputs": [],
   "source": [
    "# plot global parameters\n",
    "z = hid[\"Lattice\"][\"zplot\"][()]\n",
    "energy = hid[\"Field\"][\"Global\"][\"energy\"][()] * 1e6\n",
    "energy0 = energy[220]\n",
    "farfield = hid[\"Field\"][\"Global\"][\"intensity-farfield\"][()] * 1e-21\n",
    "\n",
    "fig, ax1 = plt.subplots()\n",
    "color = \"tab:red\"\n",
    "ax1.set_xlabel(r\"$z$ (m)\")\n",
    "ax1.set_ylabel(r\"$E$ ($\\mu$J)\", color=color)\n",
    "ax1.tick_params(axis=\"y\", labelcolor=color)\n",
    "ax1.semilogy(z, energy, color=color)\n",
    "ax1.set_ylim([1e-3, 1e3])\n",
    "\n",
    "ax2 = ax1.twinx()\n",
    "color = \"tab:blue\"\n",
    "ax2.set_ylabel(r\"$<I(\\theta=0)>$ (GW/$\\mu$rad$^2$)\", color=color)\n",
    "ax2.tick_params(axis=\"y\", labelcolor=color)\n",
    "ax2.semilogy(z, farfield, color=color)\n",
    "ax2.set_ylim([1e-2, 1e5])\n",
    "plt.show()"
   ]
  },
  {
   "cell_type": "markdown",
   "id": "3febce2a-005b-47e6-8431-08cf71124380",
   "metadata": {},
   "source": [
    "\n",
    "### Radiation Profile\n",
    "\n",
    "This is also visible in the profiles of the radiation power and farfield intensity. In the start-up the power follows quite closely\n",
    "the current profile since it acts more like spontaneous radiation which is proportional to the current. The plot is taken after the first undulator module.\n"
   ]
  },
  {
   "cell_type": "code",
   "execution_count": null,
   "id": "e795b784-92bc-4ac1-8a6f-cd3f423793bc",
   "metadata": {},
   "outputs": [],
   "source": [
    "# power profile\n",
    "power1 = hid[\"Field\"][\"power\"][()][50, :] * 1e-9\n",
    "farfield1 = hid[\"Field\"][\"intensity-farfield\"][()][50, :] * 1e-24\n",
    "\n",
    "power2 = hid[\"Field\"][\"power\"][()][220, :] * 1e-9\n",
    "farfield2 = hid[\"Field\"][\"intensity-farfield\"][()][220, :] * 1e-24\n",
    "\n",
    "fig, ax1 = plt.subplots()\n",
    "color = \"tab:red\"\n",
    "ax1.set_xlabel(r\"$t$ (fs)\")\n",
    "ax1.set_ylabel(r\"$P$ (MW)\", color=color)\n",
    "ax1.tick_params(axis=\"y\", labelcolor=color)\n",
    "ax1.plot(s, power1 * 1e3, color=color)\n",
    "# ax1.set_ylim([1e-3,1e3])\n",
    "\n",
    "ax2 = ax1.twinx()\n",
    "color = \"tab:blue\"\n",
    "ax2.set_ylabel(r\"$I(\\theta=0)$ (GW/$\\mu$rad$^2$)\", color=color)\n",
    "ax2.tick_params(axis=\"y\", labelcolor=color)\n",
    "ax2.plot(s, farfield1 * 1e3, color=color)\n",
    "# ax2.set_ylim([1e-2,1e5])\n",
    "plt.show()"
   ]
  },
  {
   "cell_type": "markdown",
   "id": "23c89392-b1d3-4707-8148-763342001610",
   "metadata": {},
   "source": [
    "\n",
    "Further downstream the power profile has more fluctuation similar to the farfield intensity. \n",
    "\n"
   ]
  },
  {
   "cell_type": "code",
   "execution_count": null,
   "id": "37a0ad72-36eb-4190-8422-076851fed11d",
   "metadata": {},
   "outputs": [],
   "source": [
    "fig, ax1 = plt.subplots()\n",
    "color = \"tab:red\"\n",
    "ax1.set_xlabel(r\"$t$ fs)\")\n",
    "ax1.set_ylabel(r\"$P$ (GW)\", color=color)\n",
    "ax1.tick_params(axis=\"y\", labelcolor=color)\n",
    "ax1.plot(s, power2, color=color)\n",
    "# ax1.set_ylim([1e-3,1e3])\n",
    "\n",
    "ax2 = ax1.twinx()\n",
    "color = \"tab:blue\"\n",
    "ax2.set_ylabel(r\"$I(\\theta=0)$ (TW/$\\mu$rad$^2$)\", color=color)\n",
    "ax2.tick_params(axis=\"y\", labelcolor=color)\n",
    "ax2.plot(s, farfield2, color=color)\n",
    "# ax2.set_ylim([1e-2,1e5])\n",
    "plt.show()"
   ]
  },
  {
   "cell_type": "markdown",
   "id": "cc18f22d-fd1c-4f0f-bab6-b03f35505aec",
   "metadata": {},
   "source": [
    "A zoom in the core part of the beam-frame shows that close at saturation the profile of power and far-field intensity has roughly the same shape.\n",
    "The slight shift in the power is still causes from some parasitic higher modes and indicates that the transverse coherence is not fully at 100%."
   ]
  },
  {
   "cell_type": "code",
   "execution_count": null,
   "id": "69795561-7b84-47c8-a33b-13977bb155c1",
   "metadata": {},
   "outputs": [],
   "source": [
    "fig, ax1 = plt.subplots()\n",
    "color = \"tab:red\"\n",
    "ax1.set_xlabel(r\"$t$ fs)\")\n",
    "ax1.set_ylabel(r\"$P$ (GW)\", color=color)\n",
    "ax1.tick_params(axis=\"y\", labelcolor=color)\n",
    "ax1.plot(s, power2, color=color)\n",
    "ax1.set_xlim([37, 42])\n",
    "# ax1.set_ylim([1e-3,1e3])\n",
    "\n",
    "ax2 = ax1.twinx()\n",
    "color = \"tab:blue\"\n",
    "ax2.set_ylabel(r\"$I(\\theta=0)$ (TW/$\\mu$rad$^2$)\", color=color)\n",
    "ax2.tick_params(axis=\"y\", labelcolor=color)\n",
    "ax2.plot(s, farfield2, color=color)\n",
    "ax2.set_xlim([37, 42])\n",
    "# ax2.set_ylim([1e-2,1e5])\n",
    "plt.show()"
   ]
  },
  {
   "cell_type": "markdown",
   "id": "dbec2964-2fe8-404c-8884-b0ea67b8ca7b",
   "metadata": {},
   "source": [
    "A more compact plot showing the evolution is when for each step in z the profile is normalized to its mean values. Otherwise one could not see the start-up regime with the exponential growth of \n",
    "the radiation power. In this 2D plot the spiky structure becomes apparent after about half the undulator length. These spikes more forward in the beam-frame with a group velocity which is less than the spead of light.\n",
    "At saturation this changes (the slope of the spikes is slightly changed). Also after saturation the power in the head and tail can reach saturation and the pulse gets longer.\n"
   ]
  },
  {
   "cell_type": "code",
   "execution_count": null,
   "id": "f4dd8e47-feed-463d-8894-ef64954e4eae",
   "metadata": {},
   "outputs": [],
   "source": [
    "power = hid[\"Field\"][\"power\"][()]\n",
    "pmean = np.mean(power, axis=1)\n",
    "zmean = np.mean(power, axis=1)\n",
    "for i in range(len(pmean)):\n",
    "    if pmean[i] == 0:\n",
    "        pmean[i] = 1.0\n",
    "    power[i, :] *= 1.0 / pmean[i]\n",
    "plt.imshow(\n",
    "    np.flipud(power),\n",
    "    aspect=\"auto\",\n",
    "    interpolation=\"none\",\n",
    "    extent=(np.min(s), np.max(s), np.min(z), np.max(z)),\n",
    ")\n",
    "plt.xlabel(r\"$t$ (fs)\")\n",
    "plt.ylabel(r\"$z$ (m)\")\n",
    "plt.show()"
   ]
  },
  {
   "cell_type": "markdown",
   "id": "3e8d327a-3b5a-45c2-8f17-8b1f1ba8289b",
   "metadata": {},
   "source": [
    "From the farfield intensity and phase the spectrum can be calculated. In this case the spectrum is wider than expected since the beam has an intrinsic energy chirp and thus boradening the emitted frequency spectrum\n"
   ]
  },
  {
   "cell_type": "code",
   "execution_count": null,
   "id": "8431aecd-4e30-4504-badd-b945d649cf46",
   "metadata": {},
   "outputs": [],
   "source": [
    "# plot spectrum\n",
    "\n",
    "# plot sample spectrum\n",
    "\n",
    "sig = hid[\"Field\"][\"intensity-farfield\"][()][220, :]\n",
    "phi = hid[\"Field\"][\"phase-farfield\"][()][220, :]\n",
    "freq = hid[\"Global\"][\"frequency\"][()]\n",
    "\n",
    "signal = np.sqrt(sig) * np.exp(1j * phi)\n",
    "spec = np.abs(np.fft.fftshift(np.fft.fft(signal))) ** 2\n",
    "norm = energy0 / np.sum(spec) / (freq[1] - freq[0])\n",
    "spec = norm * spec\n",
    "\n",
    "plt.plot(freq * 1e-3, spec)\n",
    "plt.xlim([12.400, 12.800])\n",
    "plt.xlabel(r\"$E_{ph}$ (keV)\")\n",
    "plt.ylabel(r\"$P(E_{ph})$ ($\\mu$J/eV)\")\n",
    "plt.show()"
   ]
  }
 ],
 "metadata": {
  "kernelspec": {
   "display_name": "Python 3 (ipykernel)",
   "language": "python",
   "name": "python3"
  },
  "language_info": {
   "codemirror_mode": {
    "name": "ipython",
    "version": 3
   },
   "file_extension": ".py",
   "mimetype": "text/x-python",
   "name": "python",
   "nbconvert_exporter": "python",
   "pygments_lexer": "ipython3",
   "version": "3.12.3"
  }
 },
 "nbformat": 4,
 "nbformat_minor": 5
}
