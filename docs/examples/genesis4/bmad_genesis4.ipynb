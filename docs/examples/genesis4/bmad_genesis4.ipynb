{
 "cells": [
  {
   "cell_type": "markdown",
   "id": "4e9f7721-9286-415e-b623-dc34206c28e6",
   "metadata": {},
   "source": [
    "# Bmad-Genesis4 interface\n",
    "\n",
    "Genesis4 input and lattice can be created from Bmad using PyTao's Tao interface."
   ]
  },
  {
   "cell_type": "code",
   "execution_count": null,
   "id": "f6b891d6-d1df-4763-8cc1-3494e5885e6f",
   "metadata": {},
   "outputs": [],
   "source": [
    "# %load_ext autoreload\n",
    "# %autoreload 2"
   ]
  },
  {
   "cell_type": "code",
   "execution_count": null,
   "id": "9ab17586-a099-4993-b701-50026cc46d9f",
   "metadata": {},
   "outputs": [],
   "source": [
    "from pytao import Tao\n",
    "\n",
    "from genesis.version4 import Genesis4, Lattice, MainInput\n",
    "\n",
    "import matplotlib.pyplot as plt\n",
    "\n",
    "from pmd_beamphysics.units import mec2\n",
    "import numpy as np"
   ]
  },
  {
   "cell_type": "code",
   "execution_count": null,
   "id": "b190eceb-f631-4454-89ea-4ca36efcd067",
   "metadata": {},
   "outputs": [],
   "source": [
    "bmad_lat = \"data/example1-steadystate/Example1.bmad\""
   ]
  },
  {
   "cell_type": "markdown",
   "id": "70a43e54-0ce0-41fa-aaaf-91d21be78b12",
   "metadata": {},
   "source": [
    "# Lattice from Tao"
   ]
  },
  {
   "cell_type": "code",
   "execution_count": null,
   "id": "9dcc9e69-67f6-4179-8127-4e92910e511c",
   "metadata": {},
   "outputs": [],
   "source": [
    "tao = Tao(lattice_file=bmad_lat, noplot=True)"
   ]
  },
  {
   "cell_type": "code",
   "execution_count": null,
   "id": "9cba8d49-77f8-4fc4-92ce-e5962c2ea725",
   "metadata": {},
   "outputs": [],
   "source": [
    "Lattice.from_tao(tao)"
   ]
  },
  {
   "cell_type": "code",
   "execution_count": null,
   "id": "040d210b-b14d-4eff-bb90-52bb3bf6840f",
   "metadata": {},
   "outputs": [],
   "source": [
    "Lattice.from_tao(tao).plot()"
   ]
  },
  {
   "cell_type": "markdown",
   "id": "34f5e0cc-6c3a-4588-bec5-ea6eeeb093d7",
   "metadata": {},
   "source": [
    "# MainInput from Tao"
   ]
  },
  {
   "cell_type": "code",
   "execution_count": null,
   "id": "e8d5c31b-f6d3-44e6-af0a-d326924606d4",
   "metadata": {},
   "outputs": [],
   "source": [
    "MainInput.from_tao(tao)"
   ]
  },
  {
   "cell_type": "markdown",
   "id": "b4d3c317-0840-449d-9c6d-d3f9deadfb8a",
   "metadata": {},
   "source": [
    "# Entire object"
   ]
  },
  {
   "cell_type": "code",
   "execution_count": null,
   "id": "635a1fe7-40ce-403e-8f93-5fc574f4104f",
   "metadata": {},
   "outputs": [],
   "source": [
    "Genesis4.from_tao(tao)"
   ]
  },
  {
   "cell_type": "markdown",
   "id": "27a6ea47-2d78-4a89-a3cb-5ecfbd600f2a",
   "metadata": {},
   "source": [
    "# Compare tracking "
   ]
  },
  {
   "cell_type": "code",
   "execution_count": null,
   "id": "8b40b0bc-0737-44f2-ae06-b3c4725fc7d9",
   "metadata": {},
   "outputs": [],
   "source": [
    "tao = Tao(lattice_file=bmad_lat, noplot=True)\n",
    "\n",
    "# Add various errors\n",
    "\n",
    "tao.cmd(\"set particle_start x = 50e-6\")\n",
    "tao.cmd(\"set particle_start y = -40e-6\")\n",
    "\n",
    "tao.cmd(\"set particle_start px = 10e-6\")\n",
    "tao.cmd(\"set particle_start py = 20e-6\")\n",
    "tao.cmd(\"set particle_start pz = 1e-4\")\n",
    "\n",
    "tao.cmd(\"set ele qf x_offset = 50e-6\")\n",
    "tao.cmd(\"set ele qd y_offset = -50e-6\")\n",
    "\n",
    "tao.cmd(\"set ele qf hkick = 10e-6\")\n",
    "tao.cmd(\"set ele qd vkick = -10e-6\")"
   ]
  },
  {
   "cell_type": "code",
   "execution_count": null,
   "id": "a1033af2-1d2e-43b6-aa91-3c14eeaa05a9",
   "metadata": {},
   "outputs": [],
   "source": [
    "%%time\n",
    "# Create and run Genesis4\n",
    "G4 = Genesis4.from_tao(tao)\n",
    "G4.run();"
   ]
  },
  {
   "cell_type": "code",
   "execution_count": null,
   "id": "9c4081de-1ff5-4305-a043-75cbd93a8011",
   "metadata": {},
   "outputs": [],
   "source": [
    "def comparison_plots(tao, genesis4):\n",
    "    s = tao.lat_list(\"*\", \"ele.s\")\n",
    "    z = G4.output.stat(\"zplot\")\n",
    "\n",
    "    fig, axes = plt.subplots(4, figsize=(12, 8))\n",
    "\n",
    "    ax = axes[0]\n",
    "    y0 = tao.lat_list(\"*\", \"orbit.vec.1\")\n",
    "    y1 = G4.output.stat(\"beam_xposition\")\n",
    "    ax.plot(s, y0 * 1e6, label=\"Tao\")\n",
    "    ax.plot(z, y1 * 1e6, \"--\", label=\"Genesis4 from Tao\")\n",
    "    ax.set_ylabel(r\"$\\left<x\\right>$ (µm)\")\n",
    "    ax.set_ylim(-1000, 1000)\n",
    "    ax.legend()\n",
    "\n",
    "    ax = axes[1]\n",
    "    y0 = tao.lat_list(\"*\", \"orbit.vec.3\")\n",
    "    y1 = G4.output.stat(\"beam_yposition\")\n",
    "    ax.plot(s, y0 * 1e6, label=\"Tao\")\n",
    "    ax.plot(z, y1 * 1e6, \"--\", label=\"Genesis4 from Tao\")\n",
    "    ax.set_ylabel(r\"$\\left<y\\right>$ (µm)\")\n",
    "    ax.set_ylim(-1000, 1000)\n",
    "    ax.legend()\n",
    "\n",
    "    ax = axes[2]\n",
    "    y0 = np.sqrt(\n",
    "        tao.lat_list(\"*\", \"ele.a.beta\")\n",
    "        * G4.output.beam.emitx[0, 0]\n",
    "        / (tao.lat_list(\"*\", \"ele.e_tot\") / mec2)\n",
    "    )\n",
    "    y1 = G4.output.stat(\"beam_xsize\")\n",
    "    ax.plot(s, y0 * 1e6, label=\"Tao\")\n",
    "    ax.plot(z, y1 * 1e6, \"--\", label=\"Genesis4 from Tao\")\n",
    "    ax.set_ylabel(r\"$\\sigma_x$ (µm)\")\n",
    "    ax.set_ylim(0, 30)\n",
    "\n",
    "    ax = axes[3]\n",
    "    y0 = np.sqrt(\n",
    "        tao.lat_list(\"*\", \"ele.b.beta\")\n",
    "        * G4.output.beam.emity[0, 0]\n",
    "        / (tao.lat_list(\"*\", \"ele.e_tot\") / mec2)\n",
    "    )\n",
    "    y1 = G4.output.stat(\"beam_ysize\")\n",
    "    ax.plot(s, y0 * 1e6, label=\"Tao\")\n",
    "    ax.plot(z, y1 * 1e6, \"--\", label=\"Genesis4 from Tao\")\n",
    "    ax.set_ylabel(r\"$\\sigma_y$ (µm)\")\n",
    "    ax.set_ylim(0, 30)\n",
    "\n",
    "    ax.legend()\n",
    "    ax.set_xlabel(r\"$z$ (m)\")\n",
    "    for ax in axes:\n",
    "        ax.set_xlim(0, None)\n",
    "\n",
    "\n",
    "comparison_plots(tao, G4)"
   ]
  }
 ],
 "metadata": {
  "kernelspec": {
   "display_name": "Python 3 (ipykernel)",
   "language": "python",
   "name": "python3"
  },
  "language_info": {
   "codemirror_mode": {
    "name": "ipython",
    "version": 3
   },
   "file_extension": ".py",
   "mimetype": "text/x-python",
   "name": "python",
   "nbconvert_exporter": "python",
   "pygments_lexer": "ipython3",
   "version": "3.13.0"
  }
 },
 "nbformat": 4,
 "nbformat_minor": 5
}
