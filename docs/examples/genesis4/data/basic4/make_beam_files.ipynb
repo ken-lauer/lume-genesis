{
 "cells": [
  {
   "cell_type": "markdown",
   "id": "0b383514-3838-4b8b-ad0f-333840a93348",
   "metadata": {},
   "source": [
    "# Genesis4 Beam files"
   ]
  },
  {
   "cell_type": "code",
   "execution_count": null,
   "id": "d2c694dc-3a24-411e-bf58-2b2d161ca3dd",
   "metadata": {
    "execution": {
     "iopub.execute_input": "2024-05-14T23:58:49.180340Z",
     "iopub.status.busy": "2024-05-14T23:58:49.179975Z",
     "iopub.status.idle": "2024-05-14T23:58:49.456501Z",
     "shell.execute_reply": "2024-05-14T23:58:49.456138Z"
    }
   },
   "outputs": [],
   "source": [
    "import numpy as np\n",
    "import h5py\n",
    "\n",
    "import matplotlib.pyplot as plt\n",
    "\n",
    "%config InlineBackend.figure_format = 'retina'"
   ]
  },
  {
   "cell_type": "code",
   "execution_count": null,
   "id": "683838b1-4cfd-42e7-9b8a-fbb485629447",
   "metadata": {
    "execution": {
     "iopub.execute_input": "2024-05-14T23:58:49.458208Z",
     "iopub.status.busy": "2024-05-14T23:58:49.458096Z",
     "iopub.status.idle": "2024-05-14T23:58:49.459721Z",
     "shell.execute_reply": "2024-05-14T23:58:49.459496Z"
    }
   },
   "outputs": [],
   "source": [
    "slen = 15.0e-6"
   ]
  },
  {
   "cell_type": "markdown",
   "id": "76b8a165-6a2d-48e4-a190-bf3b54504c8f",
   "metadata": {},
   "source": [
    "## Gamma array"
   ]
  },
  {
   "cell_type": "code",
   "execution_count": null,
   "id": "aafbcafb-32fa-457d-862b-39f7c64eb786",
   "metadata": {
    "execution": {
     "iopub.execute_input": "2024-05-14T23:58:49.461177Z",
     "iopub.status.busy": "2024-05-14T23:58:49.461109Z",
     "iopub.status.idle": "2024-05-14T23:58:49.465254Z",
     "shell.execute_reply": "2024-05-14T23:58:49.465028Z"
    }
   },
   "outputs": [],
   "source": [
    "gamma0 = 19174.0776\n",
    "\n",
    "h = -15.0\n",
    "\n",
    "xdata = np.linspace(0, slen, 20000)\n",
    "\n",
    "ydata = gamma0 + (xdata - xdata.mean()) * h * 1e6 / 0.511\n",
    "\n",
    "with h5py.File(\"beam_gamma.h5\", \"w\") as file:\n",
    "    file[\"s\"] = xdata\n",
    "    file[\"gamma\"] = ydata"
   ]
  },
  {
   "cell_type": "code",
   "execution_count": null,
   "id": "97a7af99-3c69-48b2-a05f-b23b5f08616c",
   "metadata": {
    "execution": {
     "iopub.execute_input": "2024-05-14T23:58:49.466533Z",
     "iopub.status.busy": "2024-05-14T23:58:49.466458Z",
     "iopub.status.idle": "2024-05-14T23:58:49.546165Z",
     "shell.execute_reply": "2024-05-14T23:58:49.545911Z"
    }
   },
   "outputs": [],
   "source": [
    "plt.plot(xdata, ydata)"
   ]
  },
  {
   "cell_type": "markdown",
   "id": "f34d7952-ad3b-4511-b246-08d9bf7ee2be",
   "metadata": {},
   "source": [
    "## Current array"
   ]
  },
  {
   "cell_type": "code",
   "execution_count": null,
   "id": "40d9901e-9039-4c4b-801b-15c5988f15f9",
   "metadata": {
    "execution": {
     "iopub.execute_input": "2024-05-14T23:58:49.547594Z",
     "iopub.status.busy": "2024-05-14T23:58:49.547509Z",
     "iopub.status.idle": "2024-05-14T23:58:49.550567Z",
     "shell.execute_reply": "2024-05-14T23:58:49.550336Z"
    }
   },
   "outputs": [],
   "source": [
    "sigma_t = 2.0e-6\n",
    "t0 = slen / 2.0\n",
    "\n",
    "curr0 = 3000.0\n",
    "\n",
    "xdata = np.linspace(0, slen, 20000)\n",
    "ydata = curr0 * np.exp(-((xdata - t0) ** 2) / 2.0 / sigma_t**2)\n",
    "\n",
    "with h5py.File(\"beam_current.h5\", \"w\") as file:\n",
    "    file[\"s\"] = xdata\n",
    "    file[\"current\"] = ydata"
   ]
  },
  {
   "cell_type": "code",
   "execution_count": null,
   "id": "2f32ce04-c9d0-494a-a336-0c18cc5498c1",
   "metadata": {
    "execution": {
     "iopub.execute_input": "2024-05-14T23:58:49.551840Z",
     "iopub.status.busy": "2024-05-14T23:58:49.551746Z",
     "iopub.status.idle": "2024-05-14T23:58:49.624865Z",
     "shell.execute_reply": "2024-05-14T23:58:49.624617Z"
    }
   },
   "outputs": [],
   "source": [
    "plt.plot(xdata, ydata)"
   ]
  },
  {
   "cell_type": "markdown",
   "id": "9c61e64d-6e2d-4025-8ebe-e444fed9b26b",
   "metadata": {},
   "source": [
    "# Resonance\n",
    "\n",
    "`lambda0` in the input file has been adjusted to account for SASE detuning"
   ]
  },
  {
   "cell_type": "code",
   "execution_count": null,
   "id": "84cf523e-b35b-4cf2-9a17-7bba8ecbbf97",
   "metadata": {
    "execution": {
     "iopub.execute_input": "2024-05-14T23:58:49.626212Z",
     "iopub.status.busy": "2024-05-14T23:58:49.626117Z",
     "iopub.status.idle": "2024-05-14T23:58:49.628395Z",
     "shell.execute_reply": "2024-05-14T23:58:49.628165Z"
    }
   },
   "outputs": [],
   "source": [
    "# In input file\n",
    "lambda0 = 1.3789244869952112e-10\n",
    "gamma0 = 19174.0776\n",
    "# lat file\n",
    "lambdau = 0.026\n",
    "aw = 1.7017\n",
    "\n",
    "K = aw * np.sqrt(2)\n",
    "lambda_res = lambdau / (2 * gamma0**2) * (1 + K**2 / 2)\n",
    "\n",
    "\n",
    "lambda0, lambda_res, lambda_res / lambda0"
   ]
  }
 ],
 "metadata": {
  "kernelspec": {
   "display_name": "Python 3 (ipykernel)",
   "language": "python",
   "name": "python3"
  },
  "language_info": {
   "codemirror_mode": {
    "name": "ipython",
    "version": 3
   },
   "file_extension": ".py",
   "mimetype": "text/x-python",
   "name": "python",
   "nbconvert_exporter": "python",
   "pygments_lexer": "ipython3",
   "version": "3.12.1"
  }
 },
 "nbformat": 4,
 "nbformat_minor": 5
}
