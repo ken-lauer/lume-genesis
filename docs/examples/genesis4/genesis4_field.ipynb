{
 "cells": [
  {
   "cell_type": "markdown",
   "metadata": {},
   "source": [
    "# Field Analysis\n"
   ]
  },
  {
   "cell_type": "code",
   "execution_count": null,
   "metadata": {},
   "outputs": [],
   "source": [
    "%config InlineBackend.figure_format = 'retina' # Nicer plots"
   ]
  },
  {
   "cell_type": "code",
   "execution_count": null,
   "metadata": {
    "tags": []
   },
   "outputs": [],
   "source": [
    "from math import pi\n",
    "\n",
    "import h5py\n",
    "import matplotlib.pyplot as plt\n",
    "import numpy as np\n",
    "import scipy\n",
    "from scipy.constants import c, e, epsilon_0\n",
    "\n",
    "from genesis.version4 import Genesis4, Write\n",
    "\n",
    "h = scipy.constants.value(\"Planck constant in eV/Hz\")\n",
    "Z0 = pi * 119.916983  # V^2 / m"
   ]
  },
  {
   "cell_type": "markdown",
   "metadata": {},
   "source": [
    "# Create field data"
   ]
  },
  {
   "cell_type": "code",
   "execution_count": null,
   "metadata": {},
   "outputs": [],
   "source": [
    "%%time\n",
    "G = Genesis4(\"data/basic4/cu_hxr.in\", verbose=True)\n",
    "G.input.main.time.sample = 200\n",
    "G.input.main.track.zstop = 40\n",
    "G.input.main.namelists.append(Write(field=\"end\"))\n",
    "G.nproc = 0  # auto-select\n",
    "output = G.run()"
   ]
  },
  {
   "cell_type": "code",
   "execution_count": null,
   "metadata": {},
   "outputs": [],
   "source": [
    "G.path"
   ]
  },
  {
   "cell_type": "code",
   "execution_count": null,
   "metadata": {
    "tags": []
   },
   "outputs": [],
   "source": [
    "G.plot(\"field_energy\", y2=[\"field_xsize\", \"field_ysize\"], ylim2=[0, 100e-6])"
   ]
  },
  {
   "cell_type": "code",
   "execution_count": null,
   "metadata": {
    "tags": []
   },
   "outputs": [],
   "source": [
    "G.verbose = True\n",
    "output.load_fields()"
   ]
  },
  {
   "cell_type": "markdown",
   "metadata": {},
   "source": [
    "# 3D Field data"
   ]
  },
  {
   "cell_type": "markdown",
   "metadata": {},
   "source": [
    "The full field data is stored as a 3D array of complex numbers `DFL` in units of `sqrt(W)`.\n",
    "\n",
    "The relation of this and the electric field `E` in V/m is:\n",
    "```\n",
    "E = DFL * sqrt(2*Z0) / Δ\n",
    "```\n",
    "Where `Z0 = π * 119.9169832 V^2/W` exactly and `Δ` is the grid spacing. "
   ]
  },
  {
   "cell_type": "code",
   "execution_count": null,
   "metadata": {
    "tags": []
   },
   "outputs": [],
   "source": [
    "DFL = output.field3d[\"end\"].dfl  # sqrt(W)\n",
    "\n",
    "DFL.dtype, DFL.shape"
   ]
  },
  {
   "cell_type": "code",
   "execution_count": null,
   "metadata": {
    "tags": []
   },
   "outputs": [],
   "source": [
    "param = output.field3d[\"end\"].param\n",
    "\n",
    "param"
   ]
  },
  {
   "cell_type": "markdown",
   "metadata": {},
   "source": [
    "Gather some convenient variables and arrays:"
   ]
  },
  {
   "cell_type": "code",
   "execution_count": null,
   "metadata": {
    "tags": []
   },
   "outputs": [],
   "source": [
    "Ns = param.slicecount\n",
    "ds = param.slicespacing\n",
    "λ0 = param.wavelength\n",
    "f0 = c / λ0\n",
    "dt = ds / c\n",
    "Δ = param.gridsize\n",
    "\n",
    "s = np.arange(0, Ns) * ds\n",
    "t = -s / c"
   ]
  },
  {
   "cell_type": "markdown",
   "metadata": {},
   "source": [
    "# Field power\n",
    "\n",
    "The power array sums over the x and y components of the absolute square of the field data."
   ]
  },
  {
   "cell_type": "code",
   "execution_count": null,
   "metadata": {
    "tags": []
   },
   "outputs": [],
   "source": [
    "power0 = G.output[\"field_power\"][-1, :]  # W"
   ]
  },
  {
   "cell_type": "code",
   "execution_count": null,
   "metadata": {
    "tags": []
   },
   "outputs": [],
   "source": [
    "power1 = np.sum(np.sum(np.abs(DFL) ** 2, axis=0), axis=0)  # W"
   ]
  },
  {
   "cell_type": "markdown",
   "metadata": {},
   "source": [
    "These are the same:"
   ]
  },
  {
   "cell_type": "code",
   "execution_count": null,
   "metadata": {
    "tags": []
   },
   "outputs": [],
   "source": [
    "np.allclose(power0, power1)"
   ]
  },
  {
   "cell_type": "code",
   "execution_count": null,
   "metadata": {
    "tags": []
   },
   "outputs": [],
   "source": [
    "fig, ax = plt.subplots()\n",
    "ax.plot(s * 1e6, power0 / 1e9)\n",
    "ax.set_xlabel(\"s (µm)\")\n",
    "ax.set_ylabel(\"power (GW)\")"
   ]
  },
  {
   "cell_type": "markdown",
   "metadata": {},
   "source": [
    "# Field energy\n",
    "\n",
    "The total field energy is the integral:"
   ]
  },
  {
   "cell_type": "code",
   "execution_count": null,
   "metadata": {
    "tags": []
   },
   "outputs": [],
   "source": [
    "energy1 = np.trapz(power1, dx=dt)\n",
    "\n",
    "energy1  # J"
   ]
  },
  {
   "cell_type": "code",
   "execution_count": null,
   "metadata": {
    "tags": []
   },
   "outputs": [],
   "source": [
    "np.sum(power1) * dt  # J"
   ]
  },
  {
   "cell_type": "markdown",
   "metadata": {},
   "source": [
    "# On-axis field intensity and phase"
   ]
  },
  {
   "cell_type": "code",
   "execution_count": null,
   "metadata": {
    "tags": []
   },
   "outputs": [],
   "source": [
    "field = G.output.field\n",
    "intensity0 = field.intensity_nearfield[-1, :]  # W/m^2\n",
    "phase0 = field.phase_nearfield[-1, :]  # radian"
   ]
  },
  {
   "cell_type": "code",
   "execution_count": null,
   "metadata": {
    "tags": []
   },
   "outputs": [],
   "source": [
    "icenter = param.gridpoints // 2\n",
    "field1 = DFL[icenter, icenter, :]  # sqrt(W)\n",
    "phase1 = np.angle(field1)  # radian\n",
    "\n",
    "intensity1 = np.abs(field1**2) / Δ**2  # W/m^2"
   ]
  },
  {
   "cell_type": "markdown",
   "metadata": {},
   "source": [
    "These are the same:"
   ]
  },
  {
   "cell_type": "code",
   "execution_count": null,
   "metadata": {
    "tags": []
   },
   "outputs": [],
   "source": [
    "np.allclose(intensity0, intensity1)"
   ]
  },
  {
   "cell_type": "code",
   "execution_count": null,
   "metadata": {
    "tags": []
   },
   "outputs": [],
   "source": [
    "np.allclose(phase0, phase1)"
   ]
  },
  {
   "cell_type": "code",
   "execution_count": null,
   "metadata": {
    "tags": []
   },
   "outputs": [],
   "source": [
    "fig, ax = plt.subplots()\n",
    "ax.plot(s * 1e6, intensity0)\n",
    "ax.set_xlabel(\"s (µm)\")\n",
    "ax.set_ylabel(r\"intensity (W/m$^2$)\")"
   ]
  },
  {
   "cell_type": "markdown",
   "metadata": {},
   "source": [
    "The same field can be reconstructed from these arrays"
   ]
  },
  {
   "cell_type": "code",
   "execution_count": null,
   "metadata": {
    "tags": []
   },
   "outputs": [],
   "source": [
    "field0 = np.sqrt(intensity0) * np.exp(1j * phase0) * Δ  # sqrt(W)"
   ]
  },
  {
   "cell_type": "markdown",
   "metadata": {
    "tags": []
   },
   "source": [
    "These are the same:"
   ]
  },
  {
   "cell_type": "code",
   "execution_count": null,
   "metadata": {
    "tags": []
   },
   "outputs": [],
   "source": [
    "np.allclose(field0, field1)"
   ]
  },
  {
   "cell_type": "markdown",
   "metadata": {},
   "source": [
    "# Spectral fluence\n",
    "\n",
    "The spectrum calculation takes some care with the FFT and units."
   ]
  },
  {
   "cell_type": "code",
   "execution_count": null,
   "metadata": {
    "tags": []
   },
   "outputs": [],
   "source": [
    "def spectrum_from_field(field, dt=1):\n",
    "    \"\"\"\n",
    "    Calculates the spectrum (fourier transformed field)\n",
    "    from a complex field array with spacing dt.\n",
    "\n",
    "    Parameters\n",
    "    ----------\n",
    "    field: nd.array of shape (n,)\n",
    "        Complex field\n",
    "\n",
    "    dt: float\n",
    "        Spacing of the field data in some units (e.g. 's')\n",
    "\n",
    "    Returns\n",
    "    -------\n",
    "    freqs: nd.array of shape (n,)\n",
    "        Frequencies in reciprocal space with inverse units (e.g. 'Hz = 1/s')\n",
    "\n",
    "    spectrum: nd.array of shape (n,)\n",
    "        The fourier transformed field\n",
    "\n",
    "    \"\"\"\n",
    "    if len(field.shape) != 1:\n",
    "        raise ValueError(\"Only 1D arrays are currently supported\")\n",
    "    spectrum = np.fft.fftshift(np.fft.fft(field)) * dt\n",
    "\n",
    "    ns = len(field)\n",
    "    freqs = np.fft.fftshift(np.fft.fftfreq(ns, dt))\n",
    "\n",
    "    return freqs, spectrum"
   ]
  },
  {
   "cell_type": "code",
   "execution_count": null,
   "metadata": {
    "tags": []
   },
   "outputs": [],
   "source": [
    "freqs, spectrum = spectrum_from_field(field0, dt)\n",
    "\n",
    "# Frequency spacing\n",
    "# df = np.diff(freqs)[0] # Hz\n",
    "\n",
    "df = 1 / (dt * len(field0))\n",
    "\n",
    "df"
   ]
  },
  {
   "cell_type": "markdown",
   "metadata": {},
   "source": [
    "Check Plancherel theorem"
   ]
  },
  {
   "cell_type": "code",
   "execution_count": null,
   "metadata": {
    "tags": []
   },
   "outputs": [],
   "source": [
    "np.sum(np.abs(field0) ** 2) * dt  # J"
   ]
  },
  {
   "cell_type": "code",
   "execution_count": null,
   "metadata": {
    "tags": []
   },
   "outputs": [],
   "source": [
    "np.sum(np.abs(spectrum) ** 2) * df  # J"
   ]
  },
  {
   "cell_type": "code",
   "execution_count": null,
   "metadata": {
    "tags": []
   },
   "outputs": [],
   "source": [
    "freqs, spectrum = spectrum_from_field(field0, dt)\n",
    "\n",
    "fig, ax = plt.subplots()\n",
    "\n",
    "photon_energies = h * (freqs + f0)  # eV\n",
    "spectral_fluence = np.abs(spectrum**2) / Δ**2 / h  # J/m^2/eV\n",
    "\n",
    "ax.plot(photon_energies, spectral_fluence)\n",
    "ax.set_xlabel(\"photon energy (eV)\")\n",
    "ax.set_ylabel(r\"spectral fluence (J/m$^2$/eV)\")"
   ]
  },
  {
   "cell_type": "code",
   "execution_count": null,
   "metadata": {
    "tags": []
   },
   "outputs": [],
   "source": [
    "fig, ax = plt.subplots()\n",
    "J_per_photon = h * (freqs + f0) * e  # note h is in eV/Hz\n",
    "ax.plot(photon_energies, spectral_fluence / J_per_photon * 1e-6)\n",
    "ax.set_xlabel(\"photon energy (eV)\")\n",
    "ax.set_ylabel(r\"spectral intensity (photons/mm$^2$/eV)\")"
   ]
  },
  {
   "cell_type": "markdown",
   "metadata": {},
   "source": [
    "# 3D FFT\n",
    "\n",
    "WORK IN PROGRESS"
   ]
  },
  {
   "cell_type": "code",
   "execution_count": null,
   "metadata": {
    "tags": []
   },
   "outputs": [],
   "source": [
    "field3d = DFL * np.sqrt(2 * Z0) / Δ  # Electric field\n",
    "# field3d = np.pad(field3d, 100, constant_values = 0) #Pad\n",
    "nx, ny, nz = field3d.shape\n",
    "dx, dy, dz = Δ, Δ, ds\n",
    "nx, ny, nz, dx, dy, dz\n",
    "\n",
    "# reciprocal spacings\n",
    "dkx, dky, dkz = 1 / (nx * dx), 1 / (ny * dy), 1 / (nz * dz)"
   ]
  },
  {
   "cell_type": "code",
   "execution_count": null,
   "metadata": {
    "tags": []
   },
   "outputs": [],
   "source": [
    "spectrum3d = np.fft.fftshift(np.fft.fftn(field3d)) * dx * dy * dz"
   ]
  },
  {
   "cell_type": "code",
   "execution_count": null,
   "metadata": {
    "tags": []
   },
   "outputs": [],
   "source": [
    "# Check total energy integral\n",
    "np.sum(np.abs(field3d) ** 2) * dx * dy * dz * epsilon_0 / 2"
   ]
  },
  {
   "cell_type": "code",
   "execution_count": null,
   "metadata": {
    "tags": []
   },
   "outputs": [],
   "source": [
    "np.sum(np.abs(spectrum3d) ** 2) * dkx * dky * dkz * epsilon_0 / 2"
   ]
  },
  {
   "cell_type": "code",
   "execution_count": null,
   "metadata": {
    "tags": []
   },
   "outputs": [],
   "source": [
    "kx = np.fft.fftshift(np.fft.fftfreq(nx, dx))\n",
    "ky = np.fft.fftshift(np.fft.fftfreq(ny, dy))\n",
    "kz = np.fft.fftshift(np.fft.fftfreq(nz, dz))"
   ]
  },
  {
   "cell_type": "code",
   "execution_count": null,
   "metadata": {
    "tags": []
   },
   "outputs": [],
   "source": [
    "Kx, Ky, Kz = np.meshgrid(kx, ky, kz, indexing=\"ij\")\n",
    "kz0 = 2 * pi / λ0\n",
    "Kz = Kz + kz0\n",
    "\n",
    "K = np.sqrt(Kx**2 + Ky**2 + Kz**2)\n",
    "k = K.flatten()\n",
    "dEk = np.abs(spectrum3d.flatten()) ** 2 * dkx * dky * dkz * epsilon_0 / 2"
   ]
  },
  {
   "cell_type": "code",
   "execution_count": null,
   "metadata": {
    "tags": []
   },
   "outputs": [],
   "source": [
    "np.sum(dEk)"
   ]
  },
  {
   "cell_type": "code",
   "execution_count": null,
   "metadata": {
    "tags": []
   },
   "outputs": [],
   "source": [
    "x = k * c * h / (2 * pi)  # eV\n",
    "w = dEk\n",
    "bins = 1000\n",
    "\n",
    "hist, bin_edges = np.histogram(x, bins=bins, weights=w)\n",
    "hist_x = bin_edges[:-1] + np.diff(bin_edges) / 2\n",
    "hist_width = np.diff(bin_edges)\n",
    "\n",
    "hist_y = hist / hist_width\n",
    "# hist_y, hist_f, hist_prefix = nice_array(hist/hist_width)\n",
    "\n",
    "fig, ax = plt.subplots()\n",
    "ax.bar(hist_x, hist_y * 1e6, hist_width, color=\"gray\")\n",
    "\n",
    "ax2 = ax.twinx()\n",
    "ax2.plot(hist_x, np.cumsum(hist) * 1e6)\n",
    "ax2.set_ylabel(\"cumulative energy (µJ)\")\n",
    "ax2.set_ylim(0, None)\n",
    "\n",
    "ax.set_xlabel(\"photon energy (eV)\")\n",
    "ax.set_ylabel(\"spectral energy (µJ/eV)\")"
   ]
  },
  {
   "cell_type": "markdown",
   "metadata": {},
   "source": [
    "# Field data formats\n",
    "\n",
    "Genesis4 writes a custom field format. LUME-Genesis provides a reader for this, as well as a conversion tool to write in the [openPMD-wavefront standard](https://github.com/openPMD/openPMD-standard/blob/upcoming-2.0.0/EXT_Wavefront.md)."
   ]
  },
  {
   "cell_type": "markdown",
   "metadata": {},
   "source": [
    "## Read Field h5"
   ]
  },
  {
   "cell_type": "code",
   "execution_count": null,
   "metadata": {},
   "outputs": [],
   "source": [
    "G.output.load_fields()"
   ]
  },
  {
   "cell_type": "code",
   "execution_count": null,
   "metadata": {},
   "outputs": [],
   "source": [
    "end_field = G.output.field3d[\"end\"]\n",
    "DFL = end_field.dfl\n",
    "PARAM = end_field.param"
   ]
  },
  {
   "cell_type": "code",
   "execution_count": null,
   "metadata": {},
   "outputs": [],
   "source": [
    "DFL.shape, DFL.dtype, PARAM"
   ]
  },
  {
   "cell_type": "markdown",
   "metadata": {},
   "source": [
    "## Write Wavefront in openPMD-wavefront"
   ]
  },
  {
   "cell_type": "code",
   "execution_count": null,
   "metadata": {},
   "outputs": [],
   "source": [
    "end_field.write_openpmd_wavefront(\"genesis4_wavefront.h5\", verbose=True)"
   ]
  },
  {
   "cell_type": "code",
   "execution_count": null,
   "metadata": {},
   "outputs": [],
   "source": [
    "# Read back\n",
    "\n",
    "with h5py.File(\"genesis4_wavefront.h5\", \"r\") as h5:\n",
    "    print(list(h5[\"data\"][\"000000\"][\"meshes\"]))\n",
    "\n",
    "    g = h5[\"data/000000/meshes/electricField\"]\n",
    "    print(dict(g.attrs))\n",
    "\n",
    "    # Get\n",
    "    E2 = h5[\"data/000000/meshes/electricField/x\"][:]"
   ]
  },
  {
   "cell_type": "code",
   "execution_count": null,
   "metadata": {},
   "outputs": [],
   "source": [
    "# Data is the same\n",
    "np.allclose(E2, DFL)"
   ]
  },
  {
   "cell_type": "markdown",
   "metadata": {},
   "source": [
    "# Plot\n",
    "\n",
    "Simple plot"
   ]
  },
  {
   "cell_type": "code",
   "execution_count": null,
   "metadata": {},
   "outputs": [],
   "source": [
    "# Sum over y and compute the absolute square\n",
    "dat2 = np.sum(np.abs(DFL) ** 2, axis=1)"
   ]
  },
  {
   "cell_type": "code",
   "execution_count": null,
   "metadata": {},
   "outputs": [],
   "source": [
    "# Plot the center\n",
    "plt.figure(figsize=(12, 8))\n",
    "plt.imshow(dat2[::, :], aspect=\"auto\")\n",
    "# plt.axis('off');plt.savefig('../../assets/field.png', bbox_inches='tight')"
   ]
  },
  {
   "cell_type": "code",
   "execution_count": null,
   "metadata": {},
   "outputs": [],
   "source": [
    "def plot_slice(i=0):\n",
    "    dat = np.angle(DFL[:, :, i])\n",
    "    dx = PARAM.gridsize * 1e6\n",
    "\n",
    "    plt.figure(figsize=(8, 8))\n",
    "    plt.xlabel(\"x (µm)\")\n",
    "    plt.xlabel(\"y (µm)\")\n",
    "    plt.title(f\"Phase for slice {i}\")\n",
    "    plt.imshow(dat.T, origin=\"lower\", extent=[-dx, dx, -dx, dx])\n",
    "\n",
    "\n",
    "plot_slice(i=100)"
   ]
  },
  {
   "cell_type": "markdown",
   "metadata": {},
   "source": [
    "# Interactive "
   ]
  },
  {
   "cell_type": "code",
   "execution_count": null,
   "metadata": {},
   "outputs": [],
   "source": [
    "try:\n",
    "    from ipywidgets import interact\n",
    "except ImportError:\n",
    "    pass\n",
    "else:\n",
    "    interact(plot_slice, i=(0, len(DFL[0, 0, :]) - 1, 1))"
   ]
  },
  {
   "cell_type": "markdown",
   "metadata": {},
   "source": [
    "# Cleanup "
   ]
  },
  {
   "cell_type": "code",
   "execution_count": null,
   "metadata": {},
   "outputs": [],
   "source": [
    "import os\n",
    "\n",
    "os.remove(\"genesis4_wavefront.h5\")"
   ]
  }
 ],
 "metadata": {
  "kernelspec": {
   "display_name": "Python 3 (ipykernel)",
   "language": "python",
   "name": "python3"
  },
  "language_info": {
   "codemirror_mode": {
    "name": "ipython",
    "version": 3
   },
   "file_extension": ".py",
   "mimetype": "text/x-python",
   "name": "python",
   "nbconvert_exporter": "python",
   "pygments_lexer": "ipython3",
   "version": "3.12.3"
  }
 },
 "nbformat": 4,
 "nbformat_minor": 4
}
