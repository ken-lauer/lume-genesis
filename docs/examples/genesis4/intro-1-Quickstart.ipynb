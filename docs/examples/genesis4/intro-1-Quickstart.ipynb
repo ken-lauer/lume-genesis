{
 "cells": [
  {
   "cell_type": "markdown",
   "id": "efe9762c-8903-450a-b973-5c7d85e6f05f",
   "metadata": {},
   "source": [
    "# Quickstart"
   ]
  },
  {
   "cell_type": "code",
   "execution_count": null,
   "id": "6f36ed75-cb14-40a7-9c6b-7983b21bb34d",
   "metadata": {},
   "outputs": [],
   "source": [
    "import matplotlib.pyplot as plt\n",
    "\n",
    "from genesis.version4 import Genesis4\n",
    "\n",
    "import genesis.version4 as g4\n",
    "\n",
    "%config InlineBackend.figure_format = 'retina' # Nicer plots"
   ]
  },
  {
   "cell_type": "markdown",
   "id": "02789cba-0904-4f64-b28a-aa9c91b7bbf3",
   "metadata": {},
   "source": [
    "## Load an existing main input file and run Genesis4\n",
    "\n",
    "Load a pre-existing Genesis 4 main input file - \"Example 1: Steady State\" from Sven's documentation. The lattice file will be determined automatically from its `&setup` namelist."
   ]
  },
  {
   "cell_type": "code",
   "execution_count": null,
   "id": "1947313d-13fe-4bdc-9db4-5a2332b9e6c3",
   "metadata": {},
   "outputs": [],
   "source": [
    "G = Genesis4(\"data/example1-steadystate/Example1.in\")\n",
    "G.verbose = True"
   ]
  },
  {
   "cell_type": "code",
   "execution_count": null,
   "id": "ca543c6e-bf0f-4462-b8ff-eb95182c81a6",
   "metadata": {},
   "outputs": [],
   "source": [
    "output = G.run()"
   ]
  },
  {
   "cell_type": "markdown",
   "id": "cfcd2025-9ec2-4784-a5b0-2d00e1e165a0",
   "metadata": {},
   "source": [
    "LUME-Genesis offers a plotting helpers on the Genesis4 object (and `Genesis4Output` itself) to work with the output data.\n",
    "\n",
    "You can specify individual data keys to plot the output data and the layout below."
   ]
  },
  {
   "cell_type": "code",
   "execution_count": null,
   "id": "4a469831-3df3-4677-a573-c6db2ed3b4aa",
   "metadata": {},
   "outputs": [],
   "source": [
    "G.plot([\"beam_xsize\", \"beam_ysize\", \"field_xsize\", \"field_ysize\"])"
   ]
  },
  {
   "cell_type": "markdown",
   "id": "6885ca9d-94c6-4018-9172-31744def59e2",
   "metadata": {},
   "source": [
    "## Inspect the output\n",
    "\n",
    "### Lattice plot\n",
    "\n",
    "View the lattice data (as interpreted by Genesis4) by interacting with the `output.lattice` object:"
   ]
  },
  {
   "cell_type": "code",
   "execution_count": null,
   "id": "4a9afe39-aef7-4944-880c-70087ed93f28",
   "metadata": {},
   "outputs": [],
   "source": [
    "output.lattice.plot();"
   ]
  },
  {
   "cell_type": "markdown",
   "id": "067f38dd-1db1-4327-ab12-22929cb04be8",
   "metadata": {},
   "source": [
    "### Beam and field sizes"
   ]
  },
  {
   "cell_type": "code",
   "execution_count": null,
   "id": "26fd97f5-e517-40ab-90f8-d437e9098bbd",
   "metadata": {},
   "outputs": [],
   "source": [
    "zplot = output.lattice.zplot\n",
    "field = output.field\n",
    "plt.plot(zplot, output.beam.xsize * 1e6, label=r\"Beam: $\\sigma_x$\")\n",
    "plt.plot(zplot, output.beam.ysize * 1e6, label=r\"Beam: $\\sigma_y$\")\n",
    "plt.plot(zplot, field.xsize * 1e6, label=r\"Field: $\\sigma_x$\")\n",
    "plt.plot(zplot, field.ysize * 1e6, label=r\"Field: $\\sigma_y$\")\n",
    "plt.legend()\n",
    "plt.xlabel(r\"$z$ (m)\")\n",
    "plt.ylabel(r\"$\\sigma_{x,y}$ ($\\mu$m)\")\n",
    "plt.ylim([0, 60])\n",
    "plt.show()"
   ]
  },
  {
   "cell_type": "markdown",
   "id": "f765cbcc-d2e1-45da-b014-26b3e3e6d5c7",
   "metadata": {},
   "source": [
    "## Make your own input\n",
    "\n",
    "This section replicates the above Genesis 4-format input entirely in Python."
   ]
  },
  {
   "cell_type": "code",
   "execution_count": null,
   "id": "9dc6e81f-ecee-44ce-b6c1-fd7af2f93a83",
   "metadata": {},
   "outputs": [],
   "source": [
    "main = g4.MainInput(\n",
    "    [\n",
    "        g4.Setup(\n",
    "            rootname=\"Example1\",\n",
    "            beamline=\"FEL\",\n",
    "            gamma0=11357.82,\n",
    "            delz=0.045,\n",
    "            nbins=8,\n",
    "            shotnoise=False,\n",
    "        ),\n",
    "        g4.LatticeNamelist(zmatch=9.5),\n",
    "        g4.Field(power=5000.0, waist_size=3e-05, dgrid=0.0002, ngrid=255),\n",
    "        g4.Beam(delgam=1.0, current=3000.0, ex=4e-07, ey=4e-07),\n",
    "        g4.Track(),\n",
    "    ],\n",
    ")\n",
    "\n",
    "lattice = g4.Lattice(\n",
    "    {\n",
    "        \"D1\": g4.Drift(L=0.44),\n",
    "        \"D2\": g4.Drift(L=0.24),\n",
    "        \"FEL\": g4.Line(elements=[\"FODO\"] * 6),\n",
    "        \"FODO\": g4.Line(\n",
    "            elements=[\"UND\", \"D1\", \"QF\", \"D2\", \"UND\", \"D1\", \"QD\", \"D2\"],\n",
    "        ),\n",
    "        \"QD\": g4.Quadrupole(L=0.08, k1=-2.0),\n",
    "        \"QF\": g4.Quadrupole(L=0.08, k1=2.0),\n",
    "        \"UND\": g4.Undulator(aw=0.84853, lambdau=0.015, nwig=266, helical=True),\n",
    "    }\n",
    ")"
   ]
  },
  {
   "cell_type": "code",
   "execution_count": null,
   "id": "4d3bc37d-eba5-4058-9c1d-62e5a50e1baa",
   "metadata": {},
   "outputs": [],
   "source": [
    "G = Genesis4(main, lattice)\n",
    "G.verbose = True"
   ]
  },
  {
   "cell_type": "code",
   "execution_count": null,
   "id": "6ad1b223-3864-4511-852b-f953b97bfa01",
   "metadata": {},
   "outputs": [],
   "source": [
    "output = G.run()"
   ]
  },
  {
   "cell_type": "code",
   "execution_count": null,
   "id": "d492f25e-279c-405a-aed6-1dc37064e2d5",
   "metadata": {},
   "outputs": [],
   "source": [
    "G.plot([\"beam_xsize\", \"beam_ysize\", \"field_xsize\", \"field_ysize\"])"
   ]
  },
  {
   "cell_type": "markdown",
   "id": "90e975fe-24d2-43a2-b24f-f24e5daccd1c",
   "metadata": {},
   "source": [
    "## View available output data"
   ]
  },
  {
   "cell_type": "code",
   "execution_count": null,
   "id": "e6acd99b-4417-4007-8368-fda39c436b86",
   "metadata": {},
   "outputs": [],
   "source": [
    "output.info()"
   ]
  },
  {
   "cell_type": "code",
   "execution_count": null,
   "id": "cbcbb7f2-de26-4c02-84a3-6e6a0d7ada3a",
   "metadata": {},
   "outputs": [],
   "source": [
    "output[\"beam_energy\"]"
   ]
  },
  {
   "cell_type": "markdown",
   "id": "8ac564c6-8e92-4ca9-8156-95c723855812",
   "metadata": {},
   "source": [
    "## Archive the results to an HDF5 file"
   ]
  },
  {
   "cell_type": "code",
   "execution_count": null,
   "id": "c8ea0d4b-cacc-44dd-bc16-3b63fd2339c8",
   "metadata": {},
   "outputs": [],
   "source": [
    "G.archive(\"quickstart-results.h5\")"
   ]
  },
  {
   "cell_type": "code",
   "execution_count": null,
   "id": "63d6b833-4feb-4a97-bd32-089cd952afac",
   "metadata": {},
   "outputs": [],
   "source": [
    "restored = Genesis4.from_archive(\"quickstart-results.h5\")"
   ]
  },
  {
   "cell_type": "code",
   "execution_count": null,
   "id": "565aa41f-5ba6-4503-b5e2-96c8b30d2668",
   "metadata": {},
   "outputs": [],
   "source": [
    "restored.output.plot()"
   ]
  },
  {
   "cell_type": "code",
   "execution_count": null,
   "id": "cb6327f4-a679-40d1-a904-707d7fab12bb",
   "metadata": {},
   "outputs": [],
   "source": [
    "G == restored"
   ]
  }
 ],
 "metadata": {
  "kernelspec": {
   "display_name": "Python 3 (ipykernel)",
   "language": "python",
   "name": "python3"
  },
  "language_info": {
   "codemirror_mode": {
    "name": "ipython",
    "version": 3
   },
   "file_extension": ".py",
   "mimetype": "text/x-python",
   "name": "python",
   "nbconvert_exporter": "python",
   "pygments_lexer": "ipython3",
   "version": "3.12.3"
  }
 },
 "nbformat": 4,
 "nbformat_minor": 5
}
