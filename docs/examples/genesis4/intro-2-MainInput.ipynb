{
 "cells": [
  {
   "cell_type": "markdown",
   "id": "efe9762c-8903-450a-b973-5c7d85e6f05f",
   "metadata": {},
   "source": [
    "# Working with MainInput"
   ]
  },
  {
   "cell_type": "code",
   "execution_count": 1,
   "id": "6f36ed75-cb14-40a7-9c6b-7983b21bb34d",
   "metadata": {},
   "outputs": [],
   "source": [
    "import genesis.version4 as g4\n",
    "\n",
    "%config InlineBackend.figure_format = 'retina' # Nicer plots"
   ]
  },
  {
   "cell_type": "markdown",
   "id": "02789cba-0904-4f64-b28a-aa9c91b7bbf3",
   "metadata": {},
   "source": [
    "## Load an existing main input file\n",
    "\n",
    "You can load Genesis4-format main input directly from a file by using `from_file`:"
   ]
  },
  {
   "cell_type": "code",
   "execution_count": 2,
   "id": "9208f1ff-e09a-4f00-ad83-861ef0e575d5",
   "metadata": {},
   "outputs": [],
   "source": [
    "input = g4.MainInput.from_file(\"data/basic4/cu_hxr.in\")"
   ]
  },
  {
   "cell_type": "code",
   "execution_count": 3,
   "id": "676c3a8f-20e0-4e7e-b12e-46a7d713a0b1",
   "metadata": {},
   "outputs": [
    {
     "data": {
      "text/plain": [
       "[Setup(\n",
       "   rootname='LCLS2_HXR_9keV',\n",
       "   lattice='hxr.lat',\n",
       "   beamline='HXR',\n",
       "   gamma0=19174.0776,\n",
       "   lambda0=1.3789244869952112e-10,\n",
       "   delz=0.026,\n",
       "   seed=84672,\n",
       "   npart=1024,\n",
       " ),\n",
       " Time(slen=1.5e-05, sample=200),\n",
       " Field(dgrid=0.0001, ngrid=101, accumulate=True),\n",
       " ProfileFile(\n",
       "   label='beamcurrent',\n",
       "   xdata='beam_current.h5/s',\n",
       "   ydata='beam_current.h5/current',\n",
       " ),\n",
       " ProfileFile(label='beamgamma', xdata='beam_gamma.h5/s', ydata='beam_gamma.h5/gamma'),\n",
       " Beam(\n",
       "   gamma='@beamgamma',\n",
       "   delgam=3.97848,\n",
       "   current='@beamcurrent',\n",
       "   ex=4e-07,\n",
       "   ey=4e-07,\n",
       "   betax=7.910909406464387,\n",
       "   betay=16.881178621346898,\n",
       "   alphax=-0.7393217413918415,\n",
       "   alphay=1.3870723536888105,\n",
       " ),\n",
       " Track(zstop=10.0)]"
      ]
     },
     "execution_count": 3,
     "metadata": {},
     "output_type": "execute_result"
    }
   ],
   "source": [
    "input.namelists"
   ]
  },
  {
   "cell_type": "markdown",
   "id": "988577ec-93c7-41fe-9e03-f13ade245c7d",
   "metadata": {},
   "source": [
    "This `input` object is a convenient dataclass which contains all of the namelists and offers some convenience methods."
   ]
  },
  {
   "cell_type": "markdown",
   "id": "e4a79252-3e20-4e4d-b998-8910220abf61",
   "metadata": {},
   "source": [
    "We can see the Genesis 4 representation of a namelist by looking at `namelist.to_genesis()`:"
   ]
  },
  {
   "cell_type": "code",
   "execution_count": 4,
   "id": "0df2e14c-276b-4828-8c4c-2cb38c91f83e",
   "metadata": {},
   "outputs": [
    {
     "name": "stdout",
     "output_type": "stream",
     "text": [
      "&setup\n",
      "  rootname = LCLS2_HXR_9keV\n",
      "  lattice = hxr.lat\n",
      "  beamline = HXR\n",
      "  gamma0 = 19174.0776\n",
      "  lambda0 = 1.3789244869952112e-10\n",
      "  delz = 0.026\n",
      "  seed = 84672\n",
      "  npart = 1024\n",
      "&end\n"
     ]
    }
   ],
   "source": [
    "print(input.setup.to_genesis())"
   ]
  },
  {
   "cell_type": "markdown",
   "id": "37e3be42-e699-428b-b570-1ebb5938f810",
   "metadata": {},
   "source": [
    "The parser also works directly with strings if you prefer with `.from_contents`. Try the following:"
   ]
  },
  {
   "cell_type": "code",
   "execution_count": 5,
   "id": "66542093-04ff-42d5-b673-045db23de974",
   "metadata": {},
   "outputs": [],
   "source": [
    "input = g4.MainInput.from_contents(\n",
    "    \"\"\"\n",
    "&setup\n",
    "  rootname = LCLS2_HXR_9keV\n",
    "  lattice = hxr.lat\n",
    "  beamline = HXR\n",
    "  gamma0 = 19174.0776\n",
    "  lambda0 = 1.3789244869952112e-10\n",
    "  delz = 0.026\n",
    "  seed = 84672\n",
    "  npart = 1024\n",
    "&end\n",
    "\"\"\"\n",
    ")"
   ]
  },
  {
   "cell_type": "code",
   "execution_count": 6,
   "id": "3f2f6ca9-10a3-4f7a-8212-0a00b880beef",
   "metadata": {},
   "outputs": [
    {
     "data": {
      "text/html": [
       "<pre>Setup(\n",
       "  rootname='LCLS2_HXR_9keV',\n",
       "  lattice='hxr.lat',\n",
       "  beamline='HXR',\n",
       "  gamma0=19174.0776,\n",
       "  lambda0=1.3789244869952112e-10,\n",
       "  delz=0.026,\n",
       "  seed=84672,\n",
       "  npart=1024,\n",
       ")</pre>"
      ],
      "text/plain": [
       "Setup(\n",
       "  rootname='LCLS2_HXR_9keV',\n",
       "  lattice='hxr.lat',\n",
       "  beamline='HXR',\n",
       "  gamma0=19174.0776,\n",
       "  lambda0=1.3789244869952112e-10,\n",
       "  delz=0.026,\n",
       "  seed=84672,\n",
       "  npart=1024,\n",
       ")"
      ]
     },
     "execution_count": 6,
     "metadata": {},
     "output_type": "execute_result"
    }
   ],
   "source": [
    "input.setup"
   ]
  },
  {
   "cell_type": "code",
   "execution_count": 7,
   "id": "e873b0e2-b8cb-4e32-af7b-797d67ee36f8",
   "metadata": {},
   "outputs": [
    {
     "data": {
      "text/html": [
       "<pre>MainInput(\n",
       "  namelists=[\n",
       "    Setup(\n",
       "      rootname='LCLS2_HXR_9keV',\n",
       "      lattice='hxr.lat',\n",
       "      beamline='HXR',\n",
       "      gamma0=19174.0776,\n",
       "      lambda0=1.3789244869952112e-10,\n",
       "      delz=0.026,\n",
       "      seed=84672,\n",
       "      npart=1024,\n",
       "    ),\n",
       "  ],\n",
       "  filename=pathlib.Path('unknown'),\n",
       ")</pre>"
      ],
      "text/plain": [
       "MainInput(\n",
       "  namelists=[\n",
       "    Setup(\n",
       "      rootname='LCLS2_HXR_9keV',\n",
       "      lattice='hxr.lat',\n",
       "      beamline='HXR',\n",
       "      gamma0=19174.0776,\n",
       "      lambda0=1.3789244869952112e-10,\n",
       "      delz=0.026,\n",
       "      seed=84672,\n",
       "      npart=1024,\n",
       "    ),\n",
       "  ],\n",
       "  filename=pathlib.Path('unknown'),\n",
       ")"
      ]
     },
     "execution_count": 7,
     "metadata": {},
     "output_type": "execute_result"
    }
   ],
   "source": [
    "input"
   ]
  },
  {
   "cell_type": "markdown",
   "id": "c3c5570c-3775-4ffc-a2cc-bb5bed693254",
   "metadata": {},
   "source": [
    "You can see full descriptions of all parameters and values in a table format:"
   ]
  },
  {
   "cell_type": "code",
   "execution_count": 8,
   "id": "101891e7-b2ff-4970-8eb8-780ceab14d52",
   "metadata": {},
   "outputs": [
    {
     "data": {
      "text/html": [
       "<!-- lume-genesis detected Jupyter and will use HTML for rendering. -->"
      ],
      "text/plain": []
     },
     "metadata": {},
     "output_type": "display_data"
    },
    {
     "data": {
      "text/html": [
       "\n",
       "        <div style=\"display: flex; justify-content: flex-end;\">\n",
       "          <button class=\"copy-5816c7052a614c4abd4988ee3d860fd4\">\n",
       "            Copy to clipboard\n",
       "          </button>\n",
       "          <br />\n",
       "        </div>\n",
       "        <script type=\"text/javascript\">\n",
       "          function copy_to_clipboard(text) {\n",
       "            navigator.clipboard.writeText(text).then(\n",
       "              function () {\n",
       "                console.log(\"Copied to clipboard:\", text);\n",
       "              },\n",
       "              function (err) {\n",
       "                console.error(\"Failed to copy to clipboard:\", err, text);\n",
       "              },\n",
       "            );\n",
       "          }\n",
       "          var copy_button = document.querySelector(\".copy-5816c7052a614c4abd4988ee3d860fd4\");\n",
       "          copy_button.addEventListener(\"click\", function (event) {\n",
       "            copy_to_clipboard(`{\n",
       "  '0': Setup(\n",
       "    rootname='LCLS2_HXR_9keV',\n",
       "    lattice='hxr.lat',\n",
       "    beamline='HXR',\n",
       "    gamma0=19174.0776,\n",
       "    lambda0=1.3789244869952112e-10,\n",
       "    delz=0.026,\n",
       "    seed=84672,\n",
       "    npart=1024,\n",
       "  ),\n",
       "}`);\n",
       "          });\n",
       "        </script>\n",
       "        \n",
       "<table style=\"table td:nth-child(3) { text-align: start; }\">\n",
       " <tr>\n",
       "  <th>Attribute</th>\n",
       "  <th>Value</th>\n",
       "  <th>Type</th>\n",
       "  <th>Description</th>\n",
       " </tr>\n",
       "</th>\n",
       "<tbody>\n",
       "<tr><td>0</td><td>\n",
       "        <div style=\"display: flex; justify-content: flex-end;\">\n",
       "          <button class=\"copy-ac86e02298da42a28fd285d687280ff6\">\n",
       "            Copy to clipboard\n",
       "          </button>\n",
       "          <br />\n",
       "        </div>\n",
       "        <script type=\"text/javascript\">\n",
       "          function copy_to_clipboard(text) {\n",
       "            navigator.clipboard.writeText(text).then(\n",
       "              function () {\n",
       "                console.log(\"Copied to clipboard:\", text);\n",
       "              },\n",
       "              function (err) {\n",
       "                console.error(\"Failed to copy to clipboard:\", err, text);\n",
       "              },\n",
       "            );\n",
       "          }\n",
       "          var copy_button = document.querySelector(\".copy-ac86e02298da42a28fd285d687280ff6\");\n",
       "          copy_button.addEventListener(\"click\", function (event) {\n",
       "            copy_to_clipboard(`Setup(\n",
       "  rootname='LCLS2_HXR_9keV',\n",
       "  lattice='hxr.lat',\n",
       "  beamline='HXR',\n",
       "  gamma0=19174.0776,\n",
       "  lambda0=1.3789244869952112e-10,\n",
       "  delz=0.026,\n",
       "  seed=84672,\n",
       "  npart=1024,\n",
       ")`);\n",
       "          });\n",
       "        </script>\n",
       "        \n",
       "<table style=\"table td:nth-child(3) { text-align: start; }\">\n",
       " <tr>\n",
       "  <th>Attribute</th>\n",
       "  <th>Value</th>\n",
       "  <th>Type</th>\n",
       "  <th>Description</th>\n",
       " </tr>\n",
       "</th>\n",
       "<tbody>\n",
       "<tr><td>type</td><td>setup</td><td>str</td><td style=\"text-align: left;\"></td></tr>\n",
       "<tr><td>rootname</td><td>LCLS2_HXR_9keV</td><td>str</td><td style=\"text-align: left;\">The basic string, with which all output files will start, unless the output filename is directly overwritten (see `write` namelist)</td></tr>\n",
       "<tr><td>outputdir</td><td></td><td>str</td><td style=\"text-align: left;\">Output directory name.</td></tr>\n",
       "<tr><td>lattice</td><td>hxr.lat</td><td>str</td><td style=\"text-align: left;\">The name of the file which contains the undulator lattice description. This can also include some relative paths if the lattice file is not in the same directory as the input file.</td></tr>\n",
       "<tr><td>beamline</td><td>HXR</td><td>str</td><td style=\"text-align: left;\">The name of the beamline, which has to be defined within the lattice file. For more information on the lattice file, see the next chapter.</td></tr>\n",
       "<tr><td>gamma0</td><td>19174.0776</td><td>float</td><td style=\"text-align: left;\">The reference energy in unites of the electron rest mass. This is the reference energy which is used in the code at various place, mostly in the calculation of the matching condition, the reference focusing strength of quadrupoles and undulator as well as the default value if an electron distribution is generated.</td></tr>\n",
       "<tr><td>lambda0</td><td>1.3789244869952112e-10</td><td>float</td><td style=\"text-align: left;\">The reference wavelength in meter, which is used as the wavelength in steady-state simulation or for defining the sample distance in time- dependent runs. It also acts as the default value when field distributions are generated.</td></tr>\n",
       "<tr><td>delz</td><td>0.026</td><td>float</td><td style=\"text-align: left;\">Preferred integration stepsize in meter. Note that this is not a strict value because Genesis tries to optimized the stepsize according to the elements it can resolve. E.g. if an undulator is 1.99 m long but the preferred stepsize is 2 cm than it uses a stepsize which is the closest to preserve the number of integration step. In this case the preferred stepsize gives 99.5 steps which is than rounded to 100 and thus resulting in an actual stepsize of 1.99 cm. Note that outside of the undulator, which are free drifts for the radiation field, Genesis progresses the electron beam and radiation field in larger steps, namely one step per resolved element (drift, quadrupole, phase shifter).</td></tr>\n",
       "<tr><td>seed</td><td>84672</td><td>int</td><td style=\"text-align: left;\">Seed to initialize the random number generator, which is used for shot noise calculation and undulator lattice errors, though it is recommended that the random number generator seed is redefined explicitly for undulator errors in its corresponding namelist.</td></tr>\n",
       "<tr><td>npart</td><td>1024</td><td>int</td><td style=\"text-align: left;\">Number of macro particles per slice. Note that the number must be a multiple of the used bins `nbins` otherwise Genesis will exit with an error. If one-for-one simulations are used, this parameter has no meaning.</td></tr>\n",
       "<tr><td>nbins</td><td>4</td><td>int</td><td style=\"text-align: left;\">Number of macro particles, which are grouped into beamlets for gener ating the correct shot noise. For one-for-one simulations this parameter has no meaning</td></tr>\n",
       "<tr><td>one4one</td><td>False</td><td>bool</td><td style=\"text-align: left;\">Flag to enable or disable resolving each electron in the simulation. This is mandatory for certain features, such as sorting or slicing of particle distributions. If set to `true` other parameters such as `npart` and `nbins` are obsolete and do not need to be defined. It is recommended to estimate the number of electrons, which are generated in the simulations, because this can easily required memory beyond what is available on the computer.</td></tr>\n",
       "<tr><td>shotnoise</td><td>True</td><td>bool</td><td style=\"text-align: left;\">Flag to enable the calculation of shotnoise per each slice during generation of the electron distribution. It is recommended to set the value to `false` for steady-state or scan simulations.</td></tr>\n",
       "<tr><td>beam_global_stat</td><td>False</td><td>bool</td><td style=\"text-align: left;\">Flag to enable extra output of beam parameters of the entire bunch, such as energy, energy spread etc. The data are placed in the HDF group ”Global” within the group ”Beam” of the output file</td></tr>\n",
       "<tr><td>field_global_stat</td><td>False</td><td>bool</td><td style=\"text-align: left;\">Flag for the field output, similar to `beam_global_stat`.</td></tr>\n",
       "<tr><td>exclude_spatial_output</td><td>False</td><td>bool</td><td style=\"text-align: left;\">Flag to suppress the datasets in the output file for the x- and y-position and size (both Beam and Field) and px- and py-position (Beam only). This might be useful to reduce the file size of the output file, if these datasets are not needed for the post-processing</td></tr>\n",
       "<tr><td>exclude_fft_output</td><td>False</td><td>bool</td><td style=\"text-align: left;\">Flag to suppress the datasets in the output file for the field divergence and pointing. Since it also disable the FFT calculation of the 2D wavefronts it speeds up the execution time slightly. If the code has been compiled without the support of the FFTW library this parametr has no effect.</td></tr>\n",
       "<tr><td>exclude_intensity_output</td><td>False</td><td>bool</td><td style=\"text-align: left;\">Flag to suppress the datasets for the near and farfield intensity and phase for the radiation field. If excluded the output file size becomes smaller but no post-processing calculation of the spectra is possible.</td></tr>\n",
       "<tr><td>exclude_energy_output</td><td>False</td><td>bool</td><td style=\"text-align: left;\">Flag to suppress the datasets in the output file for the mean energy and energy spread of the electron beam.</td></tr>\n",
       "<tr><td>exclude_aux_output</td><td>False</td><td>bool</td><td style=\"text-align: left;\">Flag to suppress the auxiliary datasets in the output file. In the moment it is the long-range longitudinal electric field as seen by the electrons.</td></tr>\n",
       "<tr><td>exclude_current_output</td><td>True</td><td>bool</td><td style=\"text-align: left;\">Flag to reduce the size of the current dataset for the electron beam. Under most circumstances the current profile is constant and only the initial current profile is written out. However, simulation with one-4-one set to `true` and sorting events the current profile might change. Example are ESASE/HGHG schemes. By setting the flag to false the current profile is written out at each output step similar to radiation power and bunching profile.</td></tr>\n",
       "<tr><td>exclude_field_dump</td><td>False</td><td>bool</td><td style=\"text-align: left;\">Exclude the field dump to `.fld.h5`.</td></tr>\n",
       "<tr><td>write_meta_file</td><td>False</td><td>bool</td><td style=\"text-align: left;\">Write a metadata file.</td></tr>\n",
       "<tr><td>semaphore_file_name</td><td></td><td>str</td><td style=\"text-align: left;\">Providing a file name for the semaphore file always switches on writing the &#x27;done&#x27; semaphore file, overriding &#x27;write_semaphore_file&#x27; flag. This allows to switch on semaphore functionality just by specifying corresponding command line argument -- no modification of G4 input file needed.</td></tr>\n",
       "<tr><td>write_semaphore_file</td><td>False</td><td>bool</td><td style=\"text-align: left;\">Write a semaphore file when the simulation has completed.</td></tr>\n",
       "<tr><td>write_semaphore_file_done</td><td>False</td><td>bool</td><td style=\"text-align: left;\">Alias for `write_semaphore_file`. This takes precedence over `write_semaphore_file` if both are specified.</td></tr>\n",
       "<tr><td>write_semaphore_file_started</td><td>False</td><td>bool</td><td style=\"text-align: left;\">Write a semaphore file at startup, after the setup block is parsed.</td></tr>\n",
       "</tbody>\n",
       "</table></td><td></td><td style=\"text-align: left;\"></td></tr>\n",
       "</tbody>\n",
       "</table>"
      ],
      "text/plain": [
       "<genesis.tools.table_output.<locals>._InfoObj at 0x14c21e2d0>"
      ]
     },
     "execution_count": 8,
     "metadata": {},
     "output_type": "execute_result"
    }
   ],
   "source": [
    "input.to_table()"
   ]
  }
 ],
 "metadata": {
  "kernelspec": {
   "display_name": "Python 3 (ipykernel)",
   "language": "python",
   "name": "python3"
  },
  "language_info": {
   "codemirror_mode": {
    "name": "ipython",
    "version": 3
   },
   "file_extension": ".py",
   "mimetype": "text/x-python",
   "name": "python",
   "nbconvert_exporter": "python",
   "pygments_lexer": "ipython3",
   "version": "3.12.3"
  }
 },
 "nbformat": 4,
 "nbformat_minor": 5
}
