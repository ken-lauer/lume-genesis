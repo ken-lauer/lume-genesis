{
 "cells": [
  {
   "cell_type": "markdown",
   "id": "efe9762c-8903-450a-b973-5c7d85e6f05f",
   "metadata": {},
   "source": [
    "# Working with MainInput"
   ]
  },
  {
   "cell_type": "code",
   "execution_count": null,
   "id": "6f36ed75-cb14-40a7-9c6b-7983b21bb34d",
   "metadata": {},
   "outputs": [],
   "source": [
    "import genesis.version4 as g4\n",
    "\n",
    "%config InlineBackend.figure_format = 'retina' # Nicer plots"
   ]
  },
  {
   "cell_type": "markdown",
   "id": "02789cba-0904-4f64-b28a-aa9c91b7bbf3",
   "metadata": {},
   "source": [
    "## Load an existing main input file\n",
    "\n",
    "You can load Genesis4-format main input directly from a file by using `from_file`:"
   ]
  },
  {
   "cell_type": "code",
   "execution_count": null,
   "id": "9208f1ff-e09a-4f00-ad83-861ef0e575d5",
   "metadata": {},
   "outputs": [],
   "source": [
    "input = g4.MainInput.from_file(\"data/basic4/cu_hxr.in\")"
   ]
  },
  {
   "cell_type": "code",
   "execution_count": null,
   "id": "676c3a8f-20e0-4e7e-b12e-46a7d713a0b1",
   "metadata": {},
   "outputs": [],
   "source": [
    "input.namelists"
   ]
  },
  {
   "cell_type": "markdown",
   "id": "988577ec-93c7-41fe-9e03-f13ade245c7d",
   "metadata": {},
   "source": [
    "This `input` object is a convenient dataclass which contains all of the namelists and offers some convenience methods."
   ]
  },
  {
   "cell_type": "markdown",
   "id": "e4a79252-3e20-4e4d-b998-8910220abf61",
   "metadata": {},
   "source": [
    "We can see the Genesis 4 representation of a namelist by looking at `namelist.to_genesis()`:"
   ]
  },
  {
   "cell_type": "code",
   "execution_count": null,
   "id": "0df2e14c-276b-4828-8c4c-2cb38c91f83e",
   "metadata": {},
   "outputs": [],
   "source": [
    "print(input.setup.to_genesis())"
   ]
  },
  {
   "cell_type": "markdown",
   "id": "37e3be42-e699-428b-b570-1ebb5938f810",
   "metadata": {},
   "source": [
    "The parser also works directly with strings if you prefer with `.from_contents`. Try the following:"
   ]
  },
  {
   "cell_type": "code",
   "execution_count": null,
   "id": "66542093-04ff-42d5-b673-045db23de974",
   "metadata": {},
   "outputs": [],
   "source": [
    "input = g4.MainInput.from_contents(\n",
    "    \"\"\"\n",
    "&setup\n",
    "  rootname = LCLS2_HXR_9keV\n",
    "  lattice = hxr.lat\n",
    "  beamline = HXR\n",
    "  gamma0 = 19174.0776\n",
    "  lambda0 = 1.3789244869952112e-10\n",
    "  delz = 0.026\n",
    "  seed = 84672\n",
    "  npart = 1024\n",
    "&end\n",
    "\"\"\"\n",
    ")"
   ]
  },
  {
   "cell_type": "code",
   "execution_count": null,
   "id": "3f2f6ca9-10a3-4f7a-8212-0a00b880beef",
   "metadata": {},
   "outputs": [],
   "source": [
    "input.setup"
   ]
  },
  {
   "cell_type": "code",
   "execution_count": null,
   "id": "e873b0e2-b8cb-4e32-af7b-797d67ee36f8",
   "metadata": {},
   "outputs": [],
   "source": [
    "input"
   ]
  },
  {
   "cell_type": "markdown",
   "id": "c3c5570c-3775-4ffc-a2cc-bb5bed693254",
   "metadata": {},
   "source": [
    "You can see full descriptions of all parameters and values in a table format:"
   ]
  },
  {
   "cell_type": "code",
   "execution_count": null,
   "id": "101891e7-b2ff-4970-8eb8-780ceab14d52",
   "metadata": {},
   "outputs": [],
   "source": [
    "input.to_table()"
   ]
  }
 ],
 "metadata": {
  "kernelspec": {
   "display_name": "Python 3 (ipykernel)",
   "language": "python",
   "name": "python3"
  },
  "language_info": {
   "codemirror_mode": {
    "name": "ipython",
    "version": 3
   },
   "file_extension": ".py",
   "mimetype": "text/x-python",
   "name": "python",
   "nbconvert_exporter": "python",
   "pygments_lexer": "ipython3",
   "version": "3.12.3"
  }
 },
 "nbformat": 4,
 "nbformat_minor": 5
}
