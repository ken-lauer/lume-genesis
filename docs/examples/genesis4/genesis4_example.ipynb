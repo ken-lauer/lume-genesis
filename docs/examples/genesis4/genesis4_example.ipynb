{
 "cells": [
  {
   "cell_type": "markdown",
   "id": "d8dd4f41-6f08-4f13-90f1-da494663a3f2",
   "metadata": {},
   "source": [
    "# Genesis4 Basic Example\n",
    "\n",
    "This will show the basic usage of LUME-Genesis."
   ]
  },
  {
   "cell_type": "code",
   "execution_count": null,
   "id": "1f0bff4d-5a9d-47bc-8049-dc84f90fb881",
   "metadata": {},
   "outputs": [],
   "source": [
    "import matplotlib.pyplot as plt\n",
    "import numpy as np\n",
    "\n",
    "import genesis\n",
    "from genesis.version4 import Genesis4, Track, Write\n",
    "\n",
    "%config InlineBackend.figure_format = 'retina'"
   ]
  },
  {
   "cell_type": "markdown",
   "id": "380ce4b8-4873-4dbc-a8dd-6cdb67d4ad32",
   "metadata": {},
   "source": [
    "## Setup"
   ]
  },
  {
   "cell_type": "markdown",
   "id": "1c4d2faf-8884-4c1c-8570-36b79a6454dd",
   "metadata": {},
   "source": [
    "Instantiate the object on a value init file. This will configure a working directory that stages all input and output files."
   ]
  },
  {
   "cell_type": "code",
   "execution_count": null,
   "id": "db8b98c7-3388-4413-a1a5-cda470041d7e",
   "metadata": {},
   "outputs": [],
   "source": [
    "G = Genesis4(\"data/basic4/cu_hxr.in\", \"data/basic4/hxr.lat\", verbose=True)"
   ]
  },
  {
   "cell_type": "markdown",
   "id": "0fc33c6a-7b45-4f71-8721-fe7e42def63a",
   "metadata": {},
   "source": [
    "Here is what the main input (\"cu_hxr.in\") looks like in Python:"
   ]
  },
  {
   "cell_type": "code",
   "execution_count": null,
   "id": "9078c6ca-e5b0-491c-9e93-e863d0af95a1",
   "metadata": {},
   "outputs": [],
   "source": [
    "G.input.main"
   ]
  },
  {
   "cell_type": "markdown",
   "id": "2db0cd4d-d7d3-4796-951d-de55c8b854fd",
   "metadata": {},
   "source": [
    "Inspect the main input by filtering the namelists by their type:"
   ]
  },
  {
   "cell_type": "code",
   "execution_count": null,
   "id": "a1669c99-0556-4720-bdbf-cb5516d04157",
   "metadata": {},
   "outputs": [],
   "source": [
    "G.input.main.tracks"
   ]
  },
  {
   "cell_type": "markdown",
   "id": "630c6ba0-779e-4ee2-9add-cac3b7bea331",
   "metadata": {},
   "source": [
    "There is also a dictionary mapping you can use to see all types by using their type class directly:"
   ]
  },
  {
   "cell_type": "code",
   "execution_count": null,
   "id": "00aa3374-6d87-4062-a646-44daf2ef766c",
   "metadata": {},
   "outputs": [],
   "source": [
    "G.input.main.by_namelist[Track]"
   ]
  },
  {
   "cell_type": "markdown",
   "id": "6cea6e20-b0a6-4882-b0f3-9d49e78c0eab",
   "metadata": {},
   "source": [
    "We can use this to modify the z-stop for all track instances:"
   ]
  },
  {
   "cell_type": "code",
   "execution_count": null,
   "id": "12fb1616-b2a5-4f6f-be9b-45bfcafa6370",
   "metadata": {},
   "outputs": [],
   "source": [
    "for track in G.input.main.tracks:\n",
    "    track.zstop = 12"
   ]
  },
  {
   "cell_type": "code",
   "execution_count": null,
   "id": "ca14a88c-3ad9-49ca-b0b5-73883a28daf7",
   "metadata": {},
   "outputs": [],
   "source": [
    "G.input.main.tracks"
   ]
  },
  {
   "cell_type": "markdown",
   "id": "2985656c-e142-40a1-b4a8-12d0ff57c751",
   "metadata": {},
   "source": [
    "You can view the data as a convenient table, too, when looking at a single namelist:"
   ]
  },
  {
   "cell_type": "code",
   "execution_count": null,
   "id": "f49f0969-8ac5-4608-a951-a7a843907af8",
   "metadata": {},
   "outputs": [],
   "source": [
    "G.input.main.tracks[0].to_table()"
   ]
  },
  {
   "cell_type": "code",
   "execution_count": null,
   "id": "0dd1020d-717c-4c78-ba4f-9f58c0e72936",
   "metadata": {},
   "outputs": [],
   "source": [
    "# Add writing a field file\n",
    "G.input.main.namelists.append(Write(field=\"end\"))\n",
    "\n",
    "# Add writing a beam (particle) file\n",
    "G.input.main.namelists.append(Write(beam=\"end\"))"
   ]
  },
  {
   "cell_type": "markdown",
   "id": "f8430086-5270-4f95-9896-e373456c3e9f",
   "metadata": {},
   "source": [
    "Let's look at the lattice input format that Genesis will see:"
   ]
  },
  {
   "cell_type": "code",
   "execution_count": null,
   "id": "502251f7-f250-4adf-913c-86a243613c07",
   "metadata": {},
   "outputs": [],
   "source": [
    "print(G.input.lattice.to_genesis())"
   ]
  },
  {
   "cell_type": "markdown",
   "id": "12e96730-4422-4c04-89d9-4b5a3d553d56",
   "metadata": {},
   "source": [
    "Here's what the Python representation would look like:"
   ]
  },
  {
   "cell_type": "code",
   "execution_count": null,
   "id": "7cd8e357-6eb3-4a53-a7c3-55e24dad2815",
   "metadata": {},
   "outputs": [],
   "source": [
    "G.input.lattice"
   ]
  },
  {
   "cell_type": "markdown",
   "id": "40f67f6d-7d76-48a3-bd9d-d30cb378f450",
   "metadata": {},
   "source": [
    "Here's what a fully-detailed table representation looks like:"
   ]
  },
  {
   "cell_type": "code",
   "execution_count": null,
   "id": "96987d1a-ec3b-4525-9fd7-d977a0a3cb82",
   "metadata": {},
   "outputs": [],
   "source": [
    "G.input.lattice.to_table()"
   ]
  },
  {
   "cell_type": "markdown",
   "id": "9f31ac84-89f3-48c4-8c1b-0a8bf7430d2a",
   "metadata": {},
   "source": [
    "You can turn off/on descriptions in tables and configure other aspects of LUME-Genesis rendering of objects for Jupyter:"
   ]
  },
  {
   "cell_type": "code",
   "execution_count": null,
   "id": "4cd5ae64-20aa-460d-b689-3b0f21d976d6",
   "metadata": {},
   "outputs": [],
   "source": [
    "genesis.global_display_options.include_description = False\n",
    "G.input.main.writes[0].to_table()"
   ]
  },
  {
   "cell_type": "markdown",
   "id": "4acb8ff8-4edc-408d-a50e-d0d28d7f5a99",
   "metadata": {},
   "source": [
    "View it as a markdown table for easy pasting into GitHub and other platforms:"
   ]
  },
  {
   "cell_type": "code",
   "execution_count": null,
   "id": "40b0a84c-5172-44cf-90bf-d7c7a96410f1",
   "metadata": {},
   "outputs": [],
   "source": [
    "print(G.input.main.profile_files[0].to_string(\"markdown\"))"
   ]
  },
  {
   "cell_type": "markdown",
   "id": "ad395769-9be1-4ac5-b94f-a4621be58836",
   "metadata": {},
   "source": [
    "## Run\n",
    "Run with MPI. Here, setting `G.nproc = 0` will automatically select the maximum number of CPUs."
   ]
  },
  {
   "cell_type": "code",
   "execution_count": null,
   "id": "4853921c-ae79-4979-a3b1-5136e3062d64",
   "metadata": {},
   "outputs": [],
   "source": [
    "G.nproc = 0\n",
    "output = G.run()"
   ]
  },
  {
   "cell_type": "code",
   "execution_count": null,
   "id": "5a67454c-f1c4-459e-8f9c-79833bfc5b66",
   "metadata": {},
   "outputs": [],
   "source": [
    "if output.run.error:\n",
    "    print(G.output.run.error_reason)\n",
    "else:\n",
    "    print(\"No error\")"
   ]
  },
  {
   "cell_type": "markdown",
   "id": "09d65d50-26c8-4b38-96b9-8fc40b422295",
   "metadata": {},
   "source": [
    "## Output\n",
    "\n",
    "The main output is an HDF5. The Genesis4 object loads all array data into convenient Pydantic models:"
   ]
  },
  {
   "cell_type": "code",
   "execution_count": null,
   "id": "5ae55d12-ef77-434e-be49-f320a1b4d8c4",
   "metadata": {},
   "outputs": [],
   "source": [
    "G.output.beam"
   ]
  },
  {
   "cell_type": "code",
   "execution_count": null,
   "id": "cf2253f7-560d-4d14-b053-456572997275",
   "metadata": {},
   "outputs": [],
   "source": [
    "G.output.beam.stat.alphax.shape"
   ]
  },
  {
   "cell_type": "code",
   "execution_count": null,
   "id": "8aea3301-d305-4ed7-a2c5-1579f634aceb",
   "metadata": {},
   "outputs": [],
   "source": [
    "plt.plot(G.output.beam.stat.sigma_x)\n",
    "plt.yscale(\"log\")"
   ]
  },
  {
   "cell_type": "markdown",
   "id": "e31e6c63-5990-4099-9a4c-b7e88ed2203a",
   "metadata": {},
   "source": [
    "Each of these parameters has a string alias that you can use to refer to the data.  These string parameters can be used in `G.plot()` and similar methods.\n",
    "\n",
    "Here are the first 10 of those keys:"
   ]
  },
  {
   "cell_type": "code",
   "execution_count": null,
   "id": "1ff02fea-005b-4964-b3ab-5f24a063213a",
   "metadata": {},
   "outputs": [],
   "source": [
    "list(G.output.keys())[:10]"
   ]
  },
  {
   "cell_type": "code",
   "execution_count": null,
   "id": "54811514-e593-4ebd-93dc-8f59ad856e76",
   "metadata": {},
   "outputs": [],
   "source": [
    "print(\"Took\", G.output.run.run_time, \"sec\")"
   ]
  },
  {
   "cell_type": "markdown",
   "id": "6b821d56-bb8c-4d5a-bbc4-95cc9f6d1c41",
   "metadata": {},
   "source": [
    "To inspect these aliases, check this dictionary:"
   ]
  },
  {
   "cell_type": "code",
   "execution_count": null,
   "id": "e86079fc-fced-43b7-9515-da7a13d238de",
   "metadata": {},
   "outputs": [],
   "source": [
    "print(G.output.alias[\"alphax\"])"
   ]
  },
  {
   "cell_type": "code",
   "execution_count": null,
   "id": "90dfe947-45eb-4634-b2f3-7cffc57f2a38",
   "metadata": {},
   "outputs": [],
   "source": [
    "G.output[\"alphax\"] is G.output.beam.alphax"
   ]
  },
  {
   "cell_type": "markdown",
   "id": "4ef3d567-6cac-4c17-869b-16458c2316c5",
   "metadata": {},
   "source": [
    "The above indicates that the alias `\"alphax\"` corresponds to the attribute ``beam.alphax``. So, you could access the data either as `G.output[\"alphax\"]` or `G.output.beam.alphax`.\n",
    "\n",
    "Though the former may be shorter, you can take advantage of tab completion when working with the Python classes directly.  Try typing `G.output.beam.` and then hit tab with the cursor after the final `.`. You should see a list of other output beam data."
   ]
  },
  {
   "cell_type": "markdown",
   "id": "75702372-5f60-40c3-b25d-bf45c5bf415d",
   "metadata": {},
   "source": [
    "There are many outputs. `.output_info()` gives a convenient table describing what was read in."
   ]
  },
  {
   "cell_type": "code",
   "execution_count": null,
   "id": "719ab80a-48a4-4b46-ab61-6c7cde7ed1a9",
   "metadata": {},
   "outputs": [],
   "source": [
    "genesis.global_display_options.include_description = True"
   ]
  },
  {
   "cell_type": "code",
   "execution_count": null,
   "id": "faf6723a-f292-4052-9c86-ce20c803cb40",
   "metadata": {},
   "outputs": [],
   "source": [
    "G.output.info()"
   ]
  },
  {
   "cell_type": "markdown",
   "id": "0be8c98b-ccd0-4f20-8b6a-7869a6bb7ff2",
   "metadata": {},
   "source": [
    "## Fields\n",
    "\n",
    "Field files can be very large and are made readily available for lazy loading.\n",
    "Loaded fields are present in `.field` attribute of the output:"
   ]
  },
  {
   "cell_type": "code",
   "execution_count": null,
   "id": "83255588-2128-44b8-94dd-b3d153363f54",
   "metadata": {},
   "outputs": [],
   "source": [
    "list(G.output.field3d)"
   ]
  },
  {
   "cell_type": "markdown",
   "id": "aedb9c4b-765c-4bea-ae30-5a6e0e82c3a2",
   "metadata": {},
   "source": [
    "For convenience, fields and particles may be automatically loaded after a run by using `run(load_fields=True, load_particles=True)` instead.\n",
    "Otherwise, these can be manually loaded individually or all at once:"
   ]
  },
  {
   "cell_type": "code",
   "execution_count": null,
   "id": "56b4c8d7-c8af-44b6-aa55-416bfd2f6fb2",
   "metadata": {},
   "outputs": [],
   "source": [
    "G.output.load_fields()"
   ]
  },
  {
   "cell_type": "code",
   "execution_count": null,
   "id": "e7f56635-c692-4882-b4f7-408a6f55e219",
   "metadata": {},
   "outputs": [],
   "source": [
    "list(G.output.field3d)"
   ]
  },
  {
   "cell_type": "markdown",
   "id": "cbab824a-daa1-441c-8090-d980465d9fdd",
   "metadata": {},
   "source": [
    "This field data has two parts: basic parameters `param`, and the raw 3D complex array `dfl`:"
   ]
  },
  {
   "cell_type": "code",
   "execution_count": null,
   "id": "b419837f-b787-4bc4-8047-75d6e009ad6e",
   "metadata": {},
   "outputs": [],
   "source": [
    "G.output.field3d[\"end\"].param"
   ]
  },
  {
   "cell_type": "code",
   "execution_count": null,
   "id": "86bcbc23-ae4c-4061-907a-dda468ce5996",
   "metadata": {},
   "outputs": [],
   "source": [
    "G.output.field3d[\"end\"].dfl.shape"
   ]
  },
  {
   "cell_type": "markdown",
   "id": "ef830be8-ad3e-4cbc-bca5-4e260bc6ab51",
   "metadata": {},
   "source": [
    "`.field` is a convenience property that points to this"
   ]
  },
  {
   "cell_type": "code",
   "execution_count": null,
   "id": "bff299c0-d34c-4105-beca-ce414de13e1a",
   "metadata": {},
   "outputs": [],
   "source": [
    "G.output.field3d[\"end\"].param"
   ]
  },
  {
   "cell_type": "markdown",
   "id": "88eba7f4-b8be-4b2e-a2f9-e4ec3e1bb998",
   "metadata": {},
   "source": [
    "## Visualize Field"
   ]
  },
  {
   "cell_type": "code",
   "execution_count": null,
   "id": "796847c6-069a-49fe-a302-620b297b2b55",
   "metadata": {},
   "outputs": [],
   "source": [
    "# Sum over y and compute the absolute square\n",
    "dfl = G.output.field3d[\"end\"].dfl\n",
    "param = G.output.field3d[\"end\"].param\n",
    "dat2 = np.abs(np.sum(dfl, axis=1)) ** 2"
   ]
  },
  {
   "cell_type": "code",
   "execution_count": null,
   "id": "e8756e07-d55b-43f2-b275-a28f8c2a1eb8",
   "metadata": {},
   "outputs": [],
   "source": [
    "plt.imshow(dat2)"
   ]
  },
  {
   "cell_type": "code",
   "execution_count": null,
   "id": "5ad05cf4-cbdf-46c6-8b96-1f3853fbb27a",
   "metadata": {},
   "outputs": [],
   "source": [
    "def plot_slice(i=0):\n",
    "    dat = np.angle(dfl[:, :, i])\n",
    "\n",
    "    dx = param.gridsize * 1e6\n",
    "    plt.xlabel(\"x (µm)\")\n",
    "    plt.xlabel(\"y (µm)\")\n",
    "    plt.title(f\"Phase for slize {i}\")\n",
    "    plt.imshow(dat.T, origin=\"lower\", extent=[-dx, dx, -dx, dx])\n",
    "\n",
    "\n",
    "plot_slice(i=100)"
   ]
  },
  {
   "cell_type": "markdown",
   "id": "ff8d64ad-fd47-4b2f-8e97-81d20f36c767",
   "metadata": {},
   "source": [
    "# Particles\n",
    "\n",
    "Particle files can be read in as [openPMD-beamphysics](https://christophermayes.github.io/openPMD-beamphysics/) `ParticleGroup` objects.\n",
    "These are loaded only on-demand by default (`run(load_particles=False)`). They may also be loaded all at once, with `load_particles()`."
   ]
  },
  {
   "cell_type": "code",
   "execution_count": null,
   "id": "30f8d9a6-e8c7-4fe2-8f29-ca6cc5f88a30",
   "metadata": {},
   "outputs": [],
   "source": [
    "list(G.output.particle_files)"
   ]
  },
  {
   "cell_type": "code",
   "execution_count": null,
   "id": "21436b26-8386-49f0-ad2b-43ca60b1ccc9",
   "metadata": {},
   "outputs": [],
   "source": [
    "G.output.load_particles()"
   ]
  },
  {
   "cell_type": "markdown",
   "id": "079e7ac6-66da-42a4-aa54-fe550f2f3d85",
   "metadata": {},
   "source": [
    "After loading particles, use the `.particles` attribute to access their data:"
   ]
  },
  {
   "cell_type": "code",
   "execution_count": null,
   "id": "4e5699a2-5bc9-41d4-8207-312228adbbab",
   "metadata": {},
   "outputs": [],
   "source": [
    "G.output.particles"
   ]
  },
  {
   "cell_type": "code",
   "execution_count": null,
   "id": "d0f6f779-7501-43b2-9578-8cc403b82ed1",
   "metadata": {},
   "outputs": [],
   "source": [
    "P = G.output.particles[\"end\"]"
   ]
  },
  {
   "cell_type": "code",
   "execution_count": null,
   "id": "2ade9bfc-4864-4367-a67f-e2bd9347a55b",
   "metadata": {},
   "outputs": [],
   "source": [
    "P.plot(\"z\", \"energy\")"
   ]
  },
  {
   "cell_type": "markdown",
   "id": "80a08f32-bc5b-4588-b6c7-15f737ee3a33",
   "metadata": {},
   "source": [
    "Change to z coordinates to see the current. Note that the head of the bunch is now on the left."
   ]
  },
  {
   "cell_type": "code",
   "execution_count": null,
   "id": "93c08f2e-b462-4222-9f54-9a023a5c8aac",
   "metadata": {},
   "outputs": [],
   "source": [
    "P.drift_to_z()\n",
    "P.plot(\"t\", \"energy\")"
   ]
  },
  {
   "cell_type": "markdown",
   "id": "7df1579e-a7f8-4d8e-9594-2c2d21b4f42b",
   "metadata": {},
   "source": [
    "Check some statistics"
   ]
  },
  {
   "cell_type": "code",
   "execution_count": null,
   "id": "7869dd5b-a5f9-409e-9793-868003de2ff0",
   "metadata": {},
   "outputs": [],
   "source": [
    "P[\"norm_emit_x\"], P[\"norm_emit_y\"], P[\"mean_gamma\"]"
   ]
  },
  {
   "cell_type": "markdown",
   "id": "18d8aca3-1816-49ea-9639-867cd602e272",
   "metadata": {},
   "source": [
    "## Bunching"
   ]
  },
  {
   "cell_type": "code",
   "execution_count": null,
   "id": "9392e382-9c03-48b5-a1ae-b1771fb66e43",
   "metadata": {},
   "outputs": [],
   "source": [
    "wavelength = G.input.main.setup.lambda0\n",
    "bunching_key = f\"bunching_{wavelength}\"\n",
    "P.drift_to_t()\n",
    "\n",
    "P.slice_plot(bunching_key, n_slice=1000)"
   ]
  },
  {
   "cell_type": "code",
   "execution_count": null,
   "id": "a6d7e663-0ed3-47ce-b03a-16e44c38e209",
   "metadata": {},
   "outputs": [],
   "source": [
    "# Genesis4 data\n",
    "final_bunching = G.output.beam.bunching[-1, :]\n",
    "current = G.output.beam.current[-1, :]\n",
    "s = G.output.globals.s\n",
    "\n",
    "\n",
    "# ParticleGroup data\n",
    "ss = P.slice_statistics(bunching_key, n_slice=len(s))\n",
    "ss.keys()\n",
    "x = ss[\"mean_z\"]\n",
    "y = ss[bunching_key]"
   ]
  },
  {
   "cell_type": "markdown",
   "id": "427de96e-65dc-4d1e-bade-10765839d383",
   "metadata": {},
   "source": [
    "Compare "
   ]
  },
  {
   "cell_type": "code",
   "execution_count": null,
   "id": "5eb54ff2-e479-4f67-945e-00b3ddc7aa0b",
   "metadata": {},
   "outputs": [],
   "source": [
    "fig, ax = plt.subplots()\n",
    "ax.plot(x * 1e6, y, label=\"ParticleGroup\")\n",
    "ax.plot(s * 1e6, final_bunching, \"--\", label=\"Genesis4 output\")\n",
    "ax.set_xlabel(\"s (µm)\")\n",
    "ax.set_ylabel(\"bunching\")\n",
    "plt.legend()"
   ]
  },
  {
   "cell_type": "markdown",
   "id": "fcf94675-a601-43d8-8cdc-cf687d350632",
   "metadata": {},
   "source": [
    "This is the average bunching from the ParticleGroup:"
   ]
  },
  {
   "cell_type": "code",
   "execution_count": null,
   "id": "f1f55d3f-454b-4b42-b21b-3575e5fbcd1a",
   "metadata": {},
   "outputs": [],
   "source": [
    "P.bunching(wavelength)"
   ]
  },
  {
   "cell_type": "markdown",
   "id": "549a9b49-d85e-4e3f-befe-a484913313c2",
   "metadata": {},
   "source": [
    "That agrees with the appropriate averaging of Genesis4's bunching calc:"
   ]
  },
  {
   "cell_type": "code",
   "execution_count": null,
   "id": "43061cdd-c8bb-46d6-b035-32e7811b2618",
   "metadata": {},
   "outputs": [],
   "source": [
    "G.stat(\"bunching\")[-1]"
   ]
  },
  {
   "cell_type": "code",
   "execution_count": null,
   "id": "1efe3752-679a-4ff4-a33d-f3fb037de592",
   "metadata": {},
   "outputs": [],
   "source": [
    "G.plot(\"bunching\")"
   ]
  },
  {
   "cell_type": "markdown",
   "id": "d4d0014c-3ed6-438a-8fa1-aaaa160dcb6d",
   "metadata": {},
   "source": [
    "Check the total charge in pC:"
   ]
  },
  {
   "cell_type": "code",
   "execution_count": null,
   "id": "593c2fd2-e996-4776-aa63-c54eff561972",
   "metadata": {},
   "outputs": [],
   "source": [
    "P[\"charge\"] / 1e-12  # pC"
   ]
  },
  {
   "cell_type": "markdown",
   "id": "9976d881-b66d-47a9-9285-177e6fe1e64d",
   "metadata": {},
   "source": [
    "## Units\n",
    "\n",
    "Each item in the output class should have corresponding units."
   ]
  },
  {
   "cell_type": "code",
   "execution_count": null,
   "id": "1448f5cc-ce26-4119-89ae-39399cf9ca71",
   "metadata": {},
   "outputs": [],
   "source": [
    "G.output.units(\"beam_betax\")"
   ]
  },
  {
   "cell_type": "markdown",
   "id": "d586358b-8fec-41f8-8033-aeb0eb0690bc",
   "metadata": {},
   "source": [
    "# Plotting\n",
    "\n",
    "Convenient plotting of the data in `.output` is provided by `.plot`. The default is to plot the power. Depending on the key these statistics are averaged or integrated over the slices. Some keys like `power` are converted to `peak_power`, while `field_energy` is the integral over `field_power`. "
   ]
  },
  {
   "cell_type": "code",
   "execution_count": null,
   "id": "13d0d727-a73b-4b4e-b47d-784afe7837ec",
   "metadata": {},
   "outputs": [],
   "source": [
    "print(G.output.alias[\"power\"])"
   ]
  },
  {
   "cell_type": "code",
   "execution_count": null,
   "id": "ff54ec5b-4ae7-47c5-b167-463e6989bfca",
   "metadata": {},
   "outputs": [],
   "source": [
    "G.plot()"
   ]
  },
  {
   "cell_type": "markdown",
   "id": "c030763f-b606-4981-b326-aaf407bc0c4f",
   "metadata": {},
   "source": [
    "Left and right axes can be set this way:"
   ]
  },
  {
   "cell_type": "code",
   "execution_count": null,
   "id": "03c94a2d-afa4-437c-b83f-a6b4348c5824",
   "metadata": {},
   "outputs": [],
   "source": [
    "G.plot(\"field_energy\", yscale=\"log\", y2=[\"beam_xsize\", \"beam_ysize\"], ylim2=(0, 100e-6))"
   ]
  },
  {
   "cell_type": "markdown",
   "id": "c95f7b24-134a-46d4-93cf-27464c164558",
   "metadata": {},
   "source": [
    "By default, these plots average over slices. In the case of beam sizes, simply averaging these does not take into account the effect of misaligned slices. To plot this, LUME-Genesis provides additional `beam_sigma_x`, `beam_sima_y`, `beam_sigma_energy` keys that properly project these quantities. The difference is noticable in the energy spread calculation:"
   ]
  },
  {
   "cell_type": "code",
   "execution_count": null,
   "id": "1d6db20e-bd06-49be-b2a3-484de6696297",
   "metadata": {},
   "outputs": [],
   "source": [
    "G.plot([\"beam_sigma_energy\", \"beam_energyspread\"], ylim=(0, 100))"
   ]
  },
  {
   "cell_type": "code",
   "execution_count": null,
   "id": "91b5d8d7-df88-44cf-8f04-d91e58f87e6c",
   "metadata": {},
   "outputs": [],
   "source": [
    "G.plot([\"field_xsize\", \"field_ysize\"])"
   ]
  },
  {
   "cell_type": "code",
   "execution_count": null,
   "id": "231f73d0-3655-4a50-b40f-9790661e5c8c",
   "metadata": {},
   "outputs": [],
   "source": [
    "plt.imshow(G.output.field.power, aspect=\"auto\");"
   ]
  },
  {
   "cell_type": "markdown",
   "id": "e01fdc96-0396-4b41-a52a-e7e0b7dbdabc",
   "metadata": {},
   "source": [
    "## Archiving"
   ]
  },
  {
   "cell_type": "code",
   "execution_count": null,
   "id": "0abf000d-66e0-480a-95ef-ac6b5bb3606a",
   "metadata": {},
   "outputs": [],
   "source": [
    "G.archive(\"archived.h5\")\n",
    "\n",
    "Grestored = Genesis4.from_archive(\"archived.h5\")"
   ]
  },
  {
   "cell_type": "code",
   "execution_count": null,
   "id": "ed9e81f6-3283-4cfb-bf7a-fdbe961bddc4",
   "metadata": {},
   "outputs": [],
   "source": [
    "Grestored.output.plot()"
   ]
  },
  {
   "cell_type": "markdown",
   "id": "d52a8220-3e4e-4e6a-803d-7f577d362e4e",
   "metadata": {},
   "source": [
    "### Check that the restored object is the same\n",
    "\n",
    "The Genesis4 object as well as the input, output, and all namelists support equality checks:"
   ]
  },
  {
   "cell_type": "code",
   "execution_count": null,
   "id": "b50e4bb3-ed7d-4b81-b015-e9c77bde9d25",
   "metadata": {},
   "outputs": [],
   "source": [
    "Grestored == G"
   ]
  },
  {
   "cell_type": "code",
   "execution_count": null,
   "id": "80c001ac-aa50-4dea-8702-b5699b6cb884",
   "metadata": {},
   "outputs": [],
   "source": [
    "Grestored.input == G.input"
   ]
  },
  {
   "cell_type": "code",
   "execution_count": null,
   "id": "6342b6bd-e7a4-45e9-8351-0d830c3c1430",
   "metadata": {},
   "outputs": [],
   "source": [
    "Grestored.output == G.output"
   ]
  },
  {
   "cell_type": "markdown",
   "id": "39282db3-d243-4e2f-86b6-69a24496c77a",
   "metadata": {},
   "source": [
    "# Manual loading of Genesis4 data\n",
    "\n",
    "Sometimes it is necessary to run Genesis4 manually, and load the output into LUME-Genesis for further analysis.\n",
    "\n",
    "First, let's create some input to run in a local directory `temp/`:"
   ]
  },
  {
   "cell_type": "code",
   "execution_count": null,
   "id": "3d441adb-a36b-4019-99b3-d6da642c9d0c",
   "metadata": {
    "tags": []
   },
   "outputs": [],
   "source": [
    "import os\n",
    "\n",
    "os.makedirs(\"temp/\", exist_ok=True)\n",
    "G.write_input(\"temp/\")"
   ]
  },
  {
   "cell_type": "markdown",
   "id": "5c58dbab-c35e-449b-9a75-4c1acc54d5cd",
   "metadata": {},
   "source": [
    "Now run on the command line:"
   ]
  },
  {
   "cell_type": "code",
   "execution_count": null,
   "id": "2f03d270-2689-4b6b-ba94-57709cdb8a46",
   "metadata": {
    "tags": []
   },
   "outputs": [],
   "source": [
    "!cd temp; ./run | tee log.txt"
   ]
  },
  {
   "cell_type": "markdown",
   "id": "e4648027-1953-47ce-bf00-d95b3b9f46a0",
   "metadata": {},
   "source": [
    "Using the `use_temp_dir=False` and `workdir` options, the input and output data can be loaded into a new Genesis4 object:"
   ]
  },
  {
   "cell_type": "code",
   "execution_count": null,
   "id": "0935caf2-9bca-422c-9dfa-49c2f60b4690",
   "metadata": {
    "tags": []
   },
   "outputs": [],
   "source": [
    "G2 = Genesis4(\"genesis4.in\", use_temp_dir=False, workdir=\"temp/\", verbose=True)\n",
    "G2.configure()\n",
    "output = G2.load_output()"
   ]
  },
  {
   "cell_type": "code",
   "execution_count": null,
   "id": "7a237779-b92e-429e-b533-bd0ddd26fa42",
   "metadata": {
    "tags": []
   },
   "outputs": [],
   "source": [
    "output.plot()"
   ]
  },
  {
   "cell_type": "markdown",
   "id": "2c444f8c-c156-4eec-9ed4-583807f1d530",
   "metadata": {
    "tags": []
   },
   "source": [
    "# Cleanup"
   ]
  },
  {
   "cell_type": "code",
   "execution_count": null,
   "id": "0b25a922-fe93-42f1-a58f-78ba58aefe64",
   "metadata": {
    "tags": []
   },
   "outputs": [],
   "source": [
    "import shutil\n",
    "\n",
    "shutil.rmtree(\"temp\")\n",
    "os.remove(\"archived.h5\")"
   ]
  }
 ],
 "metadata": {
  "kernelspec": {
   "display_name": "Python 3 (ipykernel)",
   "language": "python",
   "name": "python3"
  },
  "language_info": {
   "codemirror_mode": {
    "name": "ipython",
    "version": 3
   },
   "file_extension": ".py",
   "mimetype": "text/x-python",
   "name": "python",
   "nbconvert_exporter": "python",
   "pygments_lexer": "ipython3",
   "version": "3.12.3"
  }
 },
 "nbformat": 4,
 "nbformat_minor": 5
}
