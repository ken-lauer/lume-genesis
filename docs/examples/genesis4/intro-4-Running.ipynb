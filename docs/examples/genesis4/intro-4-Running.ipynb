{
 "cells": [
  {
   "cell_type": "markdown",
   "id": "efe9762c-8903-450a-b973-5c7d85e6f05f",
   "metadata": {},
   "source": [
    "# Running Genesis4"
   ]
  },
  {
   "cell_type": "code",
   "execution_count": null,
   "id": "6f36ed75-cb14-40a7-9c6b-7983b21bb34d",
   "metadata": {},
   "outputs": [],
   "source": [
    "import genesis.version4 as g4\n",
    "\n",
    "%config InlineBackend.figure_format = 'retina' # Nicer plots"
   ]
  },
  {
   "cell_type": "markdown",
   "id": "02789cba-0904-4f64-b28a-aa9c91b7bbf3",
   "metadata": {},
   "source": [
    "## Create the main input and lattice"
   ]
  },
  {
   "cell_type": "code",
   "execution_count": null,
   "id": "cac8a6a9-7191-4a53-a281-e85336500866",
   "metadata": {},
   "outputs": [],
   "source": [
    "main = g4.MainInput(\n",
    "    [\n",
    "        g4.Setup(\n",
    "            rootname=\"Example1\",\n",
    "            beamline=\"FEL\",\n",
    "            gamma0=11357.82,\n",
    "            delz=0.045,\n",
    "            nbins=8,\n",
    "            shotnoise=False,\n",
    "        ),\n",
    "        g4.LatticeNamelist(zmatch=9.5),\n",
    "        g4.Field(power=5000.0, waist_size=3e-05, dgrid=0.0002, ngrid=255),\n",
    "        g4.Beam(delgam=1.0, current=3000.0, ex=4e-07, ey=4e-07),\n",
    "        g4.Track(),\n",
    "    ],\n",
    ")\n",
    "\n",
    "lattice = g4.Lattice(\n",
    "    {\n",
    "        \"D1\": g4.Drift(L=0.44),\n",
    "        \"D2\": g4.Drift(L=0.24),\n",
    "        \"FEL\": g4.Line(elements=[\"FODO\"] * 6),\n",
    "        \"FODO\": g4.Line(\n",
    "            elements=[\"UND\", \"D1\", \"QF\", \"D2\", \"UND\", \"D1\", \"QD\", \"D2\"],\n",
    "        ),\n",
    "        \"QD\": g4.Quadrupole(L=0.08, k1=-2.0),\n",
    "        \"QF\": g4.Quadrupole(L=0.08, k1=2.0),\n",
    "        \"UND\": g4.Undulator(aw=0.84853, lambdau=0.015, nwig=266, helical=True),\n",
    "    }\n",
    ")"
   ]
  },
  {
   "cell_type": "markdown",
   "id": "b0a500e3-7157-4f72-9eee-72f85bce6181",
   "metadata": {},
   "source": [
    "## Run without verbose output "
   ]
  },
  {
   "cell_type": "code",
   "execution_count": null,
   "id": "1947313d-13fe-4bdc-9db4-5a2332b9e6c3",
   "metadata": {},
   "outputs": [],
   "source": [
    "G = g4.Genesis4(main, lattice, verbose=False)"
   ]
  },
  {
   "cell_type": "code",
   "execution_count": null,
   "id": "ca543c6e-bf0f-4462-b8ff-eb95182c81a6",
   "metadata": {},
   "outputs": [],
   "source": [
    "output = G.run()"
   ]
  },
  {
   "cell_type": "code",
   "execution_count": null,
   "id": "d492f25e-279c-405a-aed6-1dc37064e2d5",
   "metadata": {},
   "outputs": [],
   "source": [
    "G.plot([\"beam_xsize\", \"beam_ysize\", \"field_xsize\", \"field_ysize\"])"
   ]
  },
  {
   "cell_type": "code",
   "execution_count": null,
   "id": "e6acd99b-4417-4007-8368-fda39c436b86",
   "metadata": {},
   "outputs": [],
   "source": [
    "output.info()"
   ]
  },
  {
   "cell_type": "code",
   "execution_count": null,
   "id": "cbcbb7f2-de26-4c02-84a3-6e6a0d7ada3a",
   "metadata": {},
   "outputs": [],
   "source": [
    "output[\"beam_energy\"]"
   ]
  },
  {
   "cell_type": "markdown",
   "id": "d9492492-1c88-4f13-a48f-1cbbbbd95b33",
   "metadata": {},
   "source": [
    "We can still access the output in `output.run.output_log`:"
   ]
  },
  {
   "cell_type": "code",
   "execution_count": null,
   "id": "d743ce80-b1bc-4269-952c-63aafa409533",
   "metadata": {},
   "outputs": [],
   "source": [
    "print(output.run.output_log[:200], \"...\")"
   ]
  },
  {
   "cell_type": "markdown",
   "id": "00d9ed5d-7e0c-43da-aebe-dc10ccc0933b",
   "metadata": {},
   "source": [
    "## Run with verbose output\n",
    "\n",
    "This allows you to monitor Genesis4 as it runs."
   ]
  },
  {
   "cell_type": "code",
   "execution_count": null,
   "id": "5a7750b5-8c88-4407-8916-777450401e75",
   "metadata": {},
   "outputs": [],
   "source": [
    "G.verbose = True\n",
    "output = G.run()"
   ]
  },
  {
   "cell_type": "markdown",
   "id": "a86e7d8a-b4bb-4798-b68b-7f260c6145b0",
   "metadata": {},
   "source": [
    "## Configure MPI for running on your machine\n",
    "\n",
    "By default, Genesis4 objects are configured to use 1 processor (`G.nproc = 1`).\n",
    "\n",
    "To run Genesis4 with MPI, we first need to tell it how many processors to use. To run on 8 cores, we could simply set:\n",
    "```python\n",
    "G.nproc = 8\n",
    "```\n",
    "\n",
    "A special value of `0` or `None` will tell LUME-Genesis to use all available processor cores on your machine:\n",
    "```python\n",
    "G.nproc = 0\n",
    "```\n",
    "We'll use that convenient value below.\n"
   ]
  },
  {
   "cell_type": "code",
   "execution_count": null,
   "id": "e323f7a0-62fd-4407-95c7-decb06fac333",
   "metadata": {},
   "outputs": [],
   "source": [
    "G.nproc = 0\n",
    "output = G.run()"
   ]
  },
  {
   "cell_type": "markdown",
   "id": "12ad3c42-ff32-490c-82c4-5a8b7f73b38d",
   "metadata": {},
   "source": [
    "We should see the \"MPI-Comm size\" as the number of processor cores used by Genesis4 in the output:"
   ]
  },
  {
   "cell_type": "code",
   "execution_count": null,
   "id": "167e31b3-9e4c-4eaf-ba77-ac0ec88793b9",
   "metadata": {},
   "outputs": [],
   "source": [
    "for line in G.output.run.output_log.splitlines():\n",
    "    if \"MPI\" in line:\n",
    "        print(line)"
   ]
  },
  {
   "cell_type": "code",
   "execution_count": null,
   "id": "8930dacc-2dd7-4fa7-b6fa-fb2cb3c43d2c",
   "metadata": {},
   "outputs": [],
   "source": [
    "output.run.to_table()"
   ]
  }
 ],
 "metadata": {
  "kernelspec": {
   "display_name": "Python 3 (ipykernel)",
   "language": "python",
   "name": "python3"
  },
  "language_info": {
   "codemirror_mode": {
    "name": "ipython",
    "version": 3
   },
   "file_extension": ".py",
   "mimetype": "text/x-python",
   "name": "python",
   "nbconvert_exporter": "python",
   "pygments_lexer": "ipython3",
   "version": "3.12.3"
  }
 },
 "nbformat": 4,
 "nbformat_minor": 5
}
