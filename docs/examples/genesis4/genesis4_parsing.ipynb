{
 "cells": [
  {
   "cell_type": "markdown",
   "id": "564eb3f0-cd9b-42c2-8e32-0d88167adcc7",
   "metadata": {},
   "source": [
    "# Genesis4 Parsing"
   ]
  },
  {
   "cell_type": "code",
   "execution_count": 1,
   "id": "d166f450-eb77-4b14-8258-a45424f46f34",
   "metadata": {
    "execution": {
     "iopub.execute_input": "2024-01-03T22:24:07.609462Z",
     "iopub.status.busy": "2024-01-03T22:24:07.609015Z",
     "iopub.status.idle": "2024-01-03T22:24:08.225789Z",
     "shell.execute_reply": "2024-01-03T22:24:08.225262Z"
    }
   },
   "outputs": [],
   "source": [
    "from genesis.version4.parsers import parse_main_input"
   ]
  },
  {
   "cell_type": "code",
   "execution_count": 2,
   "id": "c19503ec-963d-42af-b43b-49990a524b28",
   "metadata": {
    "execution": {
     "iopub.execute_input": "2024-01-03T22:24:08.227776Z",
     "iopub.status.busy": "2024-01-03T22:24:08.227462Z",
     "iopub.status.idle": "2024-01-03T22:24:08.229530Z",
     "shell.execute_reply": "2024-01-03T22:24:08.229308Z"
    }
   },
   "outputs": [],
   "source": [
    "FILE = 'data/basic4/cu_hxr.in'"
   ]
  },
  {
   "cell_type": "code",
   "execution_count": 3,
   "id": "9208f1ff-e09a-4f00-ad83-861ef0e575d5",
   "metadata": {
    "execution": {
     "iopub.execute_input": "2024-01-03T22:24:08.230820Z",
     "iopub.status.busy": "2024-01-03T22:24:08.230718Z",
     "iopub.status.idle": "2024-01-03T22:24:08.236433Z",
     "shell.execute_reply": "2024-01-03T22:24:08.236224Z"
    }
   },
   "outputs": [
    {
     "data": {
      "text/plain": [
       "[{'type': 'setup',\n",
       "  'rootname': 'LCLS2_HXR_9keV',\n",
       "  'lattice': '/Users/cmayes/Code/GitHub/lume-genesis/docs/examples/genesis4/data/basic4/hxr.lat',\n",
       "  'beamline': 'HXR',\n",
       "  'lambda0': 1.3789244869952112e-10,\n",
       "  'gamma0': 19174.0776,\n",
       "  'delz': 0.026,\n",
       "  'seed': 84672,\n",
       "  'npart': 1024},\n",
       " {'type': 'time', 'slen': 1.5e-05, 'sample': 200},\n",
       " {'type': 'field', 'dgrid': 0.0001, 'ngrid': 101, 'accumulate': True},\n",
       " {'type': 'profile_file',\n",
       "  'label': 'beamcurrent',\n",
       "  'xdata': array([0.00000000e+00, 7.50037502e-10, 1.50007500e-09, ...,\n",
       "         1.49984999e-05, 1.49992500e-05, 1.50000000e-05]),\n",
       "  'ydata': array([2.65147892, 2.65521019, 2.65894633, ..., 2.65894633, 2.65521019,\n",
       "         2.65147892])},\n",
       " {'type': 'profile_file',\n",
       "  'label': 'beamgamma',\n",
       "  'xdata': array([0.00000000e+00, 7.50037502e-10, 1.50007500e-09, ...,\n",
       "         1.49984999e-05, 1.49992500e-05, 1.50000000e-05]),\n",
       "  'ydata': array([19394.23415577, 19394.21213902, 19394.19012226, ...,\n",
       "         18953.96507774, 18953.94306098, 18953.92104423])},\n",
       " {'type': 'beam',\n",
       "  'current': '@beamcurrent',\n",
       "  'gamma': '@beamgamma',\n",
       "  'delgam': 3.97848,\n",
       "  'ex': 4e-07,\n",
       "  'ey': 4e-07,\n",
       "  'alphax': -0.7393217413918415,\n",
       "  'betax': 7.910909406464387,\n",
       "  'alphay': 1.3870723536888105,\n",
       "  'betay': 16.881178621346898},\n",
       " {'type': 'track', 'field_dump_at_undexit': False, 'zstop': 10}]"
      ]
     },
     "execution_count": 3,
     "metadata": {},
     "output_type": "execute_result"
    }
   ],
   "source": [
    "parse_main_input(FILE)"
   ]
  }
 ],
 "metadata": {
  "kernelspec": {
   "display_name": "Python 3 (ipykernel)",
   "language": "python",
   "name": "python3"
  },
  "language_info": {
   "codemirror_mode": {
    "name": "ipython",
    "version": 3
   },
   "file_extension": ".py",
   "mimetype": "text/x-python",
   "name": "python",
   "nbconvert_exporter": "python",
   "pygments_lexer": "ipython3",
   "version": "3.12.1"
  }
 },
 "nbformat": 4,
 "nbformat_minor": 5
}
