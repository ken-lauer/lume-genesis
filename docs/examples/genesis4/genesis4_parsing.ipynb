{
 "cells": [
  {
   "cell_type": "markdown",
   "id": "564eb3f0-cd9b-42c2-8e32-0d88167adcc7",
   "metadata": {},
   "source": [
    "# Genesis4 Parsing"
   ]
  },
  {
   "cell_type": "markdown",
   "id": "6ee87258-4428-4924-8cf5-c6584e4657cb",
   "metadata": {},
   "source": [
    "## Main input files"
   ]
  },
  {
   "cell_type": "code",
   "execution_count": 1,
   "id": "d166f450-eb77-4b14-8258-a45424f46f34",
   "metadata": {},
   "outputs": [],
   "source": [
    "from genesis.version4.input import MainInput"
   ]
  },
  {
   "cell_type": "code",
   "execution_count": 2,
   "id": "c19503ec-963d-42af-b43b-49990a524b28",
   "metadata": {},
   "outputs": [],
   "source": [
    "FILE = \"data/basic4/cu_hxr.in\""
   ]
  },
  {
   "cell_type": "markdown",
   "id": "60da649f-478e-40d2-aa04-900893d98704",
   "metadata": {},
   "source": [
    "You can load the main input directly from a file like so:"
   ]
  },
  {
   "cell_type": "code",
   "execution_count": 3,
   "id": "9208f1ff-e09a-4f00-ad83-861ef0e575d5",
   "metadata": {},
   "outputs": [],
   "source": [
    "input = MainInput.from_file(FILE)"
   ]
  },
  {
   "cell_type": "code",
   "execution_count": 4,
   "id": "676c3a8f-20e0-4e7e-b12e-46a7d713a0b1",
   "metadata": {},
   "outputs": [
    {
     "data": {
      "text/plain": [
       "[Setup(rootname='LCLS2_HXR_9keV',\n",
       "     lattice='hxr.lat',\n",
       "     beamline='HXR',\n",
       "     gamma0=19174.0776,\n",
       "     lambda0=1.3789244869952112e-10,\n",
       "     delz=0.026,\n",
       "     seed=84672,\n",
       "     npart=1024),\n",
       " Time(slen=1.5e-05, sample=200),\n",
       " Field(dgrid=0.0001, ngrid=101, accumulate=True),\n",
       " ProfileFile(label='beamcurrent',\n",
       "     xdata='beam_current.h5/s',\n",
       "     ydata='beam_current.h5/current'),\n",
       " ProfileFile(label='beamgamma',\n",
       "     xdata='beam_gamma.h5/s',\n",
       "     ydata='beam_gamma.h5/gamma'),\n",
       " Beam(gamma=Reference(label='beamgamma'),\n",
       "     delgam=3.97848,\n",
       "     current=Reference(label='beamcurrent'),\n",
       "     ex=4e-07,\n",
       "     ey=4e-07,\n",
       "     betax=7.910909406464387,\n",
       "     betay=16.881178621346898,\n",
       "     alphax=-0.7393217413918415,\n",
       "     alphay=1.3870723536888105),\n",
       " Track(zstop=10.0)]"
      ]
     },
     "execution_count": 4,
     "metadata": {},
     "output_type": "execute_result"
    }
   ],
   "source": [
    "input.namelists"
   ]
  },
  {
   "cell_type": "markdown",
   "id": "81ff4a84-22d0-4daf-9501-803b65bcde0b",
   "metadata": {},
   "source": [
    "This `input` object is a convenient dataclass which contains all of the namelists and offers some convenience methods."
   ]
  },
  {
   "cell_type": "markdown",
   "id": "888e8fe0-2815-4ce7-86d5-e5bae0e81eb8",
   "metadata": {},
   "source": [
    "We can see the Genesis 4 representation by looking at `str(namelist)`:"
   ]
  },
  {
   "cell_type": "code",
   "execution_count": 5,
   "id": "0df2e14c-276b-4828-8c4c-2cb38c91f83e",
   "metadata": {},
   "outputs": [
    {
     "name": "stdout",
     "output_type": "stream",
     "text": [
      "&setup\n",
      "  rootname = LCLS2_HXR_9keV\n",
      "  lattice = hxr.lat\n",
      "  beamline = HXR\n",
      "  gamma0 = 19174.0776\n",
      "  lambda0 = 1.3789244869952112e-10\n",
      "  delz = 0.026\n",
      "  seed = 84672\n",
      "  npart = 1024\n",
      "&end\n"
     ]
    }
   ],
   "source": [
    "print(input.get_setup())"
   ]
  },
  {
   "cell_type": "markdown",
   "id": "b9e130a4-ea18-47f8-b582-16ad60c8af5e",
   "metadata": {},
   "source": [
    "The parser also works directly with strings if you prefer. Try the following:"
   ]
  },
  {
   "cell_type": "code",
   "execution_count": 6,
   "id": "66542093-04ff-42d5-b673-045db23de974",
   "metadata": {},
   "outputs": [],
   "source": [
    "input = MainInput.from_contents(\n",
    "    \"\"\"\n",
    "&setup\n",
    "  rootname = LCLS2_HXR_9keV\n",
    "  lattice = hxr.lat\n",
    "  beamline = HXR\n",
    "  gamma0 = 19174.0776\n",
    "  lambda0 = 1.3789244869952112e-10\n",
    "  delz = 0.026\n",
    "  seed = 84672\n",
    "  npart = 1024\n",
    "&end\n",
    "\"\"\"\n",
    ")"
   ]
  },
  {
   "cell_type": "code",
   "execution_count": 7,
   "id": "3f2f6ca9-10a3-4f7a-8212-0a00b880beef",
   "metadata": {},
   "outputs": [
    {
     "data": {
      "text/plain": [
       "Setup(rootname='LCLS2_HXR_9keV',\n",
       "    lattice='hxr.lat',\n",
       "    beamline='HXR',\n",
       "    gamma0=19174.0776,\n",
       "    lambda0=1.3789244869952112e-10,\n",
       "    delz=0.026,\n",
       "    seed=84672,\n",
       "    npart=1024)"
      ]
     },
     "execution_count": 7,
     "metadata": {},
     "output_type": "execute_result"
    }
   ],
   "source": [
    "input.get_setup()"
   ]
  },
  {
   "cell_type": "code",
   "execution_count": 8,
   "id": "e873b0e2-b8cb-4e32-af7b-797d67ee36f8",
   "metadata": {
    "scrolled": true
   },
   "outputs": [
    {
     "data": {
      "text/plain": [
       "MainInput(namelists=[Setup(rootname='LCLS2_HXR_9keV',\n",
       "    lattice='hxr.lat',\n",
       "    beamline='HXR',\n",
       "    gamma0=19174.0776,\n",
       "    lambda0=1.3789244869952112e-10,\n",
       "    delz=0.026,\n",
       "    seed=84672,\n",
       "    npart=1024)], filename=PosixPath('unknown'))"
      ]
     },
     "execution_count": 8,
     "metadata": {},
     "output_type": "execute_result"
    }
   ],
   "source": [
    "input"
   ]
  },
  {
   "cell_type": "markdown",
   "id": "2a24be9a-7803-461d-b30d-df5cf10fc3ae",
   "metadata": {},
   "source": [
    "## Lattice files\n",
    "\n",
    "Lattice files work in a similar fashion."
   ]
  },
  {
   "cell_type": "code",
   "execution_count": 9,
   "id": "6890c04a-b9d7-4870-9cd0-95b5e8a61313",
   "metadata": {},
   "outputs": [],
   "source": [
    "from genesis.version4.input import Lattice"
   ]
  },
  {
   "cell_type": "code",
   "execution_count": 10,
   "id": "992b81a5-509b-4db1-9316-203952284e2b",
   "metadata": {},
   "outputs": [],
   "source": [
    "FILE = \"data/basic4/hxr.lat\""
   ]
  },
  {
   "cell_type": "markdown",
   "id": "313fefe5-2418-4117-b896-edfb47a684cd",
   "metadata": {},
   "source": [
    "You can load the main input directly from a file like so:"
   ]
  },
  {
   "cell_type": "code",
   "execution_count": 11,
   "id": "4acd1721-8309-41a5-903c-927a5ed446f7",
   "metadata": {},
   "outputs": [],
   "source": [
    "lat = Lattice.from_file(FILE)"
   ]
  },
  {
   "cell_type": "code",
   "execution_count": 12,
   "id": "c5603eed-0e72-4d74-8405-814664f9b39d",
   "metadata": {},
   "outputs": [
    {
     "data": {
      "text/plain": [
       "{'QHXH17': Quadrupole(L=0.101, k1=1.78, label='QHXH17'),\n",
       " 'QHXH18': Quadrupole(L=0.101, k1=-1.78, label='QHXH18'),\n",
       " 'QHXH19': Quadrupole(L=0.101, k1=1.78, label='QHXH19'),\n",
       " 'QHXH20': Quadrupole(L=0.101, k1=-1.78, label='QHXH20'),\n",
       " 'QHXH21': Quadrupole(L=0.101, k1=1.78, label='QHXH21'),\n",
       " 'QHXH22': Quadrupole(L=0.101, k1=-1.78, label='QHXH22'),\n",
       " 'QHXH23': Quadrupole(L=0.101, k1=1.78, label='QHXH23'),\n",
       " 'QHXH24': Quadrupole(L=0.101, k1=-1.78, label='QHXH24'),\n",
       " 'QHXH25': Quadrupole(L=0.101, k1=1.78, label='QHXH25'),\n",
       " 'QHXH26': Quadrupole(L=0.101, k1=-1.78, label='QHXH26'),\n",
       " 'QHXH27': Quadrupole(L=0.101, k1=1.78, label='QHXH27'),\n",
       " 'QHXH28': Quadrupole(L=0.101, k1=-1.78, label='QHXH28'),\n",
       " 'QHXH29': Quadrupole(L=0.101, k1=1.78, label='QHXH29'),\n",
       " 'QHXH30': Quadrupole(L=0.101, k1=-1.78, label='QHXH30'),\n",
       " 'QHXH31': Quadrupole(L=0.101, k1=1.78, label='QHXH31'),\n",
       " 'QHXH32': Quadrupole(L=0.101, k1=-1.78, label='QHXH32'),\n",
       " 'QHXH33': Quadrupole(L=0.101, k1=1.78, label='QHXH33'),\n",
       " 'QHXH34': Quadrupole(L=0.101, k1=-1.78, label='QHXH34'),\n",
       " 'QHXH35': Quadrupole(L=0.101, k1=1.78, label='QHXH35'),\n",
       " 'QHXH36': Quadrupole(L=0.101, k1=-1.78, label='QHXH36'),\n",
       " 'QHXH37': Quadrupole(L=0.101, k1=1.78, label='QHXH37'),\n",
       " 'QHXH38': Quadrupole(L=0.101, k1=-1.78, label='QHXH38'),\n",
       " 'QHXH39': Quadrupole(L=0.101, k1=1.78, label='QHXH39'),\n",
       " 'QHXH40': Quadrupole(L=0.101, k1=-1.78, label='QHXH40'),\n",
       " 'QHXH41': Quadrupole(L=0.101, k1=1.78, label='QHXH41'),\n",
       " 'QHXH42': Quadrupole(L=0.101, k1=-1.78, label='QHXH42'),\n",
       " 'QHXH43': Quadrupole(L=0.101, k1=1.78, label='QHXH43'),\n",
       " 'QHXH44': Quadrupole(L=0.101, k1=-1.78, label='QHXH44'),\n",
       " 'QHXH45': Quadrupole(L=0.101, k1=1.78, label='QHXH45'),\n",
       " 'QHXH46': Quadrupole(L=0.101, k1=-1.78, label='QHXH46'),\n",
       " 'QHXH47': Quadrupole(L=0.101, k1=1.78, label='QHXH47'),\n",
       " 'QHXH48': Quadrupole(L=0.101, k1=-1.78, label='QHXH48'),\n",
       " 'QHXH49': Quadrupole(L=0.101, k1=1.78, label='QHXH49'),\n",
       " 'QHXH50': Quadrupole(L=0.101, k1=-1.78, label='QHXH50'),\n",
       " 'UMAHXH17': Undulator(aw=1.7017,\n",
       "     lambdau=0.026,\n",
       "     nwig=130,\n",
       "     label='UMAHXH17'),\n",
       " 'UMAHXH18': Undulator(aw=1.7017,\n",
       "     lambdau=0.026,\n",
       "     nwig=130,\n",
       "     label='UMAHXH18'),\n",
       " 'UMAHXH19': Undulator(aw=1.7017,\n",
       "     lambdau=0.026,\n",
       "     nwig=130,\n",
       "     label='UMAHXH19'),\n",
       " 'UMAHXH20': Undulator(aw=1.7017,\n",
       "     lambdau=0.026,\n",
       "     nwig=130,\n",
       "     label='UMAHXH20'),\n",
       " 'UMAHXH21': Undulator(aw=1.7017,\n",
       "     lambdau=0.026,\n",
       "     nwig=130,\n",
       "     label='UMAHXH21'),\n",
       " 'UMAHXH22': Undulator(aw=1.7017,\n",
       "     lambdau=0.026,\n",
       "     nwig=130,\n",
       "     label='UMAHXH22'),\n",
       " 'UMAHXH23': Undulator(aw=1.7017,\n",
       "     lambdau=0.026,\n",
       "     nwig=130,\n",
       "     label='UMAHXH23'),\n",
       " 'UMAHXH25': Undulator(aw=1.7017,\n",
       "     lambdau=0.026,\n",
       "     nwig=130,\n",
       "     label='UMAHXH25'),\n",
       " 'UMAHXH26': Undulator(aw=1.7017,\n",
       "     lambdau=0.026,\n",
       "     nwig=130,\n",
       "     label='UMAHXH26'),\n",
       " 'UMAHXH27': Undulator(aw=1.7017,\n",
       "     lambdau=0.026,\n",
       "     nwig=130,\n",
       "     label='UMAHXH27'),\n",
       " 'UMAHXH28': Undulator(aw=1.7017,\n",
       "     lambdau=0.026,\n",
       "     nwig=130,\n",
       "     label='UMAHXH28'),\n",
       " 'UMAHXH29': Undulator(aw=1.7017,\n",
       "     lambdau=0.026,\n",
       "     nwig=130,\n",
       "     label='UMAHXH29'),\n",
       " 'UMAHXH30': Undulator(aw=1.7017,\n",
       "     lambdau=0.026,\n",
       "     nwig=130,\n",
       "     label='UMAHXH30'),\n",
       " 'UMAHXH31': Undulator(aw=1.7017,\n",
       "     lambdau=0.026,\n",
       "     nwig=130,\n",
       "     label='UMAHXH31'),\n",
       " 'UMAHXH33': Undulator(aw=1.7017,\n",
       "     lambdau=0.026,\n",
       "     nwig=130,\n",
       "     label='UMAHXH33'),\n",
       " 'UMAHXH34': Undulator(aw=1.7017,\n",
       "     lambdau=0.026,\n",
       "     nwig=130,\n",
       "     label='UMAHXH34'),\n",
       " 'UMAHXH35': Undulator(aw=1.7017,\n",
       "     lambdau=0.026,\n",
       "     nwig=130,\n",
       "     label='UMAHXH35'),\n",
       " 'UMAHXH36': Undulator(aw=1.7017,\n",
       "     lambdau=0.026,\n",
       "     nwig=130,\n",
       "     label='UMAHXH36'),\n",
       " 'UMAHXH37': Undulator(aw=1.7017,\n",
       "     lambdau=0.026,\n",
       "     nwig=130,\n",
       "     label='UMAHXH37'),\n",
       " 'UMAHXH38': Undulator(aw=1.7017,\n",
       "     lambdau=0.026,\n",
       "     nwig=130,\n",
       "     label='UMAHXH38'),\n",
       " 'UMAHXH39': Undulator(aw=1.7017,\n",
       "     lambdau=0.026,\n",
       "     nwig=130,\n",
       "     label='UMAHXH39'),\n",
       " 'UMAHXH40': Undulator(aw=1.7017,\n",
       "     lambdau=0.026,\n",
       "     nwig=130,\n",
       "     label='UMAHXH40'),\n",
       " 'UMAHXH41': Undulator(aw=1.7017,\n",
       "     lambdau=0.026,\n",
       "     nwig=130,\n",
       "     label='UMAHXH41'),\n",
       " 'UMAHXH42': Undulator(aw=1.7017,\n",
       "     lambdau=0.026,\n",
       "     nwig=130,\n",
       "     label='UMAHXH42'),\n",
       " 'UMAHXH43': Undulator(aw=1.7017,\n",
       "     lambdau=0.026,\n",
       "     nwig=130,\n",
       "     label='UMAHXH43'),\n",
       " 'UMAHXH44': Undulator(aw=1.7017,\n",
       "     lambdau=0.026,\n",
       "     nwig=130,\n",
       "     label='UMAHXH44'),\n",
       " 'UMAHXH45': Undulator(aw=1.7017,\n",
       "     lambdau=0.026,\n",
       "     nwig=130,\n",
       "     label='UMAHXH45'),\n",
       " 'UMAHXH46': Undulator(aw=1.7017,\n",
       "     lambdau=0.026,\n",
       "     nwig=130,\n",
       "     label='UMAHXH46'),\n",
       " 'UMAHXH47': Undulator(aw=1.7017,\n",
       "     lambdau=0.026,\n",
       "     nwig=130,\n",
       "     label='UMAHXH47'),\n",
       " 'UMAHXH48': Undulator(aw=1.7017,\n",
       "     lambdau=0.026,\n",
       "     nwig=130,\n",
       "     label='UMAHXH48'),\n",
       " 'UMAHXH49': Undulator(aw=1.7017,\n",
       "     lambdau=0.026,\n",
       "     nwig=130,\n",
       "     label='UMAHXH49'),\n",
       " 'UMAHXH50': Undulator(aw=1.7017,\n",
       "     lambdau=0.026,\n",
       "     nwig=130,\n",
       "     label='UMAHXH50'),\n",
       " 'CORR00': Corrector(L=0.001, label='CORR00'),\n",
       " 'CORR01': Corrector(L=0.001, label='CORR01'),\n",
       " 'CORR02': Corrector(L=0.001, label='CORR02'),\n",
       " 'CORR03': Corrector(L=0.001, label='CORR03'),\n",
       " 'CORR04': Corrector(L=0.001, label='CORR04'),\n",
       " 'CORR05': Corrector(L=0.001, label='CORR05'),\n",
       " 'CORR06': Corrector(L=0.001, label='CORR06'),\n",
       " 'CORR07': Corrector(L=0.001, label='CORR07'),\n",
       " 'CORR08': Corrector(L=0.001, label='CORR08'),\n",
       " 'CORR09': Corrector(L=0.001, label='CORR09'),\n",
       " 'CORR10': Corrector(L=0.001, label='CORR10'),\n",
       " 'CORR11': Corrector(L=0.001, label='CORR11'),\n",
       " 'CORR12': Corrector(L=0.001, label='CORR12'),\n",
       " 'CORR13': Corrector(L=0.001, label='CORR13'),\n",
       " 'CORR14': Corrector(L=0.001, label='CORR14'),\n",
       " 'CORR15': Corrector(L=0.001, label='CORR15'),\n",
       " 'CORR16': Corrector(L=0.001, label='CORR16'),\n",
       " 'CORR17': Corrector(L=0.001, label='CORR17'),\n",
       " 'CORR18': Corrector(L=0.001, label='CORR18'),\n",
       " 'CORR19': Corrector(L=0.001, label='CORR19'),\n",
       " 'CORR20': Corrector(L=0.001, label='CORR20'),\n",
       " 'CORR21': Corrector(L=0.001, label='CORR21'),\n",
       " 'CORR22': Corrector(L=0.001, label='CORR22'),\n",
       " 'CORR23': Corrector(L=0.001, label='CORR23'),\n",
       " 'CORR24': Corrector(L=0.001, label='CORR24'),\n",
       " 'CORR25': Corrector(L=0.001, label='CORR25'),\n",
       " 'CORR26': Corrector(L=0.001, label='CORR26'),\n",
       " 'CORR27': Corrector(L=0.001, label='CORR27'),\n",
       " 'CORR28': Corrector(L=0.001, label='CORR28'),\n",
       " 'CORR29': Corrector(L=0.001, label='CORR29'),\n",
       " 'CORR30': Corrector(L=0.001, label='CORR30'),\n",
       " 'CORR31': Corrector(L=0.001, label='CORR31'),\n",
       " 'CORR32': Corrector(L=0.001, label='CORR32'),\n",
       " 'CORR33': Corrector(L=0.001, label='CORR33'),\n",
       " 'D1': Drift(L=0.1335, label='D1'),\n",
       " 'D2': Drift(L=0.4615, label='D2'),\n",
       " 'D3': Drift(L=0.328, label='D3'),\n",
       " 'D4': Drift(L=3.4, label='D4'),\n",
       " 'HXRSS': Chicane(L=4.55, lb=0.1, label='HXRSS'),\n",
       " 'HXR': Line(elements=['D1', 'UMAHXH17', 'D2', 'QHXH17', 'CORR00', 'D3', 'D1', 'UMAHXH18', 'D2', 'QHXH18', 'CORR01', 'D3', 'D1', 'UMAHXH19', 'D2', 'QHXH19', 'CORR02', 'D3', 'D1', 'UMAHXH20', 'D2', 'QHXH20', 'CORR03', 'D3', 'D1', 'UMAHXH21', 'D2', 'QHXH21', 'CORR04', 'D3', 'D1', 'UMAHXH22', 'D2', 'QHXH22', 'CORR05', 'D3', 'D1', 'UMAHXH23', 'D2', 'QHXH23', 'CORR06', 'D3', 'D1', 'HXRSS', 'D2', 'QHXH24', 'CORR07', 'D3', 'D1', 'UMAHXH25', 'D2', 'QHXH25', 'CORR08', 'D3', 'D1', 'UMAHXH26', 'D2', 'QHXH26', 'CORR09', 'D3', 'D1', 'UMAHXH27', 'D2', 'QHXH27', 'CORR10', 'D3', 'D1', 'UMAHXH28', 'D2', 'QHXH28', 'CORR11', 'D3', 'D1', 'UMAHXH29', 'D2', 'QHXH29', 'CORR12', 'D3', 'D1', 'UMAHXH30', 'D2', 'QHXH30', 'CORR13', 'D3', 'D1', 'UMAHXH31', 'D2', 'QHXH31', 'CORR14', 'D3', 'D1', 'D4', 'D2', 'QHXH32', 'CORR15', 'D3', 'D1', 'UMAHXH33', 'D2', 'QHXH33', 'CORR16', 'D3', 'D1', 'UMAHXH34', 'D2', 'QHXH34', 'CORR17', 'D3', 'D1', 'UMAHXH35', 'D2', 'QHXH35', 'CORR18', 'D3', 'D1', 'UMAHXH36', 'D2', 'QHXH36', 'CORR19', 'D3', 'D1', 'UMAHXH37', 'D2', 'QHXH37', 'CORR20', 'D3', 'D1', 'UMAHXH38', 'D2', 'QHXH38', 'CORR21', 'D3', 'D1', 'UMAHXH39', 'D2', 'QHXH39', 'CORR22', 'D3', 'D1', 'UMAHXH40', 'D2', 'QHXH40', 'CORR23', 'D3', 'D1', 'UMAHXH41', 'D2', 'QHXH41', 'CORR24', 'D3', 'D1', 'UMAHXH42', 'D2', 'QHXH42', 'CORR25', 'D3', 'D1', 'UMAHXH43', 'D2', 'QHXH43', 'CORR26', 'D3', 'D1', 'UMAHXH44', 'D2', 'QHXH44', 'CORR27', 'D3', 'D1', 'UMAHXH45', 'D2', 'QHXH45', 'CORR28', 'D3', 'D1', 'UMAHXH46', 'D2', 'QHXH46', 'CORR29', 'D3', 'D1', 'UMAHXH47', 'D2', 'QHXH47', 'CORR30', 'D3', 'D1', 'UMAHXH48', 'D2', 'QHXH48', 'CORR31', 'D3', 'D1', 'UMAHXH49', 'D2', 'QHXH49', 'CORR32', 'D3', 'D1', 'UMAHXH50', 'D2', 'QHXH50', 'CORR33', 'D3'],\n",
       "     label='HXR'),\n",
       " 'LCLS2_HXR_U1': Line(elements=['D1', 'UMAHXH17', 'D2', 'QHXH17', 'CORR00', 'D3', 'D1', 'UMAHXH18', 'D2', 'QHXH18', 'CORR01', 'D3', 'D1', 'UMAHXH19', 'D2', 'QHXH19', 'CORR02', 'D3', 'D1', 'UMAHXH20', 'D2', 'QHXH20', 'CORR03', 'D3', 'D1', 'UMAHXH21', 'D2', 'QHXH21', 'CORR04', 'D3', 'D1', 'UMAHXH22', 'D2', 'QHXH22', 'CORR05', 'D3', 'D1', 'UMAHXH23', 'D2', 'QHXH23', 'CORR06', 'D3'],\n",
       "     label='LCLS2_HXR_U1'),\n",
       " 'LCLS2_HXR_U2': Line(elements=['D1', 'UMAHXH25', 'D2', 'QHXH25', 'CORR08', 'D3', 'D1', 'UMAHXH26', 'D2', 'QHXH26', 'CORR09', 'D3', 'D1', 'UMAHXH27', 'D2', 'QHXH27', 'CORR10', 'D3', 'D1', 'UMAHXH28', 'D2', 'QHXH28', 'CORR11', 'D3', 'D1', 'UMAHXH29', 'D2', 'QHXH29', 'CORR12', 'D3', 'D1', 'UMAHXH30', 'D2', 'QHXH30', 'CORR13', 'D3', 'D1', 'UMAHXH31', 'D2', 'QHXH31', 'CORR14', 'D3', 'D1', 'D4', 'D2', 'QHXH32', 'CORR15', 'D3', 'D1', 'UMAHXH33', 'D2', 'QHXH33', 'CORR16', 'D3', 'D1', 'UMAHXH34', 'D2', 'QHXH34', 'CORR17', 'D3', 'D1', 'UMAHXH35', 'D2', 'QHXH35', 'CORR18', 'D3', 'D1', 'UMAHXH36', 'D2', 'QHXH36', 'CORR19', 'D3', 'D1', 'UMAHXH37', 'D2', 'QHXH37', 'CORR20', 'D3', 'D1', 'UMAHXH38', 'D2', 'QHXH38', 'CORR21', 'D3', 'D1', 'UMAHXH39', 'D2', 'QHXH39', 'CORR22', 'D3', 'D1', 'UMAHXH40', 'D2', 'QHXH40', 'CORR23', 'D3', 'D1', 'UMAHXH41', 'D2', 'QHXH41', 'CORR24', 'D3', 'D1', 'UMAHXH42', 'D2', 'QHXH42', 'CORR25', 'D3', 'D1', 'UMAHXH43', 'D2', 'QHXH43', 'CORR26', 'D3', 'D1', 'UMAHXH44', 'D2', 'QHXH44', 'CORR27', 'D3', 'D1', 'UMAHXH45', 'D2', 'QHXH45', 'CORR28', 'D3', 'D1', 'UMAHXH46', 'D2', 'QHXH46', 'CORR29', 'D3', 'D1', 'UMAHXH47', 'D2', 'QHXH47', 'CORR30', 'D3', 'D1', 'UMAHXH48', 'D2', 'QHXH48', 'CORR31', 'D3', 'D1', 'UMAHXH49', 'D2', 'QHXH49', 'CORR32', 'D3', 'D1', 'UMAHXH50', 'D2', 'QHXH50', 'CORR33', 'D3'],\n",
       "     label='LCLS2_HXR_U2')}"
      ]
     },
     "execution_count": 12,
     "metadata": {},
     "output_type": "execute_result"
    }
   ],
   "source": [
    "lat.elements"
   ]
  },
  {
   "cell_type": "markdown",
   "id": "125d7fa7-e4c4-4a42-b08e-c90cb6668078",
   "metadata": {},
   "source": [
    "This `input` object is a convenient dataclass which contains all of the namelists and offers some convenience methods."
   ]
  },
  {
   "cell_type": "markdown",
   "id": "1fa8c318-3a61-46e2-ac5f-bc67d22f896d",
   "metadata": {},
   "source": [
    "We can see the Genesis 4 representation by looking at `str(lat)` or `lat.to_genesis()`:"
   ]
  },
  {
   "cell_type": "code",
   "execution_count": 16,
   "id": "e7dfe180-e8a6-442b-bc01-405ff0526170",
   "metadata": {},
   "outputs": [
    {
     "name": "stdout",
     "output_type": "stream",
     "text": [
      "QHXH17: quadrupole = {l=0.101, k1=1.78};\n",
      "QHXH18: quadrupole = {l=0.101, k1=-1.78};\n",
      "QHXH19: quadrupole = {l=0.101, k1=1.78};\n",
      "QHXH20: quadrupole = {l=0.101, k1=-1.78};\n",
      "QHXH21: quadrupole = {l=0.101, k1=1.78};\n",
      "QHXH22: quadrupole = {l=0.101, k1=-1.78};\n",
      "QHXH23: quadrupole = {l=0.101, k1=1.78};\n",
      "QHXH24: quadrupole = {l=0.101, k1=-1.78};\n",
      "QHXH25: quadrupole = {l=0.101, k1=1.78};\n",
      "QHXH26: quadrupole = {l=0.101, k1=-1.78};\n",
      "QHXH27: quadrupole = {l=0.101, k1=1.78};\n",
      "QHXH28: quadrupole = {l=0.101, k1=-1.78};\n",
      "QHXH29: quadrupole = {l=0.101, k1=1.78};\n",
      "QHXH30: quadrupole = {l=0.101, k1=-1.78};\n",
      "QHXH31: quadrupole = {l=0.101, k1=1.78};\n",
      "QHXH32: quadrupole = {l=0.101, k1=-1.78};\n",
      "QHXH33: quadrupole = {l=0.101, k1=1.78};\n",
      "QHXH34: quadrupole = {l=0.101, k1=-1.78};\n",
      "QHXH35: quadrupole = {l=0.101, k1=1.78};\n",
      "QHXH36: quadrupole = {l=0.101, k1=-1.78};\n",
      "QHXH37: quadrupole = {l=0.101, k1=1.78};\n",
      "QHXH38: quadrupole = {l=0.101, k1=-1.78};\n",
      "QHXH39: quadrupole = {l=0.101, k1=1.78};\n",
      "QHXH40: quadrupole = {l=0.101, k1=-1.78};\n",
      "QHXH41: quadrupole = {l=0.101, k1=1.78};\n",
      "QHXH42: quadrupole = {l=0.101, k1=-1.78};\n",
      "QHXH43: quadrupole = {l=0.101, k1=1.78};\n",
      "QHXH44: quadrupole = {l=0.101, k1=-1.78};\n",
      "QHXH45: quadrupole = {l=0.101, k1=1.78};\n",
      "QHXH46: quadrupole = {l=0.101, k1=-1.78};\n",
      "QHXH47: quadrupole = {l=0.101, k1=1.78};\n",
      "QHXH48: quadrupole = {l=0.101, k1=-1.78};\n",
      "QHXH49: quadrupole = {l=0.101, k1=1.78};\n",
      "QHXH50: quadrupole = {l=0.101, k1=-1.78};\n",
      "UMAHXH17: undulator = {aw=1.7017, lambdau=0.026, nwig=130};\n",
      "UMAHXH18: undulator = {aw=1.7017, lambdau=0.026, nwig=130};\n",
      "UMAHXH19: undulator = {aw=1.7017, lambdau=0.026, nwig=130};\n",
      "UMAHXH20: undulator = {aw=1.7017, lambdau=0.026, nwig=130};\n",
      "UMAHXH21: undulator = {aw=1.7017, lambdau=0.026, nwig=130};\n",
      "UMAHXH22: undulator = {aw=1.7017, lambdau=0.026, nwig=130};\n",
      "UMAHXH23: undulator = {aw=1.7017, lambdau=0.026, nwig=130};\n",
      "UMAHXH25: undulator = {aw=1.7017, lambdau=0.026, nwig=130};\n",
      "UMAHXH26: undulator = {aw=1.7017, lambdau=0.026, nwig=130};\n",
      "UMAHXH27: undulator = {aw=1.7017, lambdau=0.026, nwig=130};\n",
      "UMAHXH28: undulator = {aw=1.7017, lambdau=0.026, nwig=130};\n",
      "UMAHXH29: undulator = {aw=1.7017, lambdau=0.026, nwig=130};\n",
      "UMAHXH30: undulator = {aw=1.7017, lambdau=0.026, nwig=130};\n",
      "UMAHXH31: undulator = {aw=1.7017, lambdau=0.026, nwig=130};\n",
      "UMAHXH33: undulator = {aw=1.7017, lambdau=0.026, nwig=130};\n",
      "UMAHXH34: undulator = {aw=1.7017, lambdau=0.026, nwig=130};\n",
      "UMAHXH35: undulator = {aw=1.7017, lambdau=0.026, nwig=130};\n",
      "UMAHXH36: undulator = {aw=1.7017, lambdau=0.026, nwig=130};\n",
      "UMAHXH37: undulator = {aw=1.7017, lambdau=0.026, nwig=130};\n",
      "UMAHXH38: undulator = {aw=1.7017, lambdau=0.026, nwig=130};\n",
      "UMAHXH39: undulator = {aw=1.7017, lambdau=0.026, nwig=130};\n",
      "UMAHXH40: undulator = {aw=1.7017, lambdau=0.026, nwig=130};\n",
      "UMAHXH41: undulator = {aw=1.7017, lambdau=0.026, nwig=130};\n",
      "UMAHXH42: undulator = {aw=1.7017, lambdau=0.026, nwig=130};\n",
      "UMAHXH43: undulator = {aw=1.7017, lambdau=0.026, nwig=130};\n",
      "UMAHXH44: undulator = {aw=1.7017, lambdau=0.026, nwig=130};\n",
      "UMAHXH45: undulator = {aw=1.7017, lambdau=0.026, nwig=130};\n",
      "UMAHXH46: undulator = {aw=1.7017, lambdau=0.026, nwig=130};\n",
      "UMAHXH47: undulator = {aw=1.7017, lambdau=0.026, nwig=130};\n",
      "UMAHXH48: undulator = {aw=1.7017, lambdau=0.026, nwig=130};\n",
      "UMAHXH49: undulator = {aw=1.7017, lambdau=0.026, nwig=130};\n",
      "UMAHXH50: undulator = {aw=1.7017, lambdau=0.026, nwig=130};\n",
      "CORR00: corrector = {l=0.001};\n",
      "CORR01: corrector = {l=0.001};\n",
      "CORR02: corrector = {l=0.001};\n",
      "CORR03: corrector = {l=0.001};\n",
      "CORR04: corrector = {l=0.001};\n",
      "CORR05: corrector = {l=0.001};\n",
      "CORR06: corrector = {l=0.001};\n",
      "CORR07: corrector = {l=0.001};\n",
      "CORR08: corrector = {l=0.001};\n",
      "CORR09: corrector = {l=0.001};\n",
      "CORR10: corrector = {l=0.001};\n",
      "CORR11: corrector = {l=0.001};\n",
      "CORR12: corrector = {l=0.001};\n",
      "CORR13: corrector = {l=0.001};\n",
      "CORR14: corrector = {l=0.001};\n",
      "CORR15: corrector = {l=0.001};\n",
      "CORR16: corrector = {l=0.001};\n",
      "CORR17: corrector = {l=0.001};\n",
      "CORR18: corrector = {l=0.001};\n",
      "CORR19: corrector = {l=0.001};\n",
      "CORR20: corrector = {l=0.001};\n",
      "CORR21: corrector = {l=0.001};\n",
      "CORR22: corrector = {l=0.001};\n",
      "CORR23: corrector = {l=0.001};\n",
      "CORR24: corrector = {l=0.001};\n",
      "CORR25: corrector = {l=0.001};\n",
      "CORR26: corrector = {l=0.001};\n",
      "CORR27: corrector = {l=0.001};\n",
      "CORR28: corrector = {l=0.001};\n",
      "CORR29: corrector = {l=0.001};\n",
      "CORR30: corrector = {l=0.001};\n",
      "CORR31: corrector = {l=0.001};\n",
      "CORR32: corrector = {l=0.001};\n",
      "CORR33: corrector = {l=0.001};\n",
      "D1: drift = {l=0.1335};\n",
      "D2: drift = {l=0.4615};\n",
      "D3: drift = {l=0.328};\n",
      "D4: drift = {l=3.4};\n",
      "HXRSS: chicane = {l=4.55, lb=0.1};\n",
      "HXR: LINE = {D1, UMAHXH17, D2, QHXH17, CORR00, D3, D1, UMAHXH18, D2, QHXH18, CORR01, D3, D1, UMAHXH19, D2, QHXH19, CORR02, D3, D1, UMAHXH20, D2, QHXH20, CORR03, D3, D1, UMAHXH21, D2, QHXH21, CORR04, D3, D1, UMAHXH22, D2, QHXH22, CORR05, D3, D1, UMAHXH23, D2, QHXH23, CORR06, D3, D1, HXRSS, D2, QHXH24, CORR07, D3, D1, UMAHXH25, D2, QHXH25, CORR08, D3, D1, UMAHXH26, D2, QHXH26, CORR09, D3, D1, UMAHXH27, D2, QHXH27, CORR10, D3, D1, UMAHXH28, D2, QHXH28, CORR11, D3, D1, UMAHXH29, D2, QHXH29, CORR12, D3, D1, UMAHXH30, D2, QHXH30, CORR13, D3, D1, UMAHXH31, D2, QHXH31, CORR14, D3, D1, D4, D2, QHXH32, CORR15, D3, D1, UMAHXH33, D2, QHXH33, CORR16, D3, D1, UMAHXH34, D2, QHXH34, CORR17, D3, D1, UMAHXH35, D2, QHXH35, CORR18, D3, D1, UMAHXH36, D2, QHXH36, CORR19, D3, D1, UMAHXH37, D2, QHXH37, CORR20, D3, D1, UMAHXH38, D2, QHXH38, CORR21, D3, D1, UMAHXH39, D2, QHXH39, CORR22, D3, D1, UMAHXH40, D2, QHXH40, CORR23, D3, D1, UMAHXH41, D2, QHXH41, CORR24, D3, D1, UMAHXH42, D2, QHXH42, CORR25, D3, D1, UMAHXH43, D2, QHXH43, CORR26, D3, D1, UMAHXH44, D2, QHXH44, CORR27, D3, D1, UMAHXH45, D2, QHXH45, CORR28, D3, D1, UMAHXH46, D2, QHXH46, CORR29, D3, D1, UMAHXH47, D2, QHXH47, CORR30, D3, D1, UMAHXH48, D2, QHXH48, CORR31, D3, D1, UMAHXH49, D2, QHXH49, CORR32, D3, D1, UMAHXH50, D2, QHXH50, CORR33, D3};\n",
      "LCLS2_HXR_U1: LINE = {D1, UMAHXH17, D2, QHXH17, CORR00, D3, D1, UMAHXH18, D2, QHXH18, CORR01, D3, D1, UMAHXH19, D2, QHXH19, CORR02, D3, D1, UMAHXH20, D2, QHXH20, CORR03, D3, D1, UMAHXH21, D2, QHXH21, CORR04, D3, D1, UMAHXH22, D2, QHXH22, CORR05, D3, D1, UMAHXH23, D2, QHXH23, CORR06, D3};\n",
      "LCLS2_HXR_U2: LINE = {D1, UMAHXH25, D2, QHXH25, CORR08, D3, D1, UMAHXH26, D2, QHXH26, CORR09, D3, D1, UMAHXH27, D2, QHXH27, CORR10, D3, D1, UMAHXH28, D2, QHXH28, CORR11, D3, D1, UMAHXH29, D2, QHXH29, CORR12, D3, D1, UMAHXH30, D2, QHXH30, CORR13, D3, D1, UMAHXH31, D2, QHXH31, CORR14, D3, D1, D4, D2, QHXH32, CORR15, D3, D1, UMAHXH33, D2, QHXH33, CORR16, D3, D1, UMAHXH34, D2, QHXH34, CORR17, D3, D1, UMAHXH35, D2, QHXH35, CORR18, D3, D1, UMAHXH36, D2, QHXH36, CORR19, D3, D1, UMAHXH37, D2, QHXH37, CORR20, D3, D1, UMAHXH38, D2, QHXH38, CORR21, D3, D1, UMAHXH39, D2, QHXH39, CORR22, D3, D1, UMAHXH40, D2, QHXH40, CORR23, D3, D1, UMAHXH41, D2, QHXH41, CORR24, D3, D1, UMAHXH42, D2, QHXH42, CORR25, D3, D1, UMAHXH43, D2, QHXH43, CORR26, D3, D1, UMAHXH44, D2, QHXH44, CORR27, D3, D1, UMAHXH45, D2, QHXH45, CORR28, D3, D1, UMAHXH46, D2, QHXH46, CORR29, D3, D1, UMAHXH47, D2, QHXH47, CORR30, D3, D1, UMAHXH48, D2, QHXH48, CORR31, D3, D1, UMAHXH49, D2, QHXH49, CORR32, D3, D1, UMAHXH50, D2, QHXH50, CORR33, D3};\n"
     ]
    }
   ],
   "source": [
    "print(lat.to_genesis())"
   ]
  },
  {
   "cell_type": "markdown",
   "id": "4d71f50f-5752-420e-a0c6-cce1f4dd1f2e",
   "metadata": {},
   "source": [
    "The parser also works directly with strings if you prefer. Try the following:"
   ]
  },
  {
   "cell_type": "code",
   "execution_count": 17,
   "id": "381994bc-bfa2-4b24-b454-295e05fa0d2c",
   "metadata": {},
   "outputs": [],
   "source": [
    "lat = Lattice.from_contents(\n",
    "    \"\"\"\n",
    "CORR32: corrector = {l=0.001};\n",
    "CORR33: corrector = {l=0.001};\n",
    "\"\"\"\n",
    ")"
   ]
  },
  {
   "cell_type": "code",
   "execution_count": 18,
   "id": "eed6b95d-a640-49df-825e-7b4d823b7be6",
   "metadata": {},
   "outputs": [
    {
     "data": {
      "text/plain": [
       "Lattice(elements={\"CORR32\": Corrector(L=0.001, label='CORR32'),\n",
       "    \"CORR33\": Corrector(L=0.001, label='CORR33')},\n",
       "    filename=PosixPath('unknown'))"
      ]
     },
     "execution_count": 18,
     "metadata": {},
     "output_type": "execute_result"
    }
   ],
   "source": [
    "lat"
   ]
  }
 ],
 "metadata": {
  "kernelspec": {
   "display_name": "Python 3 (ipykernel)",
   "language": "python",
   "name": "python3"
  },
  "language_info": {
   "codemirror_mode": {
    "name": "ipython",
    "version": 3
   },
   "file_extension": ".py",
   "mimetype": "text/x-python",
   "name": "python",
   "nbconvert_exporter": "python",
   "pygments_lexer": "ipython3",
   "version": "3.12.1"
  }
 },
 "nbformat": 4,
 "nbformat_minor": 5
}
