{
 "cells": [
  {
   "cell_type": "markdown",
   "id": "897da10d-008b-4c00-8a35-3951618df523",
   "metadata": {},
   "source": [
    "# Migrating from older LUME-Genesis versions"
   ]
  },
  {
   "cell_type": "markdown",
   "id": "0fe0d57c-2e90-4370-bc84-e4f55e46449c",
   "metadata": {},
   "source": [
    "## Lattices and namelists as dictionaries\n",
    "\n",
    "LUME-Genesis still supports lattices and namelists defined as dictionaries of Genesis 4 parameter names to their values.\n",
    "\n",
    "Using them will require extra steps as we want to encourage users to utilize the classes directly."
   ]
  },
  {
   "cell_type": "code",
   "execution_count": null,
   "id": "0d4b24a7-f56b-473d-975e-0c85e5029718",
   "metadata": {},
   "outputs": [],
   "source": [
    "import genesis.version4 as g4"
   ]
  },
  {
   "cell_type": "code",
   "execution_count": null,
   "id": "038a069e-696f-43f2-ac86-b33e1fb3268f",
   "metadata": {},
   "outputs": [],
   "source": [
    "MAIN = [\n",
    "    {\n",
    "        \"type\": \"setup\",\n",
    "        \"rootname\": \"Benchmark\",\n",
    "        \"lattice\": \"lattice.lat\",\n",
    "        \"beamline\": \"ARAMIS\",\n",
    "        \"lambda0\": 1e-10,\n",
    "        \"gamma0\": 11357.82,\n",
    "        \"delz\": 0.045,\n",
    "        \"shotnoise\": 0,\n",
    "        \"beam_global_stat\": True,\n",
    "        \"field_global_stat\": True,\n",
    "    },\n",
    "    {\"type\": \"lattice\", \"zmatch\": 9.5},\n",
    "    {\n",
    "        \"type\": \"field\",\n",
    "        \"power\": 5000,\n",
    "        \"dgrid\": 0.0002,\n",
    "        \"ngrid\": 255,\n",
    "        \"waist_size\": 3e-05,\n",
    "    },\n",
    "    {\"type\": \"beam\", \"current\": 3000, \"delgam\": 1, \"ex\": 4e-07, \"ey\": 4e-07},\n",
    "    {\"type\": \"track\", \"zstop\": 123.5},\n",
    "]\n",
    "\n",
    "main = g4.MainInput.from_dicts(MAIN)"
   ]
  },
  {
   "cell_type": "code",
   "execution_count": null,
   "id": "8769594a-ce6c-4d40-b769-7d4cf718348a",
   "metadata": {},
   "outputs": [],
   "source": [
    "main"
   ]
  },
  {
   "cell_type": "markdown",
   "id": "57d72459-8bce-41a2-975d-9e6cb7177d37",
   "metadata": {},
   "source": [
    "## Mistakes in old dictionaries"
   ]
  },
  {
   "cell_type": "markdown",
   "id": "654ceffc-6d52-4524-90c6-430f95bda388",
   "metadata": {},
   "source": [
    "If you encounter these errors, please double-check your input dictionaries.\n",
    "\n",
    "Invalid or missing \"type\" names will raise exceptions."
   ]
  },
  {
   "cell_type": "code",
   "execution_count": null,
   "id": "af46786c-228a-4d7a-b63a-729834771bf1",
   "metadata": {},
   "outputs": [],
   "source": [
    "try:\n",
    "    g4.MainInput.from_dicts([{\"type\": \"invalid_type\", \"zstop\": 123.5}])\n",
    "except Exception:\n",
    "    print(\"Failed to convert\")"
   ]
  },
  {
   "cell_type": "markdown",
   "id": "cff7850c-9ec5-488b-9d68-cac96e937a0f",
   "metadata": {},
   "source": [
    "Invalid attributes for the Pydantic classes will similarly be problematic:"
   ]
  },
  {
   "cell_type": "code",
   "execution_count": null,
   "id": "88557dc7-784a-4e88-a1b1-1faa6928616d",
   "metadata": {},
   "outputs": [],
   "source": [
    "try:\n",
    "    g4.MainInput.from_dicts([{\"type\": \"beam\", \"INVALID_ITEM\": 123.5}])\n",
    "except Exception as ex:\n",
    "    print(\"Failed to convert:\", ex)"
   ]
  },
  {
   "cell_type": "markdown",
   "id": "1f3d05b8-9071-4844-9481-fe5a1b3f71c7",
   "metadata": {},
   "source": [
    "## Converting from strings"
   ]
  },
  {
   "cell_type": "markdown",
   "id": "844068d9-69e7-4348-a12e-4cce2b3352e1",
   "metadata": {},
   "source": [
    "If you have functions which create lattices or main input files from strings, you can similarly migrate to using the beamline element classes.\n",
    "Using `Lattice.from_contents` can simplify the conversion task. \n",
    "For example:"
   ]
  },
  {
   "cell_type": "code",
   "execution_count": null,
   "id": "a2032a98-9571-4147-9540-33fa5453e63c",
   "metadata": {},
   "outputs": [],
   "source": [
    "import string\n",
    "\n",
    "\n",
    "def make_lat(k1=2):\n",
    "    return string.Template(\n",
    "        \"\"\"\n",
    "D1: DRIFT = { l = 0.445};\n",
    "D2: DRIFT = { l = 0.24};\n",
    "QF: QUADRUPOLE = { l = 0.080000, k1= ${my_k1} };\n",
    "QD: QUADRUPOLE = { l = 0.080000, k1= -${my_k1} };\n",
    "\n",
    "UND: UNDULATOR = { lambdau=0.015000,nwig=266,aw=0.84853};\n",
    "\n",
    "FODO: LINE= {UND,D1,QF,D2,UND,D1,QD,D2};\n",
    "\n",
    "ARAMIS: LINE= {13*FODO};\n",
    "    \"\"\"\n",
    "    ).substitute(my_k1=k1)\n",
    "\n",
    "\n",
    "g4.Lattice.from_contents(make_lat())"
   ]
  },
  {
   "cell_type": "code",
   "execution_count": null,
   "id": "1755d2fe-9c15-4dcc-bfaa-2cdbc15d6997",
   "metadata": {},
   "outputs": [],
   "source": [
    "def make_lat(k1=2):\n",
    "    return g4.Lattice(\n",
    "        {\n",
    "            \"D1\": g4.Drift(L=0.445),\n",
    "            \"D2\": g4.Drift(L=0.24),\n",
    "            \"QF\": g4.Quadrupole(L=0.08, k1=k1),\n",
    "            \"QD\": g4.Quadrupole(L=0.08, k1=-k1),\n",
    "            \"UND\": g4.Undulator(aw=0.84853, lambdau=0.015, nwig=266),\n",
    "            \"FODO\": g4.Line(\n",
    "                elements=[\"UND\", \"D1\", \"QF\", \"D2\", \"UND\", \"D1\", \"QD\", \"D2\"]\n",
    "            ),\n",
    "            \"ARAMIS\": g4.Line(elements=[g4.DuplicatedLineItem(label=\"FODO\", count=13)]),\n",
    "        },\n",
    "    )\n",
    "\n",
    "\n",
    "make_lat()"
   ]
  },
  {
   "cell_type": "code",
   "execution_count": null,
   "id": "f622f9fe-6a2a-458d-aa61-922c4d5f2dec",
   "metadata": {},
   "outputs": [],
   "source": [
    "G = g4.Genesis4(main, make_lat())"
   ]
  },
  {
   "cell_type": "code",
   "execution_count": null,
   "id": "33764b85-f752-4cec-9d17-f98069f409fb",
   "metadata": {},
   "outputs": [],
   "source": [
    "G.input"
   ]
  },
  {
   "cell_type": "markdown",
   "id": "245be9f3-d38b-4715-8f24-0602c84e16ce",
   "metadata": {},
   "source": [
    "## Reusing the Genesis4 object\n",
    "\n",
    "Generally, we do not recommend reusing the `Genesis4` object for multiple input configurations or lattices.\n",
    "\n",
    "Creating a new `Genesis4` object does not take a significant amount of resources, and it keeps the results of your simulation runs separate."
   ]
  },
  {
   "cell_type": "code",
   "execution_count": null,
   "id": "34e1b34c-18b7-4c22-955c-a8764ece85c8",
   "metadata": {},
   "outputs": [],
   "source": [
    "new_main = g4.MainInput.from_dicts(MAIN)\n",
    "\n",
    "# No:\n",
    "G.input.main = new_main\n",
    "\n",
    "# Yes:\n",
    "G1 = g4.Genesis4(main, make_lat())"
   ]
  },
  {
   "cell_type": "markdown",
   "id": "3638b4f5-d584-450e-aafd-f5c58b791e94",
   "metadata": {},
   "source": [
    "Importantly, the `Genesis4` object takes control of your input files and lattice files. The goal is for you to write Python code for your configuration and lattice and then not have to worry about the files on disk or the underlying Genesis 4 file formats.\n",
    "\n",
    "If you attempt to change `G.input.main.setup.lattice` to a different filename, lume-genesis will simply use that as a new filename when it writes the lattice to disk (during `G.write_input()` or `G.run()`)"
   ]
  },
  {
   "cell_type": "code",
   "execution_count": null,
   "id": "ba826b1d-4a78-4f1a-aa76-5f042e67982d",
   "metadata": {},
   "outputs": [],
   "source": [
    "# No!\n",
    "# G.input.main.setup.lattice = \"my_fancy_latfile.lat\"\n",
    "\n",
    "# Yes!\n",
    "# G1 = g4.Genesis4(main, \"my_fancy_latfile.lat\")"
   ]
  }
 ],
 "metadata": {
  "kernelspec": {
   "display_name": "Python 3 (ipykernel)",
   "language": "python",
   "name": "python3"
  },
  "language_info": {
   "codemirror_mode": {
    "name": "ipython",
    "version": 3
   },
   "file_extension": ".py",
   "mimetype": "text/x-python",
   "name": "python",
   "nbconvert_exporter": "python",
   "pygments_lexer": "ipython3",
   "version": "3.12.3"
  }
 },
 "nbformat": 4,
 "nbformat_minor": 5
}
