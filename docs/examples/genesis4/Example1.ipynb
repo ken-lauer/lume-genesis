{
 "cells": [
  {
   "cell_type": "markdown",
   "id": "2d232d11-a8b7-4d3b-85d6-0c373752b24f",
   "metadata": {},
   "source": [
    "# Example1\n",
    "\n",
    "**This is adapted from https://github.com/svenreiche/Genesis-1.3-Version4/tree/master/examples/Example1-SteadyState**\n",
    "\n",
    "Steady-state simulations are the simplest form to run Genesis, where the variation along the electron bunch and radiation field is assumed constant. Field distribution, which slips out of the electron slice is replaced with an identical field, slipping in. Internally, Genesis disables any slippage and it is sufficient to simulate only a single slice with the length of the wavelength of interest. Note this is identical to a single frequency model.\n",
    "\n",
    "In the following the setup input and lattice file are explained in some detail. Since this is the first example it starts from scratch."
   ]
  },
  {
   "cell_type": "code",
   "execution_count": null,
   "id": "6535316e-adb6-424f-9d90-f897980eec6e",
   "metadata": {},
   "outputs": [],
   "source": [
    "from genesis.version4 import Genesis4\n",
    "\n",
    "import matplotlib.pyplot as plt\n",
    "\n",
    "%config InlineBackend.figure_format = 'retina' # Nicer plots"
   ]
  },
  {
   "cell_type": "markdown",
   "id": "ed27eb95-c81b-48e5-bddc-c2fb7247fccf",
   "metadata": {},
   "source": [
    "## The Lattice File\n",
    "\n",
    "LUME-Genesis supports the Genesis4 lattice file format directly.\n",
    "\n",
    "The lattice file contains the physical definition of the undulator beamline, including the types, their position and strengths. The example follows the lattice of the SwissFEL hard X-ray beamline Aramis, which places undulator modules in a FODO lattice.\n",
    "\n",
    "The first is to define the undulator module, which is used for all instances in the lattice. The given line in the lattice file is shown in the next cell.  Note that we are using the command [grep](https://en.wikipedia.org/wiki/Grep) to search through the lattice file."
   ]
  },
  {
   "cell_type": "code",
   "execution_count": null,
   "id": "7084fc4b-7657-4127-8d4f-4100e9f085f0",
   "metadata": {},
   "outputs": [],
   "source": [
    "!grep \"UND:\" data/example1-steadystate/Example1.lat"
   ]
  },
  {
   "cell_type": "markdown",
   "id": "07c409d2-8dfd-44f6-9413-171cf44f28d6",
   "metadata": {},
   "source": [
    "The tag `UND` is a label to used to refer latter in the file to this element. The type is defined by the keyword `UNDULATOR` followed by a list of parameters, placed in a curly bracket. Here the undulator period is 15 mm, the module has 266 undulator periods, and the rms undulator parameter is 0.84853. The undulator has a helical configuration.\n",
    "\n",
    "Next, two quadrupoles are defined with opposite polarity. A positive value means that the beam is focussed in the x-plane. The field strength are normalized (independent from the explicit electron beam energy) and has the unit of inverse meter squared. An estimate of the focal strength is f = 1/k1*l. With a length of 8 cm it is in this case 6.25 m."
   ]
  },
  {
   "cell_type": "code",
   "execution_count": null,
   "id": "fa7ec869-c982-4f21-be22-311b54da67c0",
   "metadata": {},
   "outputs": [],
   "source": [
    "!grep \"QUADRUPOLE\" data/example1-steadystate/Example1.lat"
   ]
  },
  {
   "cell_type": "markdown",
   "id": "82edec4a-ce49-4bd0-9547-6102ad32a0a3",
   "metadata": {},
   "source": [
    "Two drift lengths of 44 and 24 cm respectively defines the space before and after the quadrupole."
   ]
  },
  {
   "cell_type": "code",
   "execution_count": null,
   "id": "d049fa00-722f-47f1-b42b-c16abdb649fa",
   "metadata": {},
   "outputs": [],
   "source": [
    "!grep \"DRIFT\" data/example1-steadystate/Example1.lat"
   ]
  },
  {
   "cell_type": "markdown",
   "id": "6d124b5c-d73a-492d-9da9-2be1a3bc2575",
   "metadata": {},
   "source": [
    "The explicit layout is defined with the `LINE` command: a list of basic elements (e.g. undulator, quadrupoles) or other lines. \n",
    "\n",
    "Note that Genesis 1.3 allows only a recursion depth of 10, where a line is placed as an element of an outline. \n",
    "\n",
    "The basic arrangement is:\n",
    "* Undulator Module\n",
    "* Drift\n",
    "* Focusing Quadrupole\n",
    "* Drift\n",
    "* Undulator Module\n",
    "* Drift\n",
    "* Defocusing Quadrupole Drift"
   ]
  },
  {
   "cell_type": "code",
   "execution_count": null,
   "id": "02b24d48-766c-4f6e-ad2b-40a2e1070b4f",
   "metadata": {},
   "outputs": [],
   "source": [
    "!grep \"FODO:\" data/example1-steadystate/Example1.lat"
   ]
  },
  {
   "cell_type": "markdown",
   "id": "9d873600-a6cd-427b-97bb-0f874eeecc9c",
   "metadata": {},
   "source": [
    "The label of this subsection of the full beamline is `FODO`. In the full beamline, the `FODO` lattice has 6 periodic cells."
   ]
  },
  {
   "cell_type": "code",
   "execution_count": null,
   "id": "83455153-ef9b-4a06-b3aa-3bf749a728e3",
   "metadata": {},
   "outputs": [],
   "source": [
    "!grep \"FEL:\" data/example1-steadystate/Example1.lat"
   ]
  },
  {
   "cell_type": "markdown",
   "id": "6497c5dd-3998-475b-bcbe-afc086c3a448",
   "metadata": {},
   "source": [
    "Putting it all together, here is our complete lattice input file:"
   ]
  },
  {
   "cell_type": "code",
   "execution_count": null,
   "id": "38896b97-6185-4bc7-8118-38bb4571193b",
   "metadata": {},
   "outputs": [],
   "source": [
    "!cat data/example1-steadystate/Example1.lat"
   ]
  },
  {
   "cell_type": "markdown",
   "id": "4eb9d61c-9b84-4dc9-bad2-8c28ae36f427",
   "metadata": {},
   "source": [
    "## The Main Input File\n",
    "\n",
    "LUME-Genesis supports the Genesis4 main input file format directly.\n",
    "\n",
    "The main input file is a list of namelists, which are processed in the order they appear in the file. \n",
    "It is necessary that the first namelist is &setup, defining some key parameters for the simulation."
   ]
  },
  {
   "cell_type": "code",
   "execution_count": null,
   "id": "86388579-21db-4b7a-abf7-a79991a2c1ef",
   "metadata": {},
   "outputs": [],
   "source": [
    "!head -n 10 data/example1-steadystate/Example1.in"
   ]
  },
  {
   "cell_type": "markdown",
   "id": "d282df17-51e2-4960-922b-5c7c337abbda",
   "metadata": {},
   "source": [
    "* The `rootname` is used as a prefix when writing any output file.  In this case the main output file would be `Example1.out.h5`.\n",
    "* The `lattice` parameter specifies the file which describes the beamline elements, as described in the previous section.\n",
    "* The element `beamline` selects one line in the lattice file to be used for simulation. This allows to have several variants in the lattice file. Setting this to beamline=FODO would actually use only a single FODO cell with two undulator modules instead the 6 cells of the full lattice.\n",
    "* Two reference values are required, the reference wavelength `lambda0` and reference energy `gamma0`. These do not have necessarily be the FEL wavelength (in SASE simulations) or the electron beam energies, but should not deviate too much for not violating the resonant approximation of the underlying numerical model. \n",
    "* `delz` is the preferred integration step size. In our example, there about 3 undulator periods in one step. Genesis will align the step size for each step to resolve each beamline elements correctly.\n",
    "* Since this is a steady state simulation the impact of the fluctuation in the electron position should be disabled by setting `shotnoise` to `0`. In time-dependent simulation (SASE simulation) this should be set to `1`.\n",
    "* `nbins` defines the number of particles per beamlet, which is a group of macro particles which share the same coordinate, except for their longitudinal position."
   ]
  },
  {
   "cell_type": "markdown",
   "id": "04e57ce1-b14b-48d0-b40c-fdad172b4b24",
   "metadata": {},
   "source": [
    "Next, our lattice-related settings in the `lattice` namelist:\n",
    "\n",
    "```\n",
    "&lattice\n",
    "zmatch=9.5\n",
    "&end\n",
    "```\n",
    "\n",
    "For injecting the electron beam into the lattice, the optical function should be defined when initializing the electron beam. Genesis can also calculate the matched solution to the lattice with the lattice namelist.\n",
    "\n",
    "`zmatch` defines the length over which a periodic solution is assumed. Note that 9.5 is the same value as we calculated for the length of the basic FODO cell in the lattice file.\n",
    "\n",
    "Next is the definition of the radiation field for the start of the simulation:\n",
    "\n",
    "```\n",
    "&field\n",
    "power=5e3\n",
    "dgrid=2.000000e-04\n",
    "ngrid=255\n",
    "waist_size=30e-6\n",
    "&end\n",
    "```\n",
    "\n",
    "Since this is a steady-state simulation it should have some radiation power.\n",
    " \n",
    "Here the starting power is 5 kW and the field has a size of 30 µm. The physical meaning of `waist_size` is the same as `w0` for a fundamental Gauss mode. With the wavelength (here `lambda0` from the setup namelist) and the waist size the radiation wavefront is well defined.\n",
    "The wavefront is then placed on a 2D grid with 255 grid points in each direction and an extension between -200 to 200 microns. Note that it is strongly recommended having an odd number of grid points to have the origin of the two grids coincide with the transverse position x=0 and y=0.\n",
    "\n",
    "The electron beam is then generated with the following namelist:\n",
    "\n",
    "```\n",
    "&beam\n",
    "current=3000\n",
    "delgam=1.000000\n",
    "ex=4.000000e-07\n",
    "ey=4.000000e-07\n",
    "&end\n",
    "```\n",
    "\n",
    "Here the beam has a current of 3 kA, an RMS energy spread of 0.511 MeV (`delgam=1`) and normalized emittances of 400 nm in x and y. Note that the mean beam energy is taken from `setup` and the optical twiss parameters from the matching command in `lattice`. However, one can overwrite the values here if needed.\n",
    "\n",
    "Up to this point, the input file has the basic setup configuration, matches the lattice and generates one radiation wavefront and one slice of electron distribution. We can then track it:\n",
    "\n",
    "```\n",
    "&track\n",
    "&end\n",
    "```"
   ]
  },
  {
   "cell_type": "code",
   "execution_count": null,
   "id": "c19f3d93-4d99-495c-be3a-876df5a877c8",
   "metadata": {},
   "outputs": [],
   "source": [
    "G = Genesis4(\"data/example1-steadystate/Example1.in\")"
   ]
  },
  {
   "cell_type": "code",
   "execution_count": null,
   "id": "5e9a8ed7-4df1-42df-9d06-60f8b3f0615f",
   "metadata": {},
   "outputs": [],
   "source": [
    "G.verbose = True\n",
    "output = G.run()"
   ]
  },
  {
   "cell_type": "code",
   "execution_count": null,
   "id": "8fc9e38a-ad06-4c83-9be0-1c6ddb166f49",
   "metadata": {},
   "outputs": [],
   "source": [
    "G.plot([\"beam_xsize\", \"beam_ysize\", \"field_xsize\", \"field_ysize\"])"
   ]
  },
  {
   "cell_type": "markdown",
   "id": "2e1c5b3c-6737-4c11-b03f-ed59855a9456",
   "metadata": {},
   "source": [
    "### Lattice plot\n",
    "\n",
    "Main undulator field and quadrupole is displayed."
   ]
  },
  {
   "cell_type": "code",
   "execution_count": null,
   "id": "616ad51a-41ab-4242-bfe4-55e9e7ed3917",
   "metadata": {},
   "outputs": [],
   "source": [
    "z = output.lattice.z\n",
    "\n",
    "fig, ax1 = plt.subplots()\n",
    "color = \"tab:red\"\n",
    "ax1.set_xlabel(r\"$z$ (m)\")\n",
    "ax1.set_ylabel(r\"$a_w$\", color=color)\n",
    "ax1.tick_params(axis=\"y\", labelcolor=color)\n",
    "ax1.step(z, output.lattice.aw, color=color, where=\"post\")\n",
    "\n",
    "ax2 = ax1.twinx()\n",
    "color = \"tab:blue\"\n",
    "ax2.set_ylabel(r\"$k_1$ (m$^{-2}$)\", color=color)\n",
    "ax2.tick_params(axis=\"y\", labelcolor=color)\n",
    "ax2.step(z, output.lattice.qf, color=color, where=\"post\")\n",
    "plt.show()"
   ]
  },
  {
   "cell_type": "markdown",
   "id": "a3c291c6-4304-4504-9ddb-8a98fee5e102",
   "metadata": {},
   "source": [
    "### Beam and field sizes\n",
    "\n",
    "While the electron beam has the typical alternating oscillation in its beam size due to the FODO lattice, the radiation field starts with 15 µm (note this should be half of the value `waist_size` in the input deck) but get smaller due to gain guiding. Around 40 m the FEL process reaches saturation and the radiaiton field starts to diverge."
   ]
  },
  {
   "cell_type": "code",
   "execution_count": null,
   "id": "550fbfba-0391-4b94-b7b0-10db88cfd540",
   "metadata": {},
   "outputs": [],
   "source": [
    "zplot = output.lattice.zplot\n",
    "plt.plot(zplot, output.beam.xsize * 1e6, label=r\"Beam: $\\sigma_x$\")\n",
    "plt.plot(zplot, output.beam.ysize * 1e6, label=r\"Beam: $\\sigma_y$\")\n",
    "plt.plot(zplot, output.field.xsize * 1e6, label=r\"Field: $\\sigma_x$\")\n",
    "plt.plot(zplot, output.field.ysize * 1e6, label=r\"Field: $\\sigma_y$\")\n",
    "plt.legend()\n",
    "plt.xlabel(r\"$z$ (m)\")\n",
    "plt.ylabel(r\"$\\sigma_{x,y}$ ($\\mu$m)\")\n",
    "plt.ylim([0, 60])\n",
    "plt.show()"
   ]
  },
  {
   "cell_type": "markdown",
   "id": "51186149-6ddb-4cff-880f-460c9b2509ca",
   "metadata": {},
   "source": [
    "### Radiation Power and Bunching\n",
    "\n",
    "In this log plot one can see the growth of the radiation power and bunching factor until saturation is reached around 40 m. Note that the little dip in power at around 5 m could be optimize by tuning the FEL. This can be done either by gamma0 in the setup namelist or the value for aw in the lattice file."
   ]
  },
  {
   "cell_type": "code",
   "execution_count": null,
   "id": "27fd2ec4-7eed-4896-acd9-61826880dcca",
   "metadata": {},
   "outputs": [],
   "source": [
    "z = output.lattice.zplot\n",
    "b = output.beam.bunching\n",
    "p = output.field.power\n",
    "\n",
    "fig, ax1 = plt.subplots()\n",
    "color = \"tab:red\"\n",
    "ax1.set_xlabel(r\"$z$ (m)\")\n",
    "ax1.set_ylabel(r\"$P$ (W)\", color=color)\n",
    "ax1.tick_params(axis=\"y\", labelcolor=color)\n",
    "ax1.semilogy(z, p, color=color)\n",
    "\n",
    "ax2 = ax1.twinx()\n",
    "color = \"tab:blue\"\n",
    "ax2.set_ylabel(r\"$<\\exp(i\\theta)>$\", color=color)\n",
    "ax2.tick_params(axis=\"y\", labelcolor=color)\n",
    "ax2.semilogy(z, b, color=color)\n",
    "ax2.set_ylim([1e-3, 0.5])\n",
    "plt.show()"
   ]
  }
 ],
 "metadata": {
  "kernelspec": {
   "display_name": "Python 3 (ipykernel)",
   "language": "python",
   "name": "python3"
  },
  "language_info": {
   "codemirror_mode": {
    "name": "ipython",
    "version": 3
   },
   "file_extension": ".py",
   "mimetype": "text/x-python",
   "name": "python",
   "nbconvert_exporter": "python",
   "pygments_lexer": "ipython3",
   "version": "3.12.3"
  }
 },
 "nbformat": 4,
 "nbformat_minor": 5
}
