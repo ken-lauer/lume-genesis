{
 "cells": [
  {
   "cell_type": "markdown",
   "id": "efe9762c-8903-450a-b973-5c7d85e6f05f",
   "metadata": {},
   "source": [
    "# Working with Lattices"
   ]
  },
  {
   "cell_type": "code",
   "execution_count": null,
   "id": "6f36ed75-cb14-40a7-9c6b-7983b21bb34d",
   "metadata": {},
   "outputs": [],
   "source": [
    "import genesis.version4 as g4\n",
    "\n",
    "%config InlineBackend.figure_format = 'retina' # Nicer plots"
   ]
  },
  {
   "cell_type": "markdown",
   "id": "02789cba-0904-4f64-b28a-aa9c91b7bbf3",
   "metadata": {},
   "source": [
    "## Load an existing lattice file\n",
    "\n",
    "You can load an existing Genesis4-format Lattices input directly from a file by using `from_file`:"
   ]
  },
  {
   "cell_type": "code",
   "execution_count": null,
   "id": "4acd1721-8309-41a5-903c-927a5ed446f7",
   "metadata": {},
   "outputs": [],
   "source": [
    "lat = g4.Lattice.from_file(\"data/basic4/hxr.lat\")"
   ]
  },
  {
   "cell_type": "code",
   "execution_count": null,
   "id": "c5603eed-0e72-4d74-8405-814664f9b39d",
   "metadata": {},
   "outputs": [],
   "source": [
    "lat.elements"
   ]
  },
  {
   "cell_type": "markdown",
   "id": "241c38af-02ae-4e5c-9f74-d8386faa7e94",
   "metadata": {},
   "source": [
    "This `input` object is a convenient dataclass which contains all of the beamline elements and offers some convenience methods."
   ]
  },
  {
   "cell_type": "markdown",
   "id": "35b9b6ff-b293-42d8-9420-3cb868a32718",
   "metadata": {},
   "source": [
    "### See the Genesis4 format of the lattice"
   ]
  },
  {
   "cell_type": "markdown",
   "id": "a0e02a45-c759-4889-85ad-e49f213f2fac",
   "metadata": {},
   "source": [
    "We can see the Genesis 4 representation by looking at `lat.to_genesis()`:"
   ]
  },
  {
   "cell_type": "code",
   "execution_count": null,
   "id": "e7dfe180-e8a6-442b-bc01-405ff0526170",
   "metadata": {},
   "outputs": [],
   "source": [
    "print(lat.to_genesis())"
   ]
  },
  {
   "cell_type": "markdown",
   "id": "3468cd4b-0255-4902-a707-33a50a57b2b4",
   "metadata": {},
   "source": [
    "The lattice parser also works directly with strings if you prefer with `.from_contents`. Try the following:"
   ]
  },
  {
   "cell_type": "markdown",
   "id": "b5ac6e4d-2c0d-451b-95b7-0bbdf0248969",
   "metadata": {},
   "source": [
    "## Create a lattice from a string"
   ]
  },
  {
   "cell_type": "code",
   "execution_count": null,
   "id": "381994bc-bfa2-4b24-b454-295e05fa0d2c",
   "metadata": {},
   "outputs": [],
   "source": [
    "lat = g4.Lattice.from_contents(\n",
    "    \"\"\"\n",
    "CORR32: corrector = {l=0.001};\n",
    "CORR33: corrector = {l=0.002};\n",
    "\"\"\"\n",
    ")"
   ]
  },
  {
   "cell_type": "code",
   "execution_count": null,
   "id": "eed6b95d-a640-49df-825e-7b4d823b7be6",
   "metadata": {},
   "outputs": [],
   "source": [
    "lat"
   ]
  },
  {
   "cell_type": "markdown",
   "id": "ae5d2261-72de-4c65-ae3a-201b9af97aef",
   "metadata": {},
   "source": [
    "View the lattice in a table format:"
   ]
  },
  {
   "cell_type": "code",
   "execution_count": null,
   "id": "f5a18580-91fa-4e46-8f52-e1d9430b657c",
   "metadata": {},
   "outputs": [],
   "source": [
    "lat.to_table()"
   ]
  },
  {
   "cell_type": "markdown",
   "id": "1a19bf11-1c99-4531-b0c4-001baa48e21b",
   "metadata": {},
   "source": [
    "## Access elements of a specific type easily"
   ]
  },
  {
   "cell_type": "code",
   "execution_count": null,
   "id": "15decaed-8165-49b5-8091-4095f7418f2e",
   "metadata": {},
   "outputs": [],
   "source": [
    "lat.correctors"
   ]
  },
  {
   "cell_type": "markdown",
   "id": "da6c9c95-fe62-494b-81ac-8e440e09b6c3",
   "metadata": {},
   "source": [
    "## Create a Lattice entirely in Python"
   ]
  },
  {
   "cell_type": "code",
   "execution_count": null,
   "id": "06e7dfc7-6b41-4f2f-92ed-528f5b049563",
   "metadata": {},
   "outputs": [],
   "source": [
    "lat = g4.Lattice(\n",
    "    {\n",
    "        \"D1\": g4.Drift(L=0.44),\n",
    "        \"D2\": g4.Drift(L=0.24),\n",
    "        \"FEL\": g4.Line(elements=[\"FODO\"] * 6),\n",
    "        \"FODO\": g4.Line(\n",
    "            elements=[\"UND\", \"D1\", \"QF\", \"D2\", \"UND\", \"D1\", \"QD\", \"D2\"],\n",
    "        ),\n",
    "        \"QD\": g4.Quadrupole(L=0.08, k1=-2.0),\n",
    "        \"QF\": g4.Quadrupole(L=0.08, k1=2.0),\n",
    "        \"UND\": g4.Undulator(aw=0.84853, lambdau=0.015, nwig=266, helical=True),\n",
    "    }\n",
    ")"
   ]
  },
  {
   "cell_type": "code",
   "execution_count": null,
   "id": "6e9a654b-b143-42b6-9edb-3a6678bf844e",
   "metadata": {},
   "outputs": [],
   "source": [
    "print(lat.to_genesis())"
   ]
  },
  {
   "cell_type": "markdown",
   "id": "9b8f0ad5-fe99-4071-91cf-3c3df7fdbf14",
   "metadata": {},
   "source": [
    "You can also plot the lattice layout prior to running Genesis4:"
   ]
  },
  {
   "cell_type": "code",
   "execution_count": null,
   "id": "02ba8cca-6891-4523-bff0-19d8090c7e54",
   "metadata": {},
   "outputs": [],
   "source": [
    "lat.plot(\"FODO\")"
   ]
  },
  {
   "cell_type": "code",
   "execution_count": null,
   "id": "601ea47c-9e9b-48f0-9b03-19c0ed9e5c57",
   "metadata": {},
   "outputs": [],
   "source": [
    "lat.plot(\"FEL\", figsize=(8, 4))"
   ]
  },
  {
   "cell_type": "markdown",
   "id": "da605a70-ee7a-4179-a755-4aa0380a4b7a",
   "metadata": {},
   "source": [
    "## View detailed information about a single lattice element"
   ]
  },
  {
   "cell_type": "code",
   "execution_count": null,
   "id": "07cf87bf-33db-4b43-8e74-7bff9c165ae7",
   "metadata": {},
   "outputs": [],
   "source": [
    "lat.undulators[0].to_table()"
   ]
  }
 ],
 "metadata": {
  "kernelspec": {
   "display_name": "Python 3 (ipykernel)",
   "language": "python",
   "name": "python3"
  },
  "language_info": {
   "codemirror_mode": {
    "name": "ipython",
    "version": 3
   },
   "file_extension": ".py",
   "mimetype": "text/x-python",
   "name": "python",
   "nbconvert_exporter": "python",
   "pygments_lexer": "ipython3",
   "version": "3.12.3"
  }
 },
 "nbformat": 4,
 "nbformat_minor": 5
}
