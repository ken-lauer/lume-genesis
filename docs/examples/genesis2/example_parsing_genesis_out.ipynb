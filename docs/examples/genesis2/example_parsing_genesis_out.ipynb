{
 "cells": [
  {
   "cell_type": "code",
   "execution_count": null,
   "metadata": {},
   "outputs": [],
   "source": [
    "from genesis import parsers"
   ]
  },
  {
   "cell_type": "code",
   "execution_count": null,
   "metadata": {},
   "outputs": [],
   "source": [
    "import matplotlib.pyplot as plt\n",
    "\n",
    "%matplotlib inline\n",
    "plt.rcParams[\"figure.figsize\"] = [8, 8]\n",
    "%config InlineBackend.figure_format = 'retina'"
   ]
  },
  {
   "cell_type": "code",
   "execution_count": null,
   "metadata": {},
   "outputs": [],
   "source": [
    "fname = \"data/mod_3.out\"\n",
    "\n",
    "# This parses the entier outfile\n",
    "gout = parsers.parse_genesis_out(fname)\n",
    "\n",
    "# This is a dict of:\n",
    "gout.keys()"
   ]
  },
  {
   "cell_type": "code",
   "execution_count": null,
   "metadata": {},
   "outputs": [],
   "source": [
    "# param is the readback of the basic paramters:\n",
    "list(gout[\"param\"])[0:10]"
   ]
  },
  {
   "cell_type": "code",
   "execution_count": null,
   "metadata": {},
   "outputs": [],
   "source": [
    "# Data contains the lattice readback arrays, slice data, and possibly field and particle data\n",
    "data = gout[\"data\"]\n",
    "for k in data:\n",
    "    print(k, data[k].shape)"
   ]
  },
  {
   "cell_type": "code",
   "execution_count": null,
   "metadata": {},
   "outputs": [],
   "source": [
    "z = data[\"z\"]\n",
    "\n",
    "for i in range(len(data[\"index\"])):\n",
    "    power = data[\"power\"][i, :]\n",
    "\n",
    "    plt.plot(z, power)"
   ]
  },
  {
   "cell_type": "markdown",
   "metadata": {},
   "source": [
    "# Plotting"
   ]
  },
  {
   "cell_type": "code",
   "execution_count": null,
   "metadata": {},
   "outputs": [],
   "source": [
    "x1 = gout[\"data\"][\"z\"]\n",
    "x2 = gout[\"data\"][\"z\"]\n",
    "\n",
    "y1 = gout[\"data\"][\"aw\"]\n",
    "y2 = gout[\"data\"][\"qfld\"]\n",
    "\n",
    "plt.subplot(2, 1, 1)\n",
    "plt.plot(x1, y1, \"o-\")\n",
    "plt.title(\"Lattice\")\n",
    "plt.ylabel(\"qw\")\n",
    "\n",
    "plt.subplot(2, 1, 2)\n",
    "plt.plot(x2, y2, \".-\")\n",
    "plt.xlabel(\"z (m)\")\n",
    "plt.ylabel(\"qfld\")\n",
    "\n",
    "plt.show()"
   ]
  }
 ],
 "metadata": {
  "kernelspec": {
   "display_name": "Python 3 (ipykernel)",
   "language": "python",
   "name": "python3"
  },
  "language_info": {
   "codemirror_mode": {
    "name": "ipython",
    "version": 3
   },
   "file_extension": ".py",
   "mimetype": "text/x-python",
   "name": "python",
   "nbconvert_exporter": "python",
   "pygments_lexer": "ipython3",
   "version": "3.9.13"
  }
 },
 "nbformat": 4,
 "nbformat_minor": 4
}
