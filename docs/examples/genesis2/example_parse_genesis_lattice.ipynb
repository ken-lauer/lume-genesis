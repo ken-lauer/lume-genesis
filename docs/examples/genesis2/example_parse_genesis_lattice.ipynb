{
 "cells": [
  {
   "cell_type": "markdown",
   "metadata": {},
   "source": [
    "# Parsing original Genesis lattice into a standard lattice"
   ]
  },
  {
   "cell_type": "code",
   "execution_count": null,
   "metadata": {},
   "outputs": [],
   "source": [
    "from genesis import parsers, lattice"
   ]
  },
  {
   "cell_type": "code",
   "execution_count": null,
   "metadata": {},
   "outputs": [],
   "source": [
    "# Read a raw genesis-style lattice as elements and parameters\n",
    "genesis_lat = \"data/lcls.lat\"\n",
    "lat = parsers.parse_genesis_lattice(genesis_lat)\n",
    "lat.keys()"
   ]
  },
  {
   "cell_type": "code",
   "execution_count": null,
   "metadata": {},
   "outputs": [],
   "source": [
    "?lattice.standard_eles_from_eles"
   ]
  },
  {
   "cell_type": "code",
   "execution_count": null,
   "metadata": {},
   "outputs": [],
   "source": [
    "# Form a standard lattice from these\n",
    "lat[\"eles\"] = lattice.standard_eles_from_eles(lat[\"eles\"])\n",
    "lat[\"eles\"][:10]"
   ]
  },
  {
   "cell_type": "code",
   "execution_count": null,
   "metadata": {},
   "outputs": [],
   "source": [
    "# Invent names for these\n",
    "lattice.create_names(lat[\"eles\"])\n",
    "lat[\"eles\"][:10]"
   ]
  },
  {
   "cell_type": "code",
   "execution_count": null,
   "metadata": {},
   "outputs": [],
   "source": [
    "# Form original Genesis lattice\n",
    "lines = lattice.genesis_lattice_from_standard_lattice(lat)\n",
    "print(\"\\n\".join(lines))"
   ]
  }
 ],
 "metadata": {
  "kernelspec": {
   "display_name": "Python 3 (ipykernel)",
   "language": "python",
   "name": "python3"
  },
  "language_info": {
   "codemirror_mode": {
    "name": "ipython",
    "version": 3
   },
   "file_extension": ".py",
   "mimetype": "text/x-python",
   "name": "python",
   "nbconvert_exporter": "python",
   "pygments_lexer": "ipython3",
   "version": "3.9.13"
  }
 },
 "nbformat": 4,
 "nbformat_minor": 4
}
