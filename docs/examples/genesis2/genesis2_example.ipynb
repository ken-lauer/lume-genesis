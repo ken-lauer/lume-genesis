{
 "cells": [
  {
   "cell_type": "markdown",
   "metadata": {},
   "source": [
    "# Simple LUME-Genesis example for Genesis 1.3 Version 2 (Genesis2)"
   ]
  },
  {
   "cell_type": "code",
   "execution_count": null,
   "metadata": {},
   "outputs": [],
   "source": [
    "# Useful for debugging\n",
    "%load_ext autoreload\n",
    "%autoreload 2"
   ]
  },
  {
   "cell_type": "code",
   "execution_count": null,
   "metadata": {},
   "outputs": [],
   "source": [
    "from genesis import Genesis2\n",
    "\n",
    "# Make genesis object with some input file\n",
    "G = Genesis2(\"data/basic/genesis.in\", verbose=True)"
   ]
  },
  {
   "cell_type": "code",
   "execution_count": null,
   "metadata": {},
   "outputs": [],
   "source": [
    "# Turn on field output\n",
    "G[\"idmpfld\"] = 1\n",
    "# Turn on particle output\n",
    "G[\"idmppar\"] = 1\n",
    "G[\"npart\"] = 2048\n",
    "\n",
    "# Turn on history\n",
    "G[\"ippart\"] = 10\n",
    "G[\"ipradi\"] = 0"
   ]
  },
  {
   "cell_type": "code",
   "execution_count": null,
   "metadata": {},
   "outputs": [],
   "source": [
    "# Run genesis with default lattice\n",
    "G.run()"
   ]
  },
  {
   "cell_type": "code",
   "execution_count": null,
   "metadata": {},
   "outputs": [],
   "source": [
    "G.output[\"data\"].keys()"
   ]
  },
  {
   "cell_type": "code",
   "execution_count": null,
   "metadata": {},
   "outputs": [],
   "source": [
    "G.write_wavefront()"
   ]
  },
  {
   "cell_type": "code",
   "execution_count": null,
   "metadata": {},
   "outputs": [],
   "source": [
    "G.archive()"
   ]
  },
  {
   "cell_type": "code",
   "execution_count": null,
   "metadata": {},
   "outputs": [],
   "source": [
    "# This is the working path\n",
    "G.path"
   ]
  },
  {
   "cell_type": "code",
   "execution_count": null,
   "metadata": {},
   "outputs": [],
   "source": [
    "# Contents of this\n",
    "!ls -ahl {G.path}"
   ]
  },
  {
   "cell_type": "code",
   "execution_count": null,
   "metadata": {},
   "outputs": [],
   "source": [
    "# Get a hash of the input\n",
    "G.fingerprint()"
   ]
  },
  {
   "cell_type": "code",
   "execution_count": null,
   "metadata": {},
   "outputs": [],
   "source": [
    "# Lattice parameters\n",
    "G.lattice[\"param\"]"
   ]
  },
  {
   "cell_type": "code",
   "execution_count": null,
   "metadata": {},
   "outputs": [],
   "source": [
    "# Get a list of z from the output\n",
    "G.output.keys()"
   ]
  },
  {
   "cell_type": "code",
   "execution_count": null,
   "metadata": {},
   "outputs": [],
   "source": [
    "# These are the available data\n",
    "G.output[\"data\"].keys()"
   ]
  },
  {
   "cell_type": "code",
   "execution_count": null,
   "metadata": {},
   "outputs": [],
   "source": [
    "zlist = G.output[\"data\"][\"z\"]\n",
    "zlist.shape"
   ]
  },
  {
   "cell_type": "code",
   "execution_count": null,
   "metadata": {},
   "outputs": [],
   "source": [
    "# Get power. This is a 2d array of: slice, z\n",
    "power = G.output[\"data\"][\"power\"]\n",
    "power.shape"
   ]
  },
  {
   "cell_type": "code",
   "execution_count": null,
   "metadata": {},
   "outputs": [],
   "source": [
    "# Simpler plot\n",
    "\n",
    "import matplotlib.pyplot as plt\n",
    "\n",
    "%config InlineBackend.figure_format = 'retina'\n",
    "\n",
    "plt.xlabel(\"Z (m)\")\n",
    "plt.ylabel(\"Power (GW)\")\n",
    "\n",
    "plt.plot(zlist, power[0] / 1e9)"
   ]
  },
  {
   "cell_type": "markdown",
   "metadata": {},
   "source": [
    "# Archiving"
   ]
  },
  {
   "cell_type": "code",
   "execution_count": null,
   "metadata": {},
   "outputs": [],
   "source": [
    "afile = G.archive()"
   ]
  },
  {
   "cell_type": "code",
   "execution_count": null,
   "metadata": {},
   "outputs": [],
   "source": [
    "G2 = Genesis2()\n",
    "G2.load_archive(afile)"
   ]
  },
  {
   "cell_type": "code",
   "execution_count": null,
   "metadata": {},
   "outputs": [],
   "source": [
    "# Check that fingetprints (hash on input) are the same\n",
    "G.fingerprint() == G2.fingerprint()"
   ]
  },
  {
   "cell_type": "code",
   "execution_count": null,
   "metadata": {},
   "outputs": [],
   "source": [
    "import numpy as np\n",
    "\n",
    "\n",
    "# Check that all output data are the same\n",
    "for k in G.output[\"data\"]:\n",
    "    print(k, np.all(G.output[\"data\"][k] == G2.output[\"data\"][k]))"
   ]
  },
  {
   "cell_type": "markdown",
   "metadata": {},
   "source": [
    "# Wavefront (dfl) in openPMD-wavefront format\n",
    "\n",
    "This will write the loaded `dfl` data to a proper openPMD-wavefront file"
   ]
  },
  {
   "cell_type": "code",
   "execution_count": null,
   "metadata": {},
   "outputs": [],
   "source": [
    "wfile = G.write_wavefront()"
   ]
  },
  {
   "cell_type": "code",
   "execution_count": null,
   "metadata": {},
   "outputs": [],
   "source": [
    "# Read back\n",
    "import h5py\n",
    "\n",
    "with h5py.File(wfile, \"r\") as h5:\n",
    "    component = h5[\"data/000000/meshes/electricField/x\"]\n",
    "    E = component[:]\n",
    "    attrs = dict(component.attrs)\n",
    "\n",
    "# This is the conversion factor to the proper SI unit for electric field\n",
    "attrs"
   ]
  },
  {
   "cell_type": "code",
   "execution_count": null,
   "metadata": {},
   "outputs": [],
   "source": [
    "# Check the shapes\n",
    "E.shape"
   ]
  },
  {
   "cell_type": "code",
   "execution_count": null,
   "metadata": {},
   "outputs": [],
   "source": [
    "# Plot the phase\n",
    "%matplotlib inline\n",
    "import matplotlib.pyplot as plt\n",
    "\n",
    "plt.rcParams[\"figure.figsize\"] = [8, 8]\n",
    "\n",
    "\n",
    "ndat = np.angle(E[:, :, 0])  # Complex angle\n",
    "plt.imshow(ndat, extent=[1e3 * G[\"dgrid\"] * i for i in [-1, 1, -1, 1]])\n",
    "plt.xlabel(\"x (mm)\")\n",
    "plt.ylabel(\"y (mm)\")\n",
    "plt.show()"
   ]
  },
  {
   "cell_type": "markdown",
   "metadata": {},
   "source": [
    "# Raw particle history"
   ]
  },
  {
   "cell_type": "code",
   "execution_count": null,
   "metadata": {},
   "outputs": [],
   "source": [
    "import numpy as np\n",
    "import os"
   ]
  },
  {
   "cell_type": "code",
   "execution_count": null,
   "metadata": {},
   "outputs": [],
   "source": [
    "# gamma, phase, x, y, px/mc, py/mc\n",
    "b = G.output[\"data\"][\"par\"]"
   ]
  },
  {
   "cell_type": "code",
   "execution_count": null,
   "metadata": {},
   "outputs": [],
   "source": [
    "p = b[-1]\n",
    "plt.hist2d(\n",
    "    p[1] % (2 * np.pi), 0.511 * p[0], bins=[100, 100], cmap=plt.get_cmap(\"plasma\")\n",
    ")\n",
    "plt.xlabel(\"phase\")\n",
    "plt.ylabel(\"energy (MeV)\")\n",
    "# plt.savefig('frame.png')\n",
    "plt.show()"
   ]
  },
  {
   "cell_type": "code",
   "execution_count": null,
   "metadata": {},
   "outputs": [],
   "source": [
    "def frame(\n",
    "    i,\n",
    "):\n",
    "    p = b[i]\n",
    "    plt.hist2d(\n",
    "        p[1] % (2 * np.pi), 0.511 * p[0], bins=[200, 200], cmap=plt.get_cmap(\"plasma\")\n",
    "    )\n",
    "    plt.xlabel(\"phase\")\n",
    "    plt.ylabel(\"energy (MeV)\")\n",
    "\n",
    "\n",
    "# plt.savefig('frame_'+str(i)+'.png')\n",
    "\n",
    "frame(100)"
   ]
  },
  {
   "cell_type": "code",
   "execution_count": null,
   "metadata": {},
   "outputs": [],
   "source": [
    "# Make frames\n",
    "# for i in range(nbunch):\n",
    "#    frame(i);"
   ]
  },
  {
   "cell_type": "code",
   "execution_count": null,
   "metadata": {},
   "outputs": [],
   "source": [
    "# Make movie\n",
    "#!ffmpeg -framerate 10 -i frame_%d.png -c:v libx264 -c:a libfdk_aac output.mp4"
   ]
  },
  {
   "cell_type": "markdown",
   "metadata": {},
   "source": [
    "# Final particles\n",
    "\n",
    "If a final particle (.dpa file) data was made, this will process the internal arrays into a high-level ParticleGroup object."
   ]
  },
  {
   "cell_type": "code",
   "execution_count": null,
   "metadata": {},
   "outputs": [],
   "source": [
    "P = G.final_particles()\n",
    "P"
   ]
  },
  {
   "cell_type": "code",
   "execution_count": null,
   "metadata": {},
   "outputs": [],
   "source": [
    "P.plot(\"t\", \"energy\")"
   ]
  },
  {
   "cell_type": "markdown",
   "metadata": {},
   "source": [
    "# Cleanup"
   ]
  },
  {
   "cell_type": "code",
   "execution_count": null,
   "metadata": {},
   "outputs": [],
   "source": [
    "os.remove(afile)\n",
    "os.remove(wfile)"
   ]
  }
 ],
 "metadata": {
  "kernelspec": {
   "display_name": "Python 3 (ipykernel)",
   "language": "python",
   "name": "python3"
  },
  "language_info": {
   "codemirror_mode": {
    "name": "ipython",
    "version": 3
   },
   "file_extension": ".py",
   "mimetype": "text/x-python",
   "name": "python",
   "nbconvert_exporter": "python",
   "pygments_lexer": "ipython3",
   "version": "3.9.13"
  }
 },
 "nbformat": 4,
 "nbformat_minor": 4
}
