{
 "cells": [
  {
   "cell_type": "markdown",
   "metadata": {},
   "source": [
    "# Parsing Genesis2 Field data"
   ]
  },
  {
   "cell_type": "code",
   "execution_count": null,
   "metadata": {},
   "outputs": [],
   "source": [
    "from genesis import Genesis2, parsers\n",
    "\n",
    "import numpy as np\n",
    "import os"
   ]
  },
  {
   "cell_type": "code",
   "execution_count": null,
   "metadata": {},
   "outputs": [],
   "source": [
    "# Make some dfl, fld data\n",
    "G = Genesis2(\"data/basic/genesis.in\")\n",
    "# Turn on field output\n",
    "G[\"idmpfld\"] = 1\n",
    "# Turn on particle output\n",
    "# G['idmppar'] = 1\n",
    "G[\"npart\"] = 2048\n",
    "\n",
    "# Turn on history\n",
    "# G['ippart'] = 10\n",
    "G[\"ipradi\"] = 10\n",
    "\n",
    "G.run()"
   ]
  },
  {
   "cell_type": "code",
   "execution_count": null,
   "metadata": {},
   "outputs": [],
   "source": [
    "# These are the files written\n",
    "!ls {G.path}"
   ]
  },
  {
   "cell_type": "code",
   "execution_count": null,
   "metadata": {},
   "outputs": [],
   "source": [
    "# Change this\n",
    "# test_dir = 'path/to/your/output'\n",
    "test_dir = G.path\n",
    "\n",
    "\n",
    "out_fname = os.path.join(test_dir, \"genesis.out\")\n",
    "dfl_fname = os.path.join(test_dir, \"genesis.out.dfl\")\n",
    "fld_fname = os.path.join(test_dir, \"genesis.out.fld\")\n",
    "\n",
    "# Get parameters from .out file\n",
    "odat = parsers.parse_genesis_out(out_fname)\n",
    "params = odat[\"param\"]\n",
    "\n",
    "\n",
    "my_ncar = params[\"ncar\"]\n",
    "my_dgrid = params[\"dgrid\"]\n",
    "\n",
    "my_nz = 1"
   ]
  },
  {
   "cell_type": "code",
   "execution_count": null,
   "metadata": {},
   "outputs": [],
   "source": [
    "my_dfl = parsers.parse_genesis_dfl(dfl_fname, nx=my_ncar)\n",
    "my_dfl"
   ]
  },
  {
   "cell_type": "code",
   "execution_count": null,
   "metadata": {},
   "outputs": [],
   "source": [
    "my_fld = parsers.parse_genesis_fld(fld_fname, my_ncar, my_nz)\n",
    "my_fld[-1]"
   ]
  },
  {
   "cell_type": "markdown",
   "metadata": {},
   "source": [
    "# Plot"
   ]
  },
  {
   "cell_type": "code",
   "execution_count": null,
   "metadata": {},
   "outputs": [],
   "source": [
    "import matplotlib.pyplot as plt"
   ]
  },
  {
   "cell_type": "code",
   "execution_count": null,
   "metadata": {},
   "outputs": [],
   "source": [
    "# Field phase at end, slice 0\n",
    "def plot_field(dat, dgrid):\n",
    "    ndat = np.angle(dat)\n",
    "    plt.imshow(ndat, extent=[1000 * dgrid * i for i in [-1, 1, -1, 1]])\n",
    "    plt.xlabel(\"x (mm)\")\n",
    "    plt.ylabel(\"y (mm)\")\n",
    "    plt.show()\n",
    "\n",
    "\n",
    "plot_field(my_dfl[:, :, 0], my_dgrid)"
   ]
  },
  {
   "cell_type": "code",
   "execution_count": null,
   "metadata": {},
   "outputs": [],
   "source": [
    "# Field phrase from history file, slice 0\n",
    "plot_field(my_fld[:, :, 0, -1], my_dgrid)"
   ]
  }
 ],
 "metadata": {
  "kernelspec": {
   "display_name": "Python 3 (ipykernel)",
   "language": "python",
   "name": "python3"
  },
  "language_info": {
   "codemirror_mode": {
    "name": "ipython",
    "version": 3
   },
   "file_extension": ".py",
   "mimetype": "text/x-python",
   "name": "python",
   "nbconvert_exporter": "python",
   "pygments_lexer": "ipython3",
   "version": "3.9.13"
  }
 },
 "nbformat": 4,
 "nbformat_minor": 4
}
