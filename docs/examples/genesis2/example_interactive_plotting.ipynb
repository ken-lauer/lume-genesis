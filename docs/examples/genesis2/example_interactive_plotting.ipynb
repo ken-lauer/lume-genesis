{
 "cells": [
  {
   "cell_type": "markdown",
   "metadata": {},
   "source": [
    "# Interactive plotting example"
   ]
  },
  {
   "cell_type": "code",
   "execution_count": null,
   "metadata": {},
   "outputs": [],
   "source": [
    "# Useful for debugging\n",
    "%load_ext autoreload\n",
    "%autoreload 2"
   ]
  },
  {
   "cell_type": "markdown",
   "metadata": {},
   "source": [
    "Requires bokeh for plotting and interaction"
   ]
  },
  {
   "cell_type": "code",
   "execution_count": null,
   "metadata": {},
   "outputs": [],
   "source": [
    "from genesis import Genesis2, interactive\n",
    "from bokeh.plotting import show, output_notebook\n",
    "import os"
   ]
  },
  {
   "cell_type": "code",
   "execution_count": null,
   "metadata": {},
   "outputs": [],
   "source": [
    "G = Genesis2(\"data/basic/genesis.in\")\n",
    "\n",
    "# Turn on particle output\n",
    "G[\"idmppar\"] = 1  # .dpa file\n",
    "# Turn on field output\n",
    "G[\"idmpfld\"] = 1  # .dfl file\n",
    "G[\"npart\"] = 2048\n",
    "\n",
    "# Turn on history\n",
    "iskip = 10\n",
    "G[\"ippart\"] = (\n",
    "    iskip  # .par file  #Write the particle distribution to file at each IPPARTth integration step.\n",
    ")\n",
    "G[\"ipradi\"] = (\n",
    "    iskip  # .fld file  #Write the field distribution to file at each IPRADIth integration step.\n",
    ")\n",
    "\n",
    "dgrid = G[\"dgrid\"]"
   ]
  },
  {
   "cell_type": "code",
   "execution_count": null,
   "metadata": {},
   "outputs": [],
   "source": [
    "G.run()"
   ]
  },
  {
   "cell_type": "code",
   "execution_count": null,
   "metadata": {},
   "outputs": [],
   "source": [
    "# May be needed to get below to work\n",
    "os.environ[\"BOKEH_ALLOW_WS_ORIGIN\"] = \"localhost:8888\""
   ]
  },
  {
   "cell_type": "code",
   "execution_count": null,
   "metadata": {},
   "outputs": [],
   "source": [
    "output_notebook()\n",
    "\n",
    "\n",
    "def app(doc):\n",
    "    return interactive.genesis_interactive_field_history(doc, genesis=G)\n",
    "\n",
    "\n",
    "show(app)"
   ]
  },
  {
   "cell_type": "code",
   "execution_count": null,
   "metadata": {},
   "outputs": [],
   "source": []
  }
 ],
 "metadata": {
  "kernelspec": {
   "display_name": "Python 3 (ipykernel)",
   "language": "python",
   "name": "python3"
  },
  "language_info": {
   "codemirror_mode": {
    "name": "ipython",
    "version": 3
   },
   "file_extension": ".py",
   "mimetype": "text/x-python",
   "name": "python",
   "nbconvert_exporter": "python",
   "pygments_lexer": "ipython3",
   "version": "3.9.13"
  }
 },
 "nbformat": 4,
 "nbformat_minor": 4
}
